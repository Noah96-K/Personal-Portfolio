{
 "cells": [
  {
   "cell_type": "markdown",
   "metadata": {},
   "source": [
    "# Deep Learning for Name Gender Classification\n",
    "\n",
    "We have already seen the following code for partitioning the data of name gender classification and feature extraction. The code is changed slightly so that the labels are numerical (0 for male, 1 for female). This is the format required for Keras:"
   ]
  },
  {
   "cell_type": "code",
   "execution_count": 1,
   "metadata": {},
   "outputs": [
    {
     "name": "stderr",
     "output_type": "stream",
     "text": [
      "[nltk_data] Downloading package names to /Users/noah/nltk_data...\n",
      "[nltk_data]   Package names is already up-to-date!\n"
     ]
    }
   ],
   "source": [
    "import nltk\n",
    "nltk.download('names')\n",
    "from nltk.corpus import names\n",
    "m = names.words('male.txt')\n",
    "f = names.words('female.txt')"
   ]
  },
  {
   "cell_type": "code",
   "execution_count": 2,
   "metadata": {},
   "outputs": [],
   "source": [
    "import random\n",
    "random.seed(1234) # Set the random seed to allow replicability\n",
    "names = ([(name,0) for name in m] +\n",
    "         [(name,1) for name in f])\n",
    "random.shuffle(names)\n",
    "train_names = names[1000:]\n",
    "devtest_names = names[500:1000]\n",
    "test_names = names[:500]"
   ]
  },
  {
   "cell_type": "code",
   "execution_count": 3,
   "metadata": {},
   "outputs": [],
   "source": [
    "def one_hot_character(c):\n",
    "    alphabet = 'abcdefghijklmnopqrstuvwxyz'\n",
    "    result = [0]*(len(alphabet)+1)\n",
    "    i = alphabet.find(c.lower())\n",
    "    if i >= 0:\n",
    "        result[i] = 1\n",
    "    else:\n",
    "        result[len(alphabet)] = 1 # character is out of the alphabet\n",
    "    return result\n",
    "\n",
    "def gender_features_n(word, n=2):\n",
    "    \"Return the one-hot encodings of the last n characters\"\n",
    "    features = []\n",
    "    for i in range(n):\n",
    "        if i < len(word):\n",
    "            features = one_hot_character(word[-i-1]) + features\n",
    "        else:\n",
    "            features = one_hot_character(' ') + features\n",
    "    return features"
   ]
  },
  {
   "cell_type": "code",
   "execution_count": 6,
   "metadata": {},
   "outputs": [
    {
     "data": {
      "text/plain": [
       "[1,\n",
       " 0,\n",
       " 0,\n",
       " 0,\n",
       " 0,\n",
       " 0,\n",
       " 0,\n",
       " 0,\n",
       " 0,\n",
       " 0,\n",
       " 0,\n",
       " 0,\n",
       " 0,\n",
       " 0,\n",
       " 0,\n",
       " 0,\n",
       " 0,\n",
       " 0,\n",
       " 0,\n",
       " 0,\n",
       " 0,\n",
       " 0,\n",
       " 0,\n",
       " 0,\n",
       " 0,\n",
       " 0,\n",
       " 0]"
      ]
     },
     "execution_count": 6,
     "metadata": {},
     "output_type": "execute_result"
    }
   ],
   "source": [
    "one_hot_character('a')"
   ]
  },
  {
   "cell_type": "code",
   "execution_count": 7,
   "metadata": {},
   "outputs": [
    {
     "data": {
      "text/plain": [
       "[0,\n",
       " 0,\n",
       " 0,\n",
       " 0,\n",
       " 0,\n",
       " 0,\n",
       " 0,\n",
       " 0,\n",
       " 0,\n",
       " 0,\n",
       " 0,\n",
       " 0,\n",
       " 0,\n",
       " 0,\n",
       " 0,\n",
       " 0,\n",
       " 0,\n",
       " 0,\n",
       " 0,\n",
       " 0,\n",
       " 0,\n",
       " 0,\n",
       " 0,\n",
       " 0,\n",
       " 0,\n",
       " 1,\n",
       " 0]"
      ]
     },
     "execution_count": 7,
     "metadata": {},
     "output_type": "execute_result"
    }
   ],
   "source": [
    "one_hot_character('z')"
   ]
  },
  {
   "cell_type": "code",
   "execution_count": 8,
   "metadata": {},
   "outputs": [
    {
     "data": {
      "text/plain": [
       "27"
      ]
     },
     "execution_count": 8,
     "metadata": {},
     "output_type": "execute_result"
    }
   ],
   "source": [
    "len(one_hot_character('z'))"
   ]
  },
  {
   "cell_type": "code",
   "execution_count": 4,
   "metadata": {},
   "outputs": [
    {
     "data": {
      "text/plain": [
       "[0,\n",
       " 0,\n",
       " 0,\n",
       " 0,\n",
       " 0,\n",
       " 0,\n",
       " 0,\n",
       " 0,\n",
       " 0,\n",
       " 0,\n",
       " 0,\n",
       " 0,\n",
       " 0,\n",
       " 0,\n",
       " 0,\n",
       " 0,\n",
       " 0,\n",
       " 1,\n",
       " 0,\n",
       " 0,\n",
       " 0,\n",
       " 0,\n",
       " 0,\n",
       " 0,\n",
       " 0,\n",
       " 0,\n",
       " 0,\n",
       " 0,\n",
       " 0,\n",
       " 0,\n",
       " 0,\n",
       " 0,\n",
       " 0,\n",
       " 0,\n",
       " 0,\n",
       " 0,\n",
       " 0,\n",
       " 0,\n",
       " 0,\n",
       " 0,\n",
       " 0,\n",
       " 0,\n",
       " 0,\n",
       " 0,\n",
       " 0,\n",
       " 0,\n",
       " 0,\n",
       " 0,\n",
       " 0,\n",
       " 0,\n",
       " 0,\n",
       " 1,\n",
       " 0,\n",
       " 0]"
      ]
     },
     "execution_count": 4,
     "metadata": {},
     "output_type": "execute_result"
    }
   ],
   "source": [
    "gender_features_n(\"Mary\", n=2)"
   ]
  },
  {
   "cell_type": "code",
   "execution_count": 5,
   "metadata": {},
   "outputs": [
    {
     "data": {
      "text/plain": [
       "54"
      ]
     },
     "execution_count": 5,
     "metadata": {},
     "output_type": "execute_result"
    }
   ],
   "source": [
    "# Let's determine the number of features so that we can use this information when we design the neural network\n",
    "len(gender_features_n(\"Mary\", n=2))"
   ]
  },
  {
   "cell_type": "markdown",
   "metadata": {},
   "source": [
    "## Exercise: Simple Neural Network\n",
    "Design a simple neural network that has 54 input cells (that's the number of gender features for $n=2$, as we have seen above), and one output cell (without a hidden layer). The output cell will be used to classify the name between male (output=0) and female (output=1). This is therefore an instance of **binary classification**.\n",
    "\n",
    "This simple model, without hidden layers, is equivalent to a **logistic regression** classifier. The model summary should look like this:\n",
    "\n",
    "```\n",
    "Layer (type)                 Output Shape              Param #   \n",
    "=================================================================\n",
    "dense_2 (Dense)              (None, 1)                 55        \n",
    "=================================================================\n",
    "Total params: 55\n",
    "Trainable params: 55\n",
    "Non-trainable params: 0\n",
    "```\n",
    "\n",
    "\n",
    "Compile the model and provide the right loss function. Use `'rmsprop'` as the optimiser, and include `'accuracy'` as an evaluation metric. \n",
    "Run the network **for 100 epochs** using batch size of 100, and observe the results. \n",
    "\n",
    "Answer the following questions:\n",
    "\n",
    "1. What is the best result on the validation set?\n",
    "2. At the epoch with best result on the validation set, what is the result on the training set?\n",
    "3. Is the system overfitting? Justify your answer.\n",
    "4. Do we really need 100 epochs? Do we need more than 100 epochs? would the system run better with less epochs?"
   ]
  },
  {
   "cell_type": "code",
   "execution_count": 9,
   "metadata": {},
   "outputs": [
    {
     "name": "stdout",
     "output_type": "stream",
     "text": [
      "\u001b[31mERROR: Could not find a version that satisfies the requirement tensorflow (from versions: none)\u001b[0m\u001b[31m\r\n",
      "\u001b[0m\u001b[31mERROR: No matching distribution found for tensorflow\u001b[0m\u001b[31m\r\n",
      "\u001b[0m"
     ]
    }
   ],
   "source": [
    "!pip install tensorflow"
   ]
  },
  {
   "cell_type": "code",
   "execution_count": 55,
   "metadata": {},
   "outputs": [
    {
     "data": {
      "text/plain": [
       "[PhysicalDevice(name='/physical_device:CPU:0', device_type='CPU'),\n",
       " PhysicalDevice(name='/physical_device:GPU:0', device_type='GPU')]"
      ]
     },
     "execution_count": 55,
     "metadata": {},
     "output_type": "execute_result"
    }
   ],
   "source": [
    "import tensorflow as tf\n",
    "tf.config.experimental.list_physical_devices()"
   ]
  },
  {
   "cell_type": "code",
   "execution_count": 56,
   "metadata": {},
   "outputs": [
    {
     "name": "stderr",
     "output_type": "stream",
     "text": [
      "2022-04-12 14:20:09.835536: I tensorflow/core/common_runtime/pluggable_device/pluggable_device_factory.cc:305] Could not identify NUMA node of platform GPU ID 0, defaulting to 0. Your kernel may not have been built with NUMA support.\n",
      "2022-04-12 14:20:09.835573: I tensorflow/core/common_runtime/pluggable_device/pluggable_device_factory.cc:271] Created TensorFlow device (/job:localhost/replica:0/task:0/device:GPU:0 with 0 MB memory) -> physical PluggableDevice (device: 0, name: METAL, pci bus id: <undefined>)\n",
      "/Users/noah/miniforge3/lib/python3.9/site-packages/tensorflow/python/client/session.py:1768: UserWarning: An interactive session is already active. This can cause out-of-memory errors in some cases. You must explicitly call `InteractiveSession.close()` to release resources held by the other session(s).\n",
      "  warnings.warn('An interactive session is already active. This can '\n"
     ]
    }
   ],
   "source": [
    "from tensorflow.compat.v1 import ConfigProto\n",
    "from tensorflow.compat.v1 import InteractiveSession\n",
    "\n",
    "config = ConfigProto()\n",
    "config.gpu_options.allow_growth = True\n",
    "session = InteractiveSession(config=config)"
   ]
  },
  {
   "cell_type": "code",
   "execution_count": 57,
   "metadata": {},
   "outputs": [],
   "source": [
    "import numpy as np\n",
    "from tensorflow.keras import models\n",
    "from tensorflow.keras import layers"
   ]
  },
  {
   "cell_type": "code",
   "execution_count": 58,
   "metadata": {},
   "outputs": [],
   "source": [
    "model = models.Sequential()\n",
    "model.add(layers.Dense(1, activation='sigmoid',input_shape=(54,)))"
   ]
  },
  {
   "cell_type": "code",
   "execution_count": 59,
   "metadata": {},
   "outputs": [],
   "source": [
    "from tensorflow.keras import optimizers\n",
    "model.compile(optimizer='rmsprop',\n",
    "              loss='binary_crossentropy',\n",
    "              metrics=['accuracy'])"
   ]
  },
  {
   "cell_type": "code",
   "execution_count": 60,
   "metadata": {},
   "outputs": [
    {
     "name": "stdout",
     "output_type": "stream",
     "text": [
      "Model: \"sequential_11\"\n",
      "_________________________________________________________________\n",
      " Layer (type)                Output Shape              Param #   \n",
      "=================================================================\n",
      " dense_12 (Dense)            (None, 1)                 55        \n",
      "                                                                 \n",
      "=================================================================\n",
      "Total params: 55\n",
      "Trainable params: 55\n",
      "Non-trainable params: 0\n",
      "_________________________________________________________________\n"
     ]
    }
   ],
   "source": [
    "model.summary()"
   ]
  },
  {
   "cell_type": "code",
   "execution_count": 61,
   "metadata": {},
   "outputs": [],
   "source": [
    "train_data = np.array([gender_features_n(name, n=2) for name, label in train_names])\n",
    "train_labels = np.array([label for name, label in train_names])\n",
    "\n",
    "devtest_data = np.array([gender_features_n(name, n=2) for name, label in devtest_names])\n",
    "devtest_labels = np.array([label for name, label in devtest_names])\n",
    "\n",
    "test_data = np.array([gender_features_n(name, n=2) for name, label in test_names])\n",
    "test_labels = np.array([name for name, label in test_names])"
   ]
  },
  {
   "cell_type": "code",
   "execution_count": 62,
   "metadata": {
    "scrolled": false
   },
   "outputs": [
    {
     "name": "stdout",
     "output_type": "stream",
     "text": [
      "Epoch 1/100\n"
     ]
    },
    {
     "name": "stderr",
     "output_type": "stream",
     "text": [
      "2022-04-12 14:23:55.716747: W tensorflow/core/platform/profile_utils/cpu_utils.cc:128] Failed to get CPU frequency: 0 Hz\n",
      "2022-04-12 14:23:55.860790: I tensorflow/core/grappler/optimizers/custom_graph_optimizer_registry.cc:113] Plugin optimizer for device_type GPU is enabled.\n"
     ]
    },
    {
     "name": "stdout",
     "output_type": "stream",
     "text": [
      "70/70 [==============================] - 1s 6ms/step - loss: 0.7462 - accuracy: 0.3907 - val_loss: 0.7294 - val_accuracy: 0.4140\n",
      "Epoch 2/100\n",
      "24/70 [=========>....................] - ETA: 0s - loss: 0.7168 - accuracy: 0.4379"
     ]
    },
    {
     "name": "stderr",
     "output_type": "stream",
     "text": [
      "2022-04-12 14:23:56.922278: I tensorflow/core/grappler/optimizers/custom_graph_optimizer_registry.cc:113] Plugin optimizer for device_type GPU is enabled.\n"
     ]
    },
    {
     "name": "stdout",
     "output_type": "stream",
     "text": [
      "70/70 [==============================] - 0s 5ms/step - loss: 0.7085 - accuracy: 0.4533 - val_loss: 0.6961 - val_accuracy: 0.4960\n",
      "Epoch 3/100\n",
      "70/70 [==============================] - 0s 4ms/step - loss: 0.6774 - accuracy: 0.5660 - val_loss: 0.6681 - val_accuracy: 0.6580\n",
      "Epoch 4/100\n",
      "70/70 [==============================] - 0s 4ms/step - loss: 0.6503 - accuracy: 0.6789 - val_loss: 0.6441 - val_accuracy: 0.6860\n",
      "Epoch 5/100\n",
      "70/70 [==============================] - 0s 4ms/step - loss: 0.6274 - accuracy: 0.6987 - val_loss: 0.6244 - val_accuracy: 0.6900\n",
      "Epoch 6/100\n",
      "70/70 [==============================] - 0s 5ms/step - loss: 0.6090 - accuracy: 0.7041 - val_loss: 0.6087 - val_accuracy: 0.6880\n",
      "Epoch 7/100\n",
      "70/70 [==============================] - 0s 5ms/step - loss: 0.5934 - accuracy: 0.7059 - val_loss: 0.5956 - val_accuracy: 0.6860\n",
      "Epoch 8/100\n",
      "70/70 [==============================] - 0s 4ms/step - loss: 0.5802 - accuracy: 0.7094 - val_loss: 0.5845 - val_accuracy: 0.7020\n",
      "Epoch 9/100\n",
      "70/70 [==============================] - 0s 4ms/step - loss: 0.5686 - accuracy: 0.7189 - val_loss: 0.5748 - val_accuracy: 0.7040\n",
      "Epoch 10/100\n",
      "70/70 [==============================] - 0s 4ms/step - loss: 0.5583 - accuracy: 0.7195 - val_loss: 0.5664 - val_accuracy: 0.7120\n",
      "Epoch 11/100\n",
      "70/70 [==============================] - 0s 4ms/step - loss: 0.5490 - accuracy: 0.7265 - val_loss: 0.5586 - val_accuracy: 0.7200\n",
      "Epoch 12/100\n",
      "70/70 [==============================] - 0s 5ms/step - loss: 0.5406 - accuracy: 0.7366 - val_loss: 0.5518 - val_accuracy: 0.7200\n",
      "Epoch 13/100\n",
      "70/70 [==============================] - 0s 5ms/step - loss: 0.5329 - accuracy: 0.7408 - val_loss: 0.5456 - val_accuracy: 0.7260\n",
      "Epoch 14/100\n",
      "70/70 [==============================] - 0s 4ms/step - loss: 0.5260 - accuracy: 0.7427 - val_loss: 0.5400 - val_accuracy: 0.7260\n",
      "Epoch 15/100\n",
      "70/70 [==============================] - 0s 4ms/step - loss: 0.5196 - accuracy: 0.7405 - val_loss: 0.5349 - val_accuracy: 0.7180\n",
      "Epoch 16/100\n",
      "70/70 [==============================] - 0s 5ms/step - loss: 0.5139 - accuracy: 0.7450 - val_loss: 0.5304 - val_accuracy: 0.7180\n",
      "Epoch 17/100\n",
      "70/70 [==============================] - 0s 5ms/step - loss: 0.5086 - accuracy: 0.7455 - val_loss: 0.5261 - val_accuracy: 0.7220\n",
      "Epoch 18/100\n",
      "70/70 [==============================] - 0s 5ms/step - loss: 0.5037 - accuracy: 0.7463 - val_loss: 0.5222 - val_accuracy: 0.7240\n",
      "Epoch 19/100\n",
      "70/70 [==============================] - 0s 5ms/step - loss: 0.4991 - accuracy: 0.7491 - val_loss: 0.5187 - val_accuracy: 0.7220\n",
      "Epoch 20/100\n",
      "70/70 [==============================] - 0s 5ms/step - loss: 0.4950 - accuracy: 0.7490 - val_loss: 0.5155 - val_accuracy: 0.7180\n",
      "Epoch 21/100\n",
      "70/70 [==============================] - 0s 4ms/step - loss: 0.4911 - accuracy: 0.7527 - val_loss: 0.5125 - val_accuracy: 0.7180\n",
      "Epoch 22/100\n",
      "70/70 [==============================] - 0s 4ms/step - loss: 0.4875 - accuracy: 0.7546 - val_loss: 0.5097 - val_accuracy: 0.7240\n",
      "Epoch 23/100\n",
      "70/70 [==============================] - 0s 5ms/step - loss: 0.4842 - accuracy: 0.7571 - val_loss: 0.5072 - val_accuracy: 0.7320\n",
      "Epoch 24/100\n",
      "70/70 [==============================] - 0s 4ms/step - loss: 0.4811 - accuracy: 0.7582 - val_loss: 0.5049 - val_accuracy: 0.7320\n",
      "Epoch 25/100\n",
      "70/70 [==============================] - 0s 4ms/step - loss: 0.4782 - accuracy: 0.7582 - val_loss: 0.5027 - val_accuracy: 0.7320\n",
      "Epoch 26/100\n",
      "70/70 [==============================] - 0s 5ms/step - loss: 0.4755 - accuracy: 0.7578 - val_loss: 0.5006 - val_accuracy: 0.7360\n",
      "Epoch 27/100\n",
      "70/70 [==============================] - 0s 4ms/step - loss: 0.4730 - accuracy: 0.7588 - val_loss: 0.4988 - val_accuracy: 0.7340\n",
      "Epoch 28/100\n",
      "70/70 [==============================] - 0s 5ms/step - loss: 0.4707 - accuracy: 0.7594 - val_loss: 0.4972 - val_accuracy: 0.7340\n",
      "Epoch 29/100\n",
      "70/70 [==============================] - 0s 5ms/step - loss: 0.4686 - accuracy: 0.7601 - val_loss: 0.4955 - val_accuracy: 0.7360\n",
      "Epoch 30/100\n",
      "70/70 [==============================] - 0s 5ms/step - loss: 0.4665 - accuracy: 0.7607 - val_loss: 0.4941 - val_accuracy: 0.7400\n",
      "Epoch 31/100\n",
      "70/70 [==============================] - 0s 5ms/step - loss: 0.4646 - accuracy: 0.7618 - val_loss: 0.4927 - val_accuracy: 0.7400\n",
      "Epoch 32/100\n",
      "70/70 [==============================] - 0s 5ms/step - loss: 0.4629 - accuracy: 0.7624 - val_loss: 0.4914 - val_accuracy: 0.7420\n",
      "Epoch 33/100\n",
      "70/70 [==============================] - 0s 5ms/step - loss: 0.4612 - accuracy: 0.7634 - val_loss: 0.4903 - val_accuracy: 0.7460\n",
      "Epoch 34/100\n",
      "70/70 [==============================] - 0s 5ms/step - loss: 0.4597 - accuracy: 0.7647 - val_loss: 0.4892 - val_accuracy: 0.7500\n",
      "Epoch 35/100\n",
      "70/70 [==============================] - 0s 5ms/step - loss: 0.4583 - accuracy: 0.7667 - val_loss: 0.4882 - val_accuracy: 0.7500\n",
      "Epoch 36/100\n",
      "70/70 [==============================] - 0s 5ms/step - loss: 0.4570 - accuracy: 0.7667 - val_loss: 0.4873 - val_accuracy: 0.7500\n",
      "Epoch 37/100\n",
      "70/70 [==============================] - 0s 4ms/step - loss: 0.4558 - accuracy: 0.7666 - val_loss: 0.4865 - val_accuracy: 0.7500\n",
      "Epoch 38/100\n",
      "70/70 [==============================] - 0s 5ms/step - loss: 0.4547 - accuracy: 0.7663 - val_loss: 0.4858 - val_accuracy: 0.7500\n",
      "Epoch 39/100\n",
      "70/70 [==============================] - 0s 5ms/step - loss: 0.4536 - accuracy: 0.7663 - val_loss: 0.4851 - val_accuracy: 0.7500\n",
      "Epoch 40/100\n",
      "70/70 [==============================] - 0s 5ms/step - loss: 0.4527 - accuracy: 0.7667 - val_loss: 0.4845 - val_accuracy: 0.7520\n",
      "Epoch 41/100\n",
      "70/70 [==============================] - 0s 5ms/step - loss: 0.4518 - accuracy: 0.7680 - val_loss: 0.4839 - val_accuracy: 0.7520\n",
      "Epoch 42/100\n",
      "70/70 [==============================] - 0s 4ms/step - loss: 0.4509 - accuracy: 0.7673 - val_loss: 0.4834 - val_accuracy: 0.7520\n",
      "Epoch 43/100\n",
      "70/70 [==============================] - 0s 5ms/step - loss: 0.4501 - accuracy: 0.7676 - val_loss: 0.4829 - val_accuracy: 0.7540\n",
      "Epoch 44/100\n",
      "70/70 [==============================] - 0s 4ms/step - loss: 0.4494 - accuracy: 0.7670 - val_loss: 0.4825 - val_accuracy: 0.7580\n",
      "Epoch 45/100\n",
      "70/70 [==============================] - 0s 4ms/step - loss: 0.4487 - accuracy: 0.7668 - val_loss: 0.4822 - val_accuracy: 0.7580\n",
      "Epoch 46/100\n",
      "70/70 [==============================] - 0s 5ms/step - loss: 0.4481 - accuracy: 0.7702 - val_loss: 0.4818 - val_accuracy: 0.7580\n",
      "Epoch 47/100\n",
      "70/70 [==============================] - 0s 5ms/step - loss: 0.4475 - accuracy: 0.7720 - val_loss: 0.4814 - val_accuracy: 0.7580\n",
      "Epoch 48/100\n",
      "70/70 [==============================] - 0s 4ms/step - loss: 0.4469 - accuracy: 0.7700 - val_loss: 0.4812 - val_accuracy: 0.7580\n",
      "Epoch 49/100\n",
      "70/70 [==============================] - 0s 4ms/step - loss: 0.4464 - accuracy: 0.7667 - val_loss: 0.4809 - val_accuracy: 0.7600\n",
      "Epoch 50/100\n",
      "70/70 [==============================] - 0s 5ms/step - loss: 0.4460 - accuracy: 0.7715 - val_loss: 0.4807 - val_accuracy: 0.7620\n",
      "Epoch 51/100\n",
      "70/70 [==============================] - 0s 4ms/step - loss: 0.4455 - accuracy: 0.7722 - val_loss: 0.4805 - val_accuracy: 0.7620\n",
      "Epoch 52/100\n",
      "70/70 [==============================] - 0s 5ms/step - loss: 0.4452 - accuracy: 0.7726 - val_loss: 0.4804 - val_accuracy: 0.7620\n",
      "Epoch 53/100\n",
      "70/70 [==============================] - 0s 5ms/step - loss: 0.4448 - accuracy: 0.7723 - val_loss: 0.4802 - val_accuracy: 0.7620\n",
      "Epoch 54/100\n",
      "70/70 [==============================] - 0s 5ms/step - loss: 0.4444 - accuracy: 0.7746 - val_loss: 0.4800 - val_accuracy: 0.7580\n",
      "Epoch 55/100\n",
      "70/70 [==============================] - 0s 5ms/step - loss: 0.4441 - accuracy: 0.7748 - val_loss: 0.4798 - val_accuracy: 0.7580\n",
      "Epoch 56/100\n",
      "70/70 [==============================] - 0s 5ms/step - loss: 0.4438 - accuracy: 0.7745 - val_loss: 0.4797 - val_accuracy: 0.7600\n",
      "Epoch 57/100\n",
      "70/70 [==============================] - 0s 5ms/step - loss: 0.4435 - accuracy: 0.7751 - val_loss: 0.4796 - val_accuracy: 0.7600\n",
      "Epoch 58/100\n",
      "70/70 [==============================] - 0s 5ms/step - loss: 0.4433 - accuracy: 0.7753 - val_loss: 0.4795 - val_accuracy: 0.7600\n",
      "Epoch 59/100\n",
      "70/70 [==============================] - 0s 5ms/step - loss: 0.4430 - accuracy: 0.7755 - val_loss: 0.4794 - val_accuracy: 0.7660\n"
     ]
    },
    {
     "name": "stdout",
     "output_type": "stream",
     "text": [
      "Epoch 60/100\n",
      "70/70 [==============================] - 0s 4ms/step - loss: 0.4428 - accuracy: 0.7771 - val_loss: 0.4793 - val_accuracy: 0.7660\n",
      "Epoch 61/100\n",
      "70/70 [==============================] - 0s 5ms/step - loss: 0.4426 - accuracy: 0.7782 - val_loss: 0.4793 - val_accuracy: 0.7660\n",
      "Epoch 62/100\n",
      "70/70 [==============================] - 0s 5ms/step - loss: 0.4424 - accuracy: 0.7787 - val_loss: 0.4793 - val_accuracy: 0.7660\n",
      "Epoch 63/100\n",
      "70/70 [==============================] - 0s 5ms/step - loss: 0.4422 - accuracy: 0.7782 - val_loss: 0.4792 - val_accuracy: 0.7660\n",
      "Epoch 64/100\n",
      "70/70 [==============================] - 0s 5ms/step - loss: 0.4420 - accuracy: 0.7784 - val_loss: 0.4792 - val_accuracy: 0.7660\n",
      "Epoch 65/100\n",
      "70/70 [==============================] - 0s 5ms/step - loss: 0.4418 - accuracy: 0.7789 - val_loss: 0.4790 - val_accuracy: 0.7660\n",
      "Epoch 66/100\n",
      "70/70 [==============================] - 0s 5ms/step - loss: 0.4417 - accuracy: 0.7792 - val_loss: 0.4790 - val_accuracy: 0.7660\n",
      "Epoch 67/100\n",
      "70/70 [==============================] - 0s 5ms/step - loss: 0.4415 - accuracy: 0.7791 - val_loss: 0.4789 - val_accuracy: 0.7660\n",
      "Epoch 68/100\n",
      "70/70 [==============================] - 0s 4ms/step - loss: 0.4414 - accuracy: 0.7807 - val_loss: 0.4789 - val_accuracy: 0.7660\n",
      "Epoch 69/100\n",
      "70/70 [==============================] - 0s 4ms/step - loss: 0.4412 - accuracy: 0.7797 - val_loss: 0.4789 - val_accuracy: 0.7700\n",
      "Epoch 70/100\n",
      "70/70 [==============================] - 0s 4ms/step - loss: 0.4411 - accuracy: 0.7825 - val_loss: 0.4788 - val_accuracy: 0.7700\n",
      "Epoch 71/100\n",
      "70/70 [==============================] - 0s 4ms/step - loss: 0.4410 - accuracy: 0.7821 - val_loss: 0.4788 - val_accuracy: 0.7700\n",
      "Epoch 72/100\n",
      "70/70 [==============================] - 0s 4ms/step - loss: 0.4409 - accuracy: 0.7857 - val_loss: 0.4788 - val_accuracy: 0.7700\n",
      "Epoch 73/100\n",
      "70/70 [==============================] - 0s 4ms/step - loss: 0.4408 - accuracy: 0.7849 - val_loss: 0.4788 - val_accuracy: 0.7700\n",
      "Epoch 74/100\n",
      "70/70 [==============================] - 0s 4ms/step - loss: 0.4407 - accuracy: 0.7830 - val_loss: 0.4787 - val_accuracy: 0.7780\n",
      "Epoch 75/100\n",
      "70/70 [==============================] - 0s 5ms/step - loss: 0.4406 - accuracy: 0.7849 - val_loss: 0.4788 - val_accuracy: 0.7700\n",
      "Epoch 76/100\n",
      "70/70 [==============================] - 0s 4ms/step - loss: 0.4404 - accuracy: 0.7851 - val_loss: 0.4788 - val_accuracy: 0.7700\n",
      "Epoch 77/100\n",
      "70/70 [==============================] - 0s 4ms/step - loss: 0.4404 - accuracy: 0.7840 - val_loss: 0.4789 - val_accuracy: 0.7700\n",
      "Epoch 78/100\n",
      "70/70 [==============================] - 0s 4ms/step - loss: 0.4403 - accuracy: 0.7841 - val_loss: 0.4789 - val_accuracy: 0.7700\n",
      "Epoch 79/100\n",
      "70/70 [==============================] - 0s 4ms/step - loss: 0.4402 - accuracy: 0.7828 - val_loss: 0.4788 - val_accuracy: 0.7700\n",
      "Epoch 80/100\n",
      "70/70 [==============================] - 0s 4ms/step - loss: 0.4401 - accuracy: 0.7836 - val_loss: 0.4788 - val_accuracy: 0.7780\n",
      "Epoch 81/100\n",
      "70/70 [==============================] - 0s 5ms/step - loss: 0.4400 - accuracy: 0.7869 - val_loss: 0.4788 - val_accuracy: 0.7780\n",
      "Epoch 82/100\n",
      "70/70 [==============================] - 0s 4ms/step - loss: 0.4400 - accuracy: 0.7853 - val_loss: 0.4787 - val_accuracy: 0.7780\n",
      "Epoch 83/100\n",
      "70/70 [==============================] - 0s 5ms/step - loss: 0.4399 - accuracy: 0.7843 - val_loss: 0.4788 - val_accuracy: 0.7700\n",
      "Epoch 84/100\n",
      "70/70 [==============================] - 0s 4ms/step - loss: 0.4398 - accuracy: 0.7867 - val_loss: 0.4788 - val_accuracy: 0.7700\n",
      "Epoch 85/100\n",
      "70/70 [==============================] - 0s 4ms/step - loss: 0.4398 - accuracy: 0.7870 - val_loss: 0.4788 - val_accuracy: 0.7700\n",
      "Epoch 86/100\n",
      "70/70 [==============================] - 0s 4ms/step - loss: 0.4397 - accuracy: 0.7857 - val_loss: 0.4788 - val_accuracy: 0.7700\n",
      "Epoch 87/100\n",
      "70/70 [==============================] - 0s 4ms/step - loss: 0.4396 - accuracy: 0.7861 - val_loss: 0.4789 - val_accuracy: 0.7700\n",
      "Epoch 88/100\n",
      "70/70 [==============================] - 0s 5ms/step - loss: 0.4396 - accuracy: 0.7841 - val_loss: 0.4788 - val_accuracy: 0.7700\n",
      "Epoch 89/100\n",
      "70/70 [==============================] - 0s 5ms/step - loss: 0.4395 - accuracy: 0.7840 - val_loss: 0.4788 - val_accuracy: 0.7700\n",
      "Epoch 90/100\n",
      "70/70 [==============================] - 0s 5ms/step - loss: 0.4395 - accuracy: 0.7846 - val_loss: 0.4788 - val_accuracy: 0.7700\n",
      "Epoch 91/100\n",
      "70/70 [==============================] - 0s 4ms/step - loss: 0.4394 - accuracy: 0.7872 - val_loss: 0.4787 - val_accuracy: 0.7700\n",
      "Epoch 92/100\n",
      "70/70 [==============================] - 0s 4ms/step - loss: 0.4394 - accuracy: 0.7837 - val_loss: 0.4788 - val_accuracy: 0.7700\n",
      "Epoch 93/100\n",
      "70/70 [==============================] - 0s 5ms/step - loss: 0.4394 - accuracy: 0.7847 - val_loss: 0.4788 - val_accuracy: 0.7700\n",
      "Epoch 94/100\n",
      "70/70 [==============================] - 0s 4ms/step - loss: 0.4393 - accuracy: 0.7860 - val_loss: 0.4788 - val_accuracy: 0.7700\n",
      "Epoch 95/100\n",
      "70/70 [==============================] - 0s 4ms/step - loss: 0.4393 - accuracy: 0.7844 - val_loss: 0.4788 - val_accuracy: 0.7700\n",
      "Epoch 96/100\n",
      "70/70 [==============================] - 0s 4ms/step - loss: 0.4392 - accuracy: 0.7843 - val_loss: 0.4787 - val_accuracy: 0.7700\n",
      "Epoch 97/100\n",
      "70/70 [==============================] - 0s 4ms/step - loss: 0.4392 - accuracy: 0.7841 - val_loss: 0.4786 - val_accuracy: 0.7780\n",
      "Epoch 98/100\n",
      "70/70 [==============================] - 0s 4ms/step - loss: 0.4391 - accuracy: 0.7870 - val_loss: 0.4787 - val_accuracy: 0.7700\n",
      "Epoch 99/100\n",
      "70/70 [==============================] - 0s 4ms/step - loss: 0.4391 - accuracy: 0.7844 - val_loss: 0.4787 - val_accuracy: 0.7700\n",
      "Epoch 100/100\n",
      "70/70 [==============================] - 0s 5ms/step - loss: 0.4391 - accuracy: 0.7853 - val_loss: 0.4787 - val_accuracy: 0.7700\n"
     ]
    }
   ],
   "source": [
    "history = model.fit(np.array(train_data),\n",
    "                    train_labels,\n",
    "                    epochs=100,\n",
    "                    batch_size=100,\n",
    "                    validation_data=(devtest_data, devtest_labels))"
   ]
  },
  {
   "cell_type": "code",
   "execution_count": 64,
   "metadata": {},
   "outputs": [
    {
     "data": {
      "text/plain": [
       "dict_keys(['loss', 'accuracy', 'val_loss', 'val_accuracy'])"
      ]
     },
     "execution_count": 64,
     "metadata": {},
     "output_type": "execute_result"
    }
   ],
   "source": [
    "history.history.keys()"
   ]
  },
  {
   "cell_type": "code",
   "execution_count": 65,
   "metadata": {},
   "outputs": [
    {
     "data": {
      "image/png": "[encoded data removed]",
      "text/plain": [
       "<Figure size 432x288 with 1 Axes>"
      ]
     },
     "metadata": {
      "needs_background": "light"
     },
     "output_type": "display_data"
    }
   ],
   "source": [
    "%matplotlib inline\n",
    "import matplotlib.pyplot as plt\n",
    "\n",
    "def plot_history(history):\n",
    "    acc = history.history['accuracy']\n",
    "    val_acc = history.history['val_accuracy']\n",
    "    loss = history.history['loss']\n",
    "    val_loss = history.history['val_loss']\n",
    "\n",
    "    epochs = range(1, len(acc) + 1)\n",
    "\n",
    "    # \"bo\" is for \"blue dot\"\n",
    "    plt.plot(epochs, acc, 'bo', label='Training accuracy')\n",
    "    # b is for \"solid blue line\"\n",
    "    plt.plot(epochs, val_acc, 'b', label='Validation accuracy')\n",
    "    plt.title('Training and validation accuracy')\n",
    "    plt.xlabel('Epochs')\n",
    "    plt.ylabel('Accuracy')\n",
    "    plt.legend()\n",
    "\n",
    "    plt.show()\n",
    "    \n",
    "plot_history(history)"
   ]
  },
  {
   "cell_type": "markdown",
   "metadata": {},
   "source": [
    "*(Accuracy at the devtest set stalls at 70 epochs so we could have stopped there. At that point, accuracy is 0.77 whereas accuracy at train set is 0.7795. The difference is rather small, so it seems there is virtually no overfitting*)."
   ]
  },
  {
   "cell_type": "markdown",
   "metadata": {},
   "source": [
    "## Exercise: A Deeper Network\n",
    "Experiment with a network that has one hidden dense layer with a `'relu'` activation. The resulting system is no longer a logistic regression classifier, it's something more complex. Try the following sizes in the hidden layer:\n",
    "\n",
    "* 5, 7, 10\n",
    "\n",
    "Answer the following questions:\n",
    "\n",
    "1. Which system performed best on the dev-test set?\n",
    "2. Would you add more or less cells in the hidden layer? Justify your answer.\n",
    "3. Is this system better than the simpler system of the previous exercise? Justify your answer."
   ]
  },
  {
   "cell_type": "code",
   "execution_count": 66,
   "metadata": {},
   "outputs": [],
   "source": [
    "model = models.Sequential()\n",
    "model.add(layers.Dense(5, activation='relu'))\n",
    "model.add(layers.Dense(1, activation='sigmoid'))\n",
    "model.compile(optimizer='rmsprop',\n",
    "              loss='binary_crossentropy',\n",
    "              metrics=['accuracy'])"
   ]
  },
  {
   "cell_type": "code",
   "execution_count": 67,
   "metadata": {},
   "outputs": [
    {
     "name": "stdout",
     "output_type": "stream",
     "text": [
      "Epoch 1/100\n"
     ]
    },
    {
     "name": "stderr",
     "output_type": "stream",
     "text": [
      "2022-04-12 14:25:42.772778: I tensorflow/core/grappler/optimizers/custom_graph_optimizer_registry.cc:113] Plugin optimizer for device_type GPU is enabled.\n"
     ]
    },
    {
     "name": "stdout",
     "output_type": "stream",
     "text": [
      "70/70 [==============================] - 1s 7ms/step - loss: 0.6891 - accuracy: 0.5376 - val_loss: 0.6757 - val_accuracy: 0.6100\n",
      "Epoch 2/100\n",
      "21/70 [========>.....................] - ETA: 0s - loss: 0.6737 - accuracy: 0.6352"
     ]
    },
    {
     "name": "stderr",
     "output_type": "stream",
     "text": [
      "2022-04-12 14:25:43.648657: I tensorflow/core/grappler/optimizers/custom_graph_optimizer_registry.cc:113] Plugin optimizer for device_type GPU is enabled.\n"
     ]
    },
    {
     "name": "stdout",
     "output_type": "stream",
     "text": [
      "70/70 [==============================] - 0s 5ms/step - loss: 0.6642 - accuracy: 0.6560 - val_loss: 0.6535 - val_accuracy: 0.6620\n",
      "Epoch 3/100\n",
      "70/70 [==============================] - 0s 5ms/step - loss: 0.6427 - accuracy: 0.6574 - val_loss: 0.6322 - val_accuracy: 0.6620\n",
      "Epoch 4/100\n",
      "70/70 [==============================] - 0s 6ms/step - loss: 0.6204 - accuracy: 0.6610 - val_loss: 0.6110 - val_accuracy: 0.6620\n",
      "Epoch 5/100\n",
      "70/70 [==============================] - 0s 6ms/step - loss: 0.5973 - accuracy: 0.6897 - val_loss: 0.5899 - val_accuracy: 0.6860\n",
      "Epoch 6/100\n",
      "70/70 [==============================] - 0s 5ms/step - loss: 0.5741 - accuracy: 0.7107 - val_loss: 0.5683 - val_accuracy: 0.6960\n",
      "Epoch 7/100\n",
      "70/70 [==============================] - 0s 5ms/step - loss: 0.5511 - accuracy: 0.7313 - val_loss: 0.5482 - val_accuracy: 0.7220\n",
      "Epoch 8/100\n",
      "70/70 [==============================] - 0s 5ms/step - loss: 0.5291 - accuracy: 0.7431 - val_loss: 0.5302 - val_accuracy: 0.7400\n",
      "Epoch 9/100\n",
      "70/70 [==============================] - 0s 6ms/step - loss: 0.5093 - accuracy: 0.7543 - val_loss: 0.5152 - val_accuracy: 0.7520\n",
      "Epoch 10/100\n",
      "70/70 [==============================] - 0s 5ms/step - loss: 0.4926 - accuracy: 0.7631 - val_loss: 0.5031 - val_accuracy: 0.7440\n",
      "Epoch 11/100\n",
      "70/70 [==============================] - 0s 6ms/step - loss: 0.4788 - accuracy: 0.7658 - val_loss: 0.4939 - val_accuracy: 0.7460\n",
      "Epoch 12/100\n",
      "70/70 [==============================] - 0s 5ms/step - loss: 0.4678 - accuracy: 0.7664 - val_loss: 0.4871 - val_accuracy: 0.7440\n",
      "Epoch 13/100\n",
      "70/70 [==============================] - 0s 5ms/step - loss: 0.4593 - accuracy: 0.7683 - val_loss: 0.4825 - val_accuracy: 0.7500\n",
      "Epoch 14/100\n",
      "70/70 [==============================] - 0s 5ms/step - loss: 0.4531 - accuracy: 0.7720 - val_loss: 0.4794 - val_accuracy: 0.7520\n",
      "Epoch 15/100\n",
      "70/70 [==============================] - 0s 6ms/step - loss: 0.4484 - accuracy: 0.7729 - val_loss: 0.4771 - val_accuracy: 0.7560\n",
      "Epoch 16/100\n",
      "70/70 [==============================] - 0s 6ms/step - loss: 0.4447 - accuracy: 0.7749 - val_loss: 0.4755 - val_accuracy: 0.7660\n",
      "Epoch 17/100\n",
      "70/70 [==============================] - 0s 6ms/step - loss: 0.4419 - accuracy: 0.7804 - val_loss: 0.4741 - val_accuracy: 0.7840\n",
      "Epoch 18/100\n",
      "70/70 [==============================] - 0s 5ms/step - loss: 0.4396 - accuracy: 0.7851 - val_loss: 0.4729 - val_accuracy: 0.7840\n",
      "Epoch 19/100\n",
      "70/70 [==============================] - 0s 6ms/step - loss: 0.4376 - accuracy: 0.7872 - val_loss: 0.4729 - val_accuracy: 0.7840\n",
      "Epoch 20/100\n",
      "70/70 [==============================] - 0s 5ms/step - loss: 0.4362 - accuracy: 0.7859 - val_loss: 0.4724 - val_accuracy: 0.7840\n",
      "Epoch 21/100\n",
      "70/70 [==============================] - 0s 5ms/step - loss: 0.4348 - accuracy: 0.7859 - val_loss: 0.4715 - val_accuracy: 0.7840\n",
      "Epoch 22/100\n",
      "70/70 [==============================] - 0s 5ms/step - loss: 0.4338 - accuracy: 0.7863 - val_loss: 0.4711 - val_accuracy: 0.7820\n",
      "Epoch 23/100\n",
      "70/70 [==============================] - 0s 5ms/step - loss: 0.4328 - accuracy: 0.7867 - val_loss: 0.4702 - val_accuracy: 0.7820\n",
      "Epoch 24/100\n",
      "70/70 [==============================] - 0s 6ms/step - loss: 0.4321 - accuracy: 0.7867 - val_loss: 0.4699 - val_accuracy: 0.7820\n",
      "Epoch 25/100\n",
      "70/70 [==============================] - 0s 6ms/step - loss: 0.4313 - accuracy: 0.7872 - val_loss: 0.4705 - val_accuracy: 0.7780\n",
      "Epoch 26/100\n",
      "70/70 [==============================] - 0s 5ms/step - loss: 0.4308 - accuracy: 0.7900 - val_loss: 0.4694 - val_accuracy: 0.7780\n",
      "Epoch 27/100\n",
      "70/70 [==============================] - 0s 6ms/step - loss: 0.4302 - accuracy: 0.7890 - val_loss: 0.4692 - val_accuracy: 0.7760\n",
      "Epoch 28/100\n",
      "70/70 [==============================] - 0s 5ms/step - loss: 0.4296 - accuracy: 0.7905 - val_loss: 0.4687 - val_accuracy: 0.7760\n",
      "Epoch 29/100\n",
      "70/70 [==============================] - 0s 5ms/step - loss: 0.4291 - accuracy: 0.7915 - val_loss: 0.4678 - val_accuracy: 0.7800\n",
      "Epoch 30/100\n",
      "70/70 [==============================] - 0s 5ms/step - loss: 0.4287 - accuracy: 0.7909 - val_loss: 0.4682 - val_accuracy: 0.7780\n",
      "Epoch 31/100\n",
      "70/70 [==============================] - 0s 5ms/step - loss: 0.4282 - accuracy: 0.7913 - val_loss: 0.4678 - val_accuracy: 0.7780\n",
      "Epoch 32/100\n",
      "70/70 [==============================] - 0s 5ms/step - loss: 0.4278 - accuracy: 0.7922 - val_loss: 0.4669 - val_accuracy: 0.7820\n",
      "Epoch 33/100\n",
      "70/70 [==============================] - 0s 5ms/step - loss: 0.4275 - accuracy: 0.7932 - val_loss: 0.4667 - val_accuracy: 0.7780\n",
      "Epoch 34/100\n",
      "70/70 [==============================] - 0s 5ms/step - loss: 0.4271 - accuracy: 0.7923 - val_loss: 0.4665 - val_accuracy: 0.7860\n",
      "Epoch 35/100\n",
      "70/70 [==============================] - 0s 5ms/step - loss: 0.4267 - accuracy: 0.7939 - val_loss: 0.4666 - val_accuracy: 0.7820\n",
      "Epoch 36/100\n",
      "70/70 [==============================] - 0s 6ms/step - loss: 0.4264 - accuracy: 0.7933 - val_loss: 0.4659 - val_accuracy: 0.7840\n",
      "Epoch 37/100\n",
      "70/70 [==============================] - 0s 5ms/step - loss: 0.4260 - accuracy: 0.7938 - val_loss: 0.4655 - val_accuracy: 0.7840\n",
      "Epoch 38/100\n",
      "70/70 [==============================] - 0s 5ms/step - loss: 0.4257 - accuracy: 0.7931 - val_loss: 0.4650 - val_accuracy: 0.7840\n",
      "Epoch 39/100\n",
      "70/70 [==============================] - 0s 5ms/step - loss: 0.4255 - accuracy: 0.7951 - val_loss: 0.4649 - val_accuracy: 0.7840\n",
      "Epoch 40/100\n",
      "70/70 [==============================] - 0s 5ms/step - loss: 0.4252 - accuracy: 0.7941 - val_loss: 0.4650 - val_accuracy: 0.7840\n",
      "Epoch 41/100\n",
      "70/70 [==============================] - 0s 6ms/step - loss: 0.4249 - accuracy: 0.7944 - val_loss: 0.4641 - val_accuracy: 0.7840\n",
      "Epoch 42/100\n",
      "70/70 [==============================] - 0s 5ms/step - loss: 0.4246 - accuracy: 0.7951 - val_loss: 0.4645 - val_accuracy: 0.7800\n",
      "Epoch 43/100\n",
      "70/70 [==============================] - 0s 5ms/step - loss: 0.4244 - accuracy: 0.7951 - val_loss: 0.4644 - val_accuracy: 0.7800\n",
      "Epoch 44/100\n",
      "70/70 [==============================] - 0s 5ms/step - loss: 0.4242 - accuracy: 0.7942 - val_loss: 0.4635 - val_accuracy: 0.7840\n",
      "Epoch 45/100\n",
      "70/70 [==============================] - 0s 6ms/step - loss: 0.4240 - accuracy: 0.7949 - val_loss: 0.4629 - val_accuracy: 0.7840\n",
      "Epoch 46/100\n",
      "70/70 [==============================] - 0s 5ms/step - loss: 0.4237 - accuracy: 0.7944 - val_loss: 0.4631 - val_accuracy: 0.7840\n",
      "Epoch 47/100\n",
      "70/70 [==============================] - 0s 5ms/step - loss: 0.4235 - accuracy: 0.7952 - val_loss: 0.4637 - val_accuracy: 0.7800\n",
      "Epoch 48/100\n",
      "70/70 [==============================] - 0s 5ms/step - loss: 0.4232 - accuracy: 0.7931 - val_loss: 0.4636 - val_accuracy: 0.7800\n",
      "Epoch 49/100\n",
      "70/70 [==============================] - 0s 6ms/step - loss: 0.4232 - accuracy: 0.7948 - val_loss: 0.4626 - val_accuracy: 0.7840\n",
      "Epoch 50/100\n",
      "70/70 [==============================] - 0s 5ms/step - loss: 0.4229 - accuracy: 0.7948 - val_loss: 0.4618 - val_accuracy: 0.7840\n",
      "Epoch 51/100\n",
      "70/70 [==============================] - 0s 5ms/step - loss: 0.4228 - accuracy: 0.7948 - val_loss: 0.4622 - val_accuracy: 0.7840\n",
      "Epoch 52/100\n",
      "70/70 [==============================] - 0s 6ms/step - loss: 0.4226 - accuracy: 0.7951 - val_loss: 0.4622 - val_accuracy: 0.7840\n",
      "Epoch 53/100\n",
      "70/70 [==============================] - 0s 5ms/step - loss: 0.4225 - accuracy: 0.7965 - val_loss: 0.4619 - val_accuracy: 0.7840\n",
      "Epoch 54/100\n",
      "70/70 [==============================] - 0s 5ms/step - loss: 0.4222 - accuracy: 0.7967 - val_loss: 0.4614 - val_accuracy: 0.7840\n",
      "Epoch 55/100\n",
      "70/70 [==============================] - 0s 5ms/step - loss: 0.4221 - accuracy: 0.7965 - val_loss: 0.4620 - val_accuracy: 0.7840\n",
      "Epoch 56/100\n",
      "70/70 [==============================] - 0s 5ms/step - loss: 0.4220 - accuracy: 0.7958 - val_loss: 0.4616 - val_accuracy: 0.7840\n",
      "Epoch 57/100\n",
      "70/70 [==============================] - 0s 5ms/step - loss: 0.4218 - accuracy: 0.7962 - val_loss: 0.4610 - val_accuracy: 0.7840\n",
      "Epoch 58/100\n",
      "70/70 [==============================] - 0s 5ms/step - loss: 0.4217 - accuracy: 0.7965 - val_loss: 0.4606 - val_accuracy: 0.7840\n",
      "Epoch 59/100\n",
      "70/70 [==============================] - 0s 5ms/step - loss: 0.4216 - accuracy: 0.7959 - val_loss: 0.4603 - val_accuracy: 0.7840\n"
     ]
    },
    {
     "name": "stdout",
     "output_type": "stream",
     "text": [
      "Epoch 60/100\n",
      "70/70 [==============================] - 0s 5ms/step - loss: 0.4215 - accuracy: 0.7967 - val_loss: 0.4607 - val_accuracy: 0.7840\n",
      "Epoch 61/100\n",
      "70/70 [==============================] - 0s 5ms/step - loss: 0.4213 - accuracy: 0.7961 - val_loss: 0.4604 - val_accuracy: 0.7840\n",
      "Epoch 62/100\n",
      "70/70 [==============================] - 0s 5ms/step - loss: 0.4211 - accuracy: 0.7958 - val_loss: 0.4605 - val_accuracy: 0.7840\n",
      "Epoch 63/100\n",
      "70/70 [==============================] - 0s 5ms/step - loss: 0.4211 - accuracy: 0.7961 - val_loss: 0.4605 - val_accuracy: 0.7840\n",
      "Epoch 64/100\n",
      "70/70 [==============================] - 0s 5ms/step - loss: 0.4209 - accuracy: 0.7958 - val_loss: 0.4598 - val_accuracy: 0.7840\n",
      "Epoch 65/100\n",
      "70/70 [==============================] - 0s 5ms/step - loss: 0.4209 - accuracy: 0.7964 - val_loss: 0.4597 - val_accuracy: 0.7840\n",
      "Epoch 66/100\n",
      "70/70 [==============================] - 0s 5ms/step - loss: 0.4207 - accuracy: 0.7965 - val_loss: 0.4598 - val_accuracy: 0.7840\n",
      "Epoch 67/100\n",
      "70/70 [==============================] - 0s 5ms/step - loss: 0.4206 - accuracy: 0.7964 - val_loss: 0.4596 - val_accuracy: 0.7840\n",
      "Epoch 68/100\n",
      "70/70 [==============================] - 0s 6ms/step - loss: 0.4205 - accuracy: 0.7961 - val_loss: 0.4596 - val_accuracy: 0.7840\n",
      "Epoch 69/100\n",
      "70/70 [==============================] - 0s 6ms/step - loss: 0.4204 - accuracy: 0.7967 - val_loss: 0.4596 - val_accuracy: 0.7840\n",
      "Epoch 70/100\n",
      "70/70 [==============================] - 0s 6ms/step - loss: 0.4203 - accuracy: 0.7955 - val_loss: 0.4596 - val_accuracy: 0.7840\n",
      "Epoch 71/100\n",
      "70/70 [==============================] - 0s 6ms/step - loss: 0.4202 - accuracy: 0.7965 - val_loss: 0.4589 - val_accuracy: 0.7840\n",
      "Epoch 72/100\n",
      "70/70 [==============================] - 0s 6ms/step - loss: 0.4201 - accuracy: 0.7961 - val_loss: 0.4588 - val_accuracy: 0.7840\n",
      "Epoch 73/100\n",
      "70/70 [==============================] - 0s 5ms/step - loss: 0.4200 - accuracy: 0.7961 - val_loss: 0.4587 - val_accuracy: 0.7840\n",
      "Epoch 74/100\n",
      "70/70 [==============================] - 0s 5ms/step - loss: 0.4199 - accuracy: 0.7969 - val_loss: 0.4582 - val_accuracy: 0.7840\n",
      "Epoch 75/100\n",
      "70/70 [==============================] - 0s 5ms/step - loss: 0.4199 - accuracy: 0.7967 - val_loss: 0.4580 - val_accuracy: 0.7840\n",
      "Epoch 76/100\n",
      "70/70 [==============================] - 0s 5ms/step - loss: 0.4198 - accuracy: 0.7962 - val_loss: 0.4580 - val_accuracy: 0.7840\n",
      "Epoch 77/100\n",
      "70/70 [==============================] - 0s 5ms/step - loss: 0.4196 - accuracy: 0.7964 - val_loss: 0.4584 - val_accuracy: 0.7840\n",
      "Epoch 78/100\n",
      "70/70 [==============================] - 0s 6ms/step - loss: 0.4196 - accuracy: 0.7965 - val_loss: 0.4581 - val_accuracy: 0.7840\n",
      "Epoch 79/100\n",
      "70/70 [==============================] - 0s 5ms/step - loss: 0.4195 - accuracy: 0.7964 - val_loss: 0.4578 - val_accuracy: 0.7840\n",
      "Epoch 80/100\n",
      "70/70 [==============================] - 0s 5ms/step - loss: 0.4194 - accuracy: 0.7964 - val_loss: 0.4577 - val_accuracy: 0.7840\n",
      "Epoch 81/100\n",
      "70/70 [==============================] - 0s 5ms/step - loss: 0.4194 - accuracy: 0.7967 - val_loss: 0.4577 - val_accuracy: 0.7840\n",
      "Epoch 82/100\n",
      "70/70 [==============================] - 0s 6ms/step - loss: 0.4193 - accuracy: 0.7949 - val_loss: 0.4580 - val_accuracy: 0.7840\n",
      "Epoch 83/100\n",
      "70/70 [==============================] - 0s 6ms/step - loss: 0.4192 - accuracy: 0.7968 - val_loss: 0.4583 - val_accuracy: 0.7840\n",
      "Epoch 84/100\n",
      "70/70 [==============================] - 0s 5ms/step - loss: 0.4191 - accuracy: 0.7965 - val_loss: 0.4578 - val_accuracy: 0.7840\n",
      "Epoch 85/100\n",
      "70/70 [==============================] - 0s 5ms/step - loss: 0.4191 - accuracy: 0.7964 - val_loss: 0.4574 - val_accuracy: 0.7840\n",
      "Epoch 86/100\n",
      "70/70 [==============================] - 0s 5ms/step - loss: 0.4190 - accuracy: 0.7962 - val_loss: 0.4578 - val_accuracy: 0.7860\n",
      "Epoch 87/100\n",
      "70/70 [==============================] - 0s 6ms/step - loss: 0.4189 - accuracy: 0.7955 - val_loss: 0.4575 - val_accuracy: 0.7840\n",
      "Epoch 88/100\n",
      "70/70 [==============================] - 0s 6ms/step - loss: 0.4188 - accuracy: 0.7965 - val_loss: 0.4574 - val_accuracy: 0.7840\n",
      "Epoch 89/100\n",
      "70/70 [==============================] - 0s 6ms/step - loss: 0.4188 - accuracy: 0.7961 - val_loss: 0.4578 - val_accuracy: 0.7840\n",
      "Epoch 90/100\n",
      "70/70 [==============================] - 0s 6ms/step - loss: 0.4186 - accuracy: 0.7959 - val_loss: 0.4580 - val_accuracy: 0.7880\n",
      "Epoch 91/100\n",
      "70/70 [==============================] - 0s 5ms/step - loss: 0.4187 - accuracy: 0.7965 - val_loss: 0.4580 - val_accuracy: 0.7880\n",
      "Epoch 92/100\n",
      "70/70 [==============================] - 0s 5ms/step - loss: 0.4186 - accuracy: 0.7971 - val_loss: 0.4577 - val_accuracy: 0.7880\n",
      "Epoch 93/100\n",
      "70/70 [==============================] - 0s 5ms/step - loss: 0.4185 - accuracy: 0.7977 - val_loss: 0.4575 - val_accuracy: 0.7860\n",
      "Epoch 94/100\n",
      "70/70 [==============================] - 0s 5ms/step - loss: 0.4184 - accuracy: 0.7965 - val_loss: 0.4576 - val_accuracy: 0.7880\n",
      "Epoch 95/100\n",
      "70/70 [==============================] - 0s 5ms/step - loss: 0.4183 - accuracy: 0.7971 - val_loss: 0.4570 - val_accuracy: 0.7900\n",
      "Epoch 96/100\n",
      "70/70 [==============================] - 0s 5ms/step - loss: 0.4183 - accuracy: 0.7974 - val_loss: 0.4582 - val_accuracy: 0.7880\n",
      "Epoch 97/100\n",
      "70/70 [==============================] - 0s 5ms/step - loss: 0.4182 - accuracy: 0.7971 - val_loss: 0.4577 - val_accuracy: 0.7880\n",
      "Epoch 98/100\n",
      "70/70 [==============================] - 0s 6ms/step - loss: 0.4182 - accuracy: 0.7962 - val_loss: 0.4579 - val_accuracy: 0.7880\n",
      "Epoch 99/100\n",
      "70/70 [==============================] - 0s 5ms/step - loss: 0.4182 - accuracy: 0.7962 - val_loss: 0.4575 - val_accuracy: 0.7880\n",
      "Epoch 100/100\n",
      "70/70 [==============================] - 0s 5ms/step - loss: 0.4181 - accuracy: 0.7968 - val_loss: 0.4575 - val_accuracy: 0.7880\n"
     ]
    }
   ],
   "source": [
    "history = model.fit(np.array(train_data),\n",
    "                    train_labels,\n",
    "                    epochs=100,\n",
    "                    batch_size=100,\n",
    "                    validation_data=(devtest_data, devtest_labels))"
   ]
  },
  {
   "cell_type": "code",
   "execution_count": 68,
   "metadata": {},
   "outputs": [
    {
     "data": {
      "image/png": "[encoded data removed]",
      "text/plain": [
       "<Figure size 432x288 with 1 Axes>"
      ]
     },
     "metadata": {
      "needs_background": "light"
     },
     "output_type": "display_data"
    }
   ],
   "source": [
    "plot_history(history)"
   ]
  },
  {
   "cell_type": "markdown",
   "metadata": {},
   "source": [
    "*(With hidden layer of size 5, the system achieved slightly better results after a few epochs. Again there isn't much overfitting at about 12 epochs, but as we increase the number of epochs beyond 12, overfitting increases.*)"
   ]
  },
  {
   "cell_type": "code",
   "execution_count": 69,
   "metadata": {},
   "outputs": [],
   "source": [
    "model = models.Sequential()\n",
    "model.add(layers.Dense(10, activation='relu'))\n",
    "model.add(layers.Dense(1, activation='sigmoid'))\n",
    "model.compile(optimizer='rmsprop',\n",
    "              loss='binary_crossentropy',\n",
    "              metrics=['accuracy'])"
   ]
  },
  {
   "cell_type": "code",
   "execution_count": 70,
   "metadata": {
    "scrolled": true
   },
   "outputs": [
    {
     "name": "stdout",
     "output_type": "stream",
     "text": [
      "Epoch 1/200\n"
     ]
    },
    {
     "name": "stderr",
     "output_type": "stream",
     "text": [
      "2022-04-12 14:27:06.069199: I tensorflow/core/grappler/optimizers/custom_graph_optimizer_registry.cc:113] Plugin optimizer for device_type GPU is enabled.\n"
     ]
    },
    {
     "name": "stdout",
     "output_type": "stream",
     "text": [
      "70/70 [==============================] - 1s 6ms/step - loss: 0.6749 - accuracy: 0.5749 - val_loss: 0.6343 - val_accuracy: 0.6600\n",
      "Epoch 2/200\n",
      "22/70 [========>.....................] - ETA: 0s - loss: 0.6227 - accuracy: 0.6705"
     ]
    },
    {
     "name": "stderr",
     "output_type": "stream",
     "text": [
      "2022-04-12 14:27:06.816976: I tensorflow/core/grappler/optimizers/custom_graph_optimizer_registry.cc:113] Plugin optimizer for device_type GPU is enabled.\n"
     ]
    },
    {
     "name": "stdout",
     "output_type": "stream",
     "text": [
      "70/70 [==============================] - 0s 5ms/step - loss: 0.6013 - accuracy: 0.6861 - val_loss: 0.5812 - val_accuracy: 0.6840\n",
      "Epoch 3/200\n",
      "70/70 [==============================] - 0s 5ms/step - loss: 0.5516 - accuracy: 0.7225 - val_loss: 0.5450 - val_accuracy: 0.7160\n",
      "Epoch 4/200\n",
      "70/70 [==============================] - 0s 5ms/step - loss: 0.5149 - accuracy: 0.7542 - val_loss: 0.5192 - val_accuracy: 0.7380\n",
      "Epoch 5/200\n",
      "70/70 [==============================] - 0s 5ms/step - loss: 0.4871 - accuracy: 0.7671 - val_loss: 0.5018 - val_accuracy: 0.7560\n",
      "Epoch 6/200\n",
      "70/70 [==============================] - 0s 5ms/step - loss: 0.4677 - accuracy: 0.7676 - val_loss: 0.4907 - val_accuracy: 0.7600\n",
      "Epoch 7/200\n",
      "70/70 [==============================] - 0s 6ms/step - loss: 0.4555 - accuracy: 0.7686 - val_loss: 0.4849 - val_accuracy: 0.7520\n",
      "Epoch 8/200\n",
      "70/70 [==============================] - 0s 5ms/step - loss: 0.4478 - accuracy: 0.7715 - val_loss: 0.4822 - val_accuracy: 0.7620\n",
      "Epoch 9/200\n",
      "70/70 [==============================] - 0s 6ms/step - loss: 0.4432 - accuracy: 0.7798 - val_loss: 0.4791 - val_accuracy: 0.7680\n",
      "Epoch 10/200\n",
      "70/70 [==============================] - 0s 6ms/step - loss: 0.4399 - accuracy: 0.7828 - val_loss: 0.4771 - val_accuracy: 0.7760\n",
      "Epoch 11/200\n",
      "70/70 [==============================] - 0s 5ms/step - loss: 0.4376 - accuracy: 0.7823 - val_loss: 0.4763 - val_accuracy: 0.7760\n",
      "Epoch 12/200\n",
      "70/70 [==============================] - 0s 5ms/step - loss: 0.4358 - accuracy: 0.7854 - val_loss: 0.4747 - val_accuracy: 0.7740\n",
      "Epoch 13/200\n",
      "70/70 [==============================] - 0s 5ms/step - loss: 0.4344 - accuracy: 0.7859 - val_loss: 0.4742 - val_accuracy: 0.7780\n",
      "Epoch 14/200\n",
      "70/70 [==============================] - 0s 5ms/step - loss: 0.4331 - accuracy: 0.7867 - val_loss: 0.4732 - val_accuracy: 0.7780\n",
      "Epoch 15/200\n",
      "70/70 [==============================] - 0s 5ms/step - loss: 0.4319 - accuracy: 0.7869 - val_loss: 0.4725 - val_accuracy: 0.7760\n",
      "Epoch 16/200\n",
      "70/70 [==============================] - 0s 5ms/step - loss: 0.4309 - accuracy: 0.7860 - val_loss: 0.4717 - val_accuracy: 0.7740\n",
      "Epoch 17/200\n",
      "70/70 [==============================] - 0s 5ms/step - loss: 0.4299 - accuracy: 0.7906 - val_loss: 0.4704 - val_accuracy: 0.7780\n",
      "Epoch 18/200\n",
      "70/70 [==============================] - 0s 5ms/step - loss: 0.4292 - accuracy: 0.7886 - val_loss: 0.4704 - val_accuracy: 0.7740\n",
      "Epoch 19/200\n",
      "70/70 [==============================] - 0s 5ms/step - loss: 0.4285 - accuracy: 0.7890 - val_loss: 0.4699 - val_accuracy: 0.7740\n",
      "Epoch 20/200\n",
      "70/70 [==============================] - 0s 6ms/step - loss: 0.4278 - accuracy: 0.7906 - val_loss: 0.4690 - val_accuracy: 0.7740\n",
      "Epoch 21/200\n",
      "70/70 [==============================] - 0s 6ms/step - loss: 0.4271 - accuracy: 0.7885 - val_loss: 0.4685 - val_accuracy: 0.7740\n",
      "Epoch 22/200\n",
      "70/70 [==============================] - 0s 6ms/step - loss: 0.4266 - accuracy: 0.7902 - val_loss: 0.4673 - val_accuracy: 0.7760\n",
      "Epoch 23/200\n",
      "70/70 [==============================] - 0s 5ms/step - loss: 0.4262 - accuracy: 0.7908 - val_loss: 0.4665 - val_accuracy: 0.7760\n",
      "Epoch 24/200\n",
      "70/70 [==============================] - 0s 6ms/step - loss: 0.4256 - accuracy: 0.7896 - val_loss: 0.4666 - val_accuracy: 0.7760\n",
      "Epoch 25/200\n",
      "70/70 [==============================] - 0s 6ms/step - loss: 0.4251 - accuracy: 0.7900 - val_loss: 0.4660 - val_accuracy: 0.7760\n",
      "Epoch 26/200\n",
      "70/70 [==============================] - 0s 6ms/step - loss: 0.4247 - accuracy: 0.7899 - val_loss: 0.4654 - val_accuracy: 0.7760\n",
      "Epoch 27/200\n",
      "70/70 [==============================] - 0s 5ms/step - loss: 0.4242 - accuracy: 0.7903 - val_loss: 0.4652 - val_accuracy: 0.7760\n",
      "Epoch 28/200\n",
      "70/70 [==============================] - 0s 5ms/step - loss: 0.4239 - accuracy: 0.7915 - val_loss: 0.4652 - val_accuracy: 0.7760\n",
      "Epoch 29/200\n",
      "70/70 [==============================] - 0s 6ms/step - loss: 0.4235 - accuracy: 0.7923 - val_loss: 0.4647 - val_accuracy: 0.7740\n",
      "Epoch 30/200\n",
      "70/70 [==============================] - 0s 5ms/step - loss: 0.4230 - accuracy: 0.7918 - val_loss: 0.4635 - val_accuracy: 0.7740\n",
      "Epoch 31/200\n",
      "70/70 [==============================] - 0s 5ms/step - loss: 0.4227 - accuracy: 0.7921 - val_loss: 0.4639 - val_accuracy: 0.7740\n",
      "Epoch 32/200\n",
      "70/70 [==============================] - 0s 6ms/step - loss: 0.4225 - accuracy: 0.7931 - val_loss: 0.4629 - val_accuracy: 0.7740\n",
      "Epoch 33/200\n",
      "70/70 [==============================] - 0s 6ms/step - loss: 0.4221 - accuracy: 0.7932 - val_loss: 0.4622 - val_accuracy: 0.7740\n",
      "Epoch 34/200\n",
      "70/70 [==============================] - 0s 6ms/step - loss: 0.4218 - accuracy: 0.7931 - val_loss: 0.4620 - val_accuracy: 0.7740\n",
      "Epoch 35/200\n",
      "70/70 [==============================] - 0s 6ms/step - loss: 0.4215 - accuracy: 0.7915 - val_loss: 0.4621 - val_accuracy: 0.7740\n",
      "Epoch 36/200\n",
      "70/70 [==============================] - 0s 5ms/step - loss: 0.4211 - accuracy: 0.7935 - val_loss: 0.4612 - val_accuracy: 0.7740\n",
      "Epoch 37/200\n",
      "70/70 [==============================] - 0s 6ms/step - loss: 0.4208 - accuracy: 0.7923 - val_loss: 0.4607 - val_accuracy: 0.7740\n",
      "Epoch 38/200\n",
      "70/70 [==============================] - 0s 6ms/step - loss: 0.4206 - accuracy: 0.7941 - val_loss: 0.4605 - val_accuracy: 0.7740\n",
      "Epoch 39/200\n",
      "70/70 [==============================] - 0s 5ms/step - loss: 0.4202 - accuracy: 0.7933 - val_loss: 0.4603 - val_accuracy: 0.7780\n",
      "Epoch 40/200\n",
      "70/70 [==============================] - 0s 6ms/step - loss: 0.4199 - accuracy: 0.7941 - val_loss: 0.4593 - val_accuracy: 0.7780\n",
      "Epoch 41/200\n",
      "70/70 [==============================] - 0s 5ms/step - loss: 0.4197 - accuracy: 0.7939 - val_loss: 0.4592 - val_accuracy: 0.7780\n",
      "Epoch 42/200\n",
      "70/70 [==============================] - 0s 6ms/step - loss: 0.4195 - accuracy: 0.7946 - val_loss: 0.4593 - val_accuracy: 0.7780\n",
      "Epoch 43/200\n",
      "70/70 [==============================] - 0s 5ms/step - loss: 0.4192 - accuracy: 0.7949 - val_loss: 0.4592 - val_accuracy: 0.7780\n",
      "Epoch 44/200\n",
      "70/70 [==============================] - 0s 5ms/step - loss: 0.4190 - accuracy: 0.7945 - val_loss: 0.4589 - val_accuracy: 0.7780\n",
      "Epoch 45/200\n",
      "70/70 [==============================] - 0s 5ms/step - loss: 0.4188 - accuracy: 0.7945 - val_loss: 0.4585 - val_accuracy: 0.7780\n",
      "Epoch 46/200\n",
      "70/70 [==============================] - 0s 5ms/step - loss: 0.4186 - accuracy: 0.7952 - val_loss: 0.4585 - val_accuracy: 0.7780\n",
      "Epoch 47/200\n",
      "70/70 [==============================] - 0s 6ms/step - loss: 0.4183 - accuracy: 0.7942 - val_loss: 0.4576 - val_accuracy: 0.7780\n",
      "Epoch 48/200\n",
      "70/70 [==============================] - 0s 5ms/step - loss: 0.4182 - accuracy: 0.7948 - val_loss: 0.4575 - val_accuracy: 0.7780\n",
      "Epoch 49/200\n",
      "70/70 [==============================] - 0s 5ms/step - loss: 0.4179 - accuracy: 0.7949 - val_loss: 0.4575 - val_accuracy: 0.7780\n",
      "Epoch 50/200\n",
      "70/70 [==============================] - 0s 6ms/step - loss: 0.4177 - accuracy: 0.7955 - val_loss: 0.4570 - val_accuracy: 0.7780\n",
      "Epoch 51/200\n",
      "70/70 [==============================] - 0s 5ms/step - loss: 0.4176 - accuracy: 0.7944 - val_loss: 0.4572 - val_accuracy: 0.7780\n",
      "Epoch 52/200\n",
      "70/70 [==============================] - 0s 5ms/step - loss: 0.4173 - accuracy: 0.7958 - val_loss: 0.4565 - val_accuracy: 0.7780\n",
      "Epoch 53/200\n",
      "70/70 [==============================] - 0s 7ms/step - loss: 0.4171 - accuracy: 0.7962 - val_loss: 0.4566 - val_accuracy: 0.7780\n",
      "Epoch 54/200\n",
      "70/70 [==============================] - 0s 6ms/step - loss: 0.4169 - accuracy: 0.7964 - val_loss: 0.4569 - val_accuracy: 0.7800\n",
      "Epoch 55/200\n",
      "70/70 [==============================] - 0s 6ms/step - loss: 0.4169 - accuracy: 0.7965 - val_loss: 0.4561 - val_accuracy: 0.7780\n",
      "Epoch 56/200\n",
      "70/70 [==============================] - 0s 5ms/step - loss: 0.4167 - accuracy: 0.7962 - val_loss: 0.4555 - val_accuracy: 0.7760\n",
      "Epoch 57/200\n",
      "70/70 [==============================] - 0s 5ms/step - loss: 0.4166 - accuracy: 0.7959 - val_loss: 0.4561 - val_accuracy: 0.7800\n",
      "Epoch 58/200\n",
      "70/70 [==============================] - 0s 5ms/step - loss: 0.4165 - accuracy: 0.7965 - val_loss: 0.4561 - val_accuracy: 0.7800\n",
      "Epoch 59/200\n",
      "70/70 [==============================] - 0s 5ms/step - loss: 0.4161 - accuracy: 0.7964 - val_loss: 0.4552 - val_accuracy: 0.7760\n"
     ]
    },
    {
     "name": "stdout",
     "output_type": "stream",
     "text": [
      "Epoch 60/200\n",
      "70/70 [==============================] - 0s 5ms/step - loss: 0.4162 - accuracy: 0.7968 - val_loss: 0.4551 - val_accuracy: 0.7800\n",
      "Epoch 61/200\n",
      "70/70 [==============================] - 0s 6ms/step - loss: 0.4159 - accuracy: 0.7969 - val_loss: 0.4543 - val_accuracy: 0.7840\n",
      "Epoch 62/200\n",
      "70/70 [==============================] - 0s 5ms/step - loss: 0.4160 - accuracy: 0.7954 - val_loss: 0.4545 - val_accuracy: 0.7760\n",
      "Epoch 63/200\n",
      "70/70 [==============================] - 0s 5ms/step - loss: 0.4159 - accuracy: 0.7977 - val_loss: 0.4546 - val_accuracy: 0.7820\n",
      "Epoch 64/200\n",
      "70/70 [==============================] - 0s 5ms/step - loss: 0.4157 - accuracy: 0.7984 - val_loss: 0.4548 - val_accuracy: 0.7820\n",
      "Epoch 65/200\n",
      "70/70 [==============================] - 0s 6ms/step - loss: 0.4157 - accuracy: 0.7968 - val_loss: 0.4546 - val_accuracy: 0.7820\n",
      "Epoch 66/200\n",
      "70/70 [==============================] - 0s 5ms/step - loss: 0.4155 - accuracy: 0.7985 - val_loss: 0.4545 - val_accuracy: 0.7820\n",
      "Epoch 67/200\n",
      "70/70 [==============================] - 0s 5ms/step - loss: 0.4154 - accuracy: 0.7971 - val_loss: 0.4547 - val_accuracy: 0.7820\n",
      "Epoch 68/200\n",
      "70/70 [==============================] - 0s 5ms/step - loss: 0.4153 - accuracy: 0.7980 - val_loss: 0.4539 - val_accuracy: 0.7800\n",
      "Epoch 69/200\n",
      "70/70 [==============================] - 0s 5ms/step - loss: 0.4152 - accuracy: 0.7984 - val_loss: 0.4536 - val_accuracy: 0.7860\n",
      "Epoch 70/200\n",
      "70/70 [==============================] - 0s 5ms/step - loss: 0.4150 - accuracy: 0.7982 - val_loss: 0.4536 - val_accuracy: 0.7860\n",
      "Epoch 71/200\n",
      "70/70 [==============================] - 0s 5ms/step - loss: 0.4149 - accuracy: 0.8004 - val_loss: 0.4537 - val_accuracy: 0.7860\n",
      "Epoch 72/200\n",
      "70/70 [==============================] - 0s 5ms/step - loss: 0.4148 - accuracy: 0.7995 - val_loss: 0.4538 - val_accuracy: 0.7860\n",
      "Epoch 73/200\n",
      "70/70 [==============================] - 0s 5ms/step - loss: 0.4148 - accuracy: 0.7990 - val_loss: 0.4536 - val_accuracy: 0.7860\n",
      "Epoch 74/200\n",
      "70/70 [==============================] - 0s 5ms/step - loss: 0.4146 - accuracy: 0.7991 - val_loss: 0.4535 - val_accuracy: 0.7860\n",
      "Epoch 75/200\n",
      "70/70 [==============================] - 0s 5ms/step - loss: 0.4146 - accuracy: 0.7997 - val_loss: 0.4535 - val_accuracy: 0.7860\n",
      "Epoch 76/200\n",
      "70/70 [==============================] - 0s 5ms/step - loss: 0.4144 - accuracy: 0.7998 - val_loss: 0.4531 - val_accuracy: 0.7860\n",
      "Epoch 77/200\n",
      "70/70 [==============================] - 0s 6ms/step - loss: 0.4145 - accuracy: 0.8000 - val_loss: 0.4529 - val_accuracy: 0.7860\n",
      "Epoch 78/200\n",
      "70/70 [==============================] - 0s 6ms/step - loss: 0.4143 - accuracy: 0.8003 - val_loss: 0.4527 - val_accuracy: 0.7840\n",
      "Epoch 79/200\n",
      "70/70 [==============================] - 0s 6ms/step - loss: 0.4142 - accuracy: 0.7991 - val_loss: 0.4531 - val_accuracy: 0.7860\n",
      "Epoch 80/200\n",
      "70/70 [==============================] - 0s 5ms/step - loss: 0.4142 - accuracy: 0.7987 - val_loss: 0.4529 - val_accuracy: 0.7860\n",
      "Epoch 81/200\n",
      "70/70 [==============================] - 0s 5ms/step - loss: 0.4140 - accuracy: 0.7990 - val_loss: 0.4529 - val_accuracy: 0.7880\n",
      "Epoch 82/200\n",
      "70/70 [==============================] - 0s 5ms/step - loss: 0.4140 - accuracy: 0.8000 - val_loss: 0.4527 - val_accuracy: 0.7840\n",
      "Epoch 83/200\n",
      "70/70 [==============================] - 0s 5ms/step - loss: 0.4139 - accuracy: 0.8010 - val_loss: 0.4530 - val_accuracy: 0.7840\n",
      "Epoch 84/200\n",
      "70/70 [==============================] - 0s 6ms/step - loss: 0.4138 - accuracy: 0.7984 - val_loss: 0.4528 - val_accuracy: 0.7840\n",
      "Epoch 85/200\n",
      "70/70 [==============================] - 0s 6ms/step - loss: 0.4137 - accuracy: 0.8004 - val_loss: 0.4524 - val_accuracy: 0.7840\n",
      "Epoch 86/200\n",
      "70/70 [==============================] - 0s 5ms/step - loss: 0.4136 - accuracy: 0.8005 - val_loss: 0.4527 - val_accuracy: 0.7860\n",
      "Epoch 87/200\n",
      "70/70 [==============================] - 0s 5ms/step - loss: 0.4135 - accuracy: 0.8013 - val_loss: 0.4523 - val_accuracy: 0.7860\n",
      "Epoch 88/200\n",
      "70/70 [==============================] - 0s 5ms/step - loss: 0.4136 - accuracy: 0.7993 - val_loss: 0.4528 - val_accuracy: 0.7840\n",
      "Epoch 89/200\n",
      "70/70 [==============================] - 0s 5ms/step - loss: 0.4134 - accuracy: 0.8014 - val_loss: 0.4528 - val_accuracy: 0.7860\n",
      "Epoch 90/200\n",
      "70/70 [==============================] - 0s 5ms/step - loss: 0.4133 - accuracy: 0.8011 - val_loss: 0.4524 - val_accuracy: 0.7860\n",
      "Epoch 91/200\n",
      "70/70 [==============================] - 0s 6ms/step - loss: 0.4133 - accuracy: 0.8001 - val_loss: 0.4526 - val_accuracy: 0.7860\n",
      "Epoch 92/200\n",
      "70/70 [==============================] - 0s 6ms/step - loss: 0.4132 - accuracy: 0.8011 - val_loss: 0.4528 - val_accuracy: 0.7860\n",
      "Epoch 93/200\n",
      "70/70 [==============================] - 0s 5ms/step - loss: 0.4132 - accuracy: 0.8013 - val_loss: 0.4525 - val_accuracy: 0.7860\n",
      "Epoch 94/200\n",
      "70/70 [==============================] - 0s 5ms/step - loss: 0.4131 - accuracy: 0.8011 - val_loss: 0.4522 - val_accuracy: 0.7860\n",
      "Epoch 95/200\n",
      "70/70 [==============================] - 0s 5ms/step - loss: 0.4130 - accuracy: 0.8016 - val_loss: 0.4528 - val_accuracy: 0.7860\n",
      "Epoch 96/200\n",
      "70/70 [==============================] - 0s 5ms/step - loss: 0.4130 - accuracy: 0.8013 - val_loss: 0.4522 - val_accuracy: 0.7860\n",
      "Epoch 97/200\n",
      "70/70 [==============================] - 0s 6ms/step - loss: 0.4129 - accuracy: 0.8011 - val_loss: 0.4529 - val_accuracy: 0.7860\n",
      "Epoch 98/200\n",
      "70/70 [==============================] - 0s 5ms/step - loss: 0.4127 - accuracy: 0.8014 - val_loss: 0.4526 - val_accuracy: 0.7860\n",
      "Epoch 99/200\n",
      "70/70 [==============================] - 0s 5ms/step - loss: 0.4127 - accuracy: 0.8010 - val_loss: 0.4525 - val_accuracy: 0.7860\n",
      "Epoch 100/200\n",
      "70/70 [==============================] - 0s 5ms/step - loss: 0.4126 - accuracy: 0.8004 - val_loss: 0.4520 - val_accuracy: 0.7860\n",
      "Epoch 101/200\n",
      "70/70 [==============================] - 0s 5ms/step - loss: 0.4127 - accuracy: 0.8011 - val_loss: 0.4527 - val_accuracy: 0.7860\n",
      "Epoch 102/200\n",
      "70/70 [==============================] - 0s 5ms/step - loss: 0.4125 - accuracy: 0.8017 - val_loss: 0.4521 - val_accuracy: 0.7860\n",
      "Epoch 103/200\n",
      "70/70 [==============================] - 0s 6ms/step - loss: 0.4126 - accuracy: 0.8011 - val_loss: 0.4521 - val_accuracy: 0.7860\n",
      "Epoch 104/200\n",
      "70/70 [==============================] - 0s 6ms/step - loss: 0.4124 - accuracy: 0.8008 - val_loss: 0.4520 - val_accuracy: 0.7860\n",
      "Epoch 105/200\n",
      "70/70 [==============================] - 0s 5ms/step - loss: 0.4124 - accuracy: 0.8010 - val_loss: 0.4521 - val_accuracy: 0.7860\n",
      "Epoch 106/200\n",
      "70/70 [==============================] - 0s 5ms/step - loss: 0.4124 - accuracy: 0.8014 - val_loss: 0.4519 - val_accuracy: 0.7860\n",
      "Epoch 107/200\n",
      "70/70 [==============================] - 0s 5ms/step - loss: 0.4122 - accuracy: 0.8011 - val_loss: 0.4519 - val_accuracy: 0.7860\n",
      "Epoch 108/200\n",
      "70/70 [==============================] - 0s 6ms/step - loss: 0.4123 - accuracy: 0.8011 - val_loss: 0.4515 - val_accuracy: 0.7860\n",
      "Epoch 109/200\n",
      "70/70 [==============================] - 0s 6ms/step - loss: 0.4122 - accuracy: 0.8001 - val_loss: 0.4516 - val_accuracy: 0.7860\n",
      "Epoch 110/200\n",
      "70/70 [==============================] - 0s 5ms/step - loss: 0.4121 - accuracy: 0.8014 - val_loss: 0.4514 - val_accuracy: 0.7860\n",
      "Epoch 111/200\n",
      "70/70 [==============================] - 0s 5ms/step - loss: 0.4121 - accuracy: 0.8016 - val_loss: 0.4514 - val_accuracy: 0.7860\n",
      "Epoch 112/200\n",
      "70/70 [==============================] - 0s 5ms/step - loss: 0.4119 - accuracy: 0.8003 - val_loss: 0.4515 - val_accuracy: 0.7860\n",
      "Epoch 113/200\n",
      "70/70 [==============================] - 0s 6ms/step - loss: 0.4119 - accuracy: 0.8008 - val_loss: 0.4517 - val_accuracy: 0.7860\n",
      "Epoch 114/200\n",
      "70/70 [==============================] - 0s 5ms/step - loss: 0.4117 - accuracy: 0.8017 - val_loss: 0.4512 - val_accuracy: 0.7840\n",
      "Epoch 115/200\n",
      "70/70 [==============================] - 0s 5ms/step - loss: 0.4118 - accuracy: 0.8014 - val_loss: 0.4514 - val_accuracy: 0.7860\n",
      "Epoch 116/200\n",
      "70/70 [==============================] - 0s 5ms/step - loss: 0.4118 - accuracy: 0.8005 - val_loss: 0.4513 - val_accuracy: 0.7840\n",
      "Epoch 117/200\n"
     ]
    },
    {
     "name": "stdout",
     "output_type": "stream",
     "text": [
      "70/70 [==============================] - 0s 5ms/step - loss: 0.4117 - accuracy: 0.8004 - val_loss: 0.4515 - val_accuracy: 0.7840\n",
      "Epoch 118/200\n",
      "70/70 [==============================] - 0s 5ms/step - loss: 0.4117 - accuracy: 0.8013 - val_loss: 0.4516 - val_accuracy: 0.7840\n",
      "Epoch 119/200\n",
      "70/70 [==============================] - 0s 5ms/step - loss: 0.4117 - accuracy: 0.8010 - val_loss: 0.4515 - val_accuracy: 0.7860\n",
      "Epoch 120/200\n",
      "70/70 [==============================] - 0s 6ms/step - loss: 0.4115 - accuracy: 0.8016 - val_loss: 0.4512 - val_accuracy: 0.7840\n",
      "Epoch 121/200\n",
      "70/70 [==============================] - 0s 5ms/step - loss: 0.4116 - accuracy: 0.8000 - val_loss: 0.4516 - val_accuracy: 0.7840\n",
      "Epoch 122/200\n",
      "70/70 [==============================] - 0s 5ms/step - loss: 0.4115 - accuracy: 0.8014 - val_loss: 0.4514 - val_accuracy: 0.7840\n",
      "Epoch 123/200\n",
      "70/70 [==============================] - 0s 5ms/step - loss: 0.4114 - accuracy: 0.8013 - val_loss: 0.4513 - val_accuracy: 0.7840\n",
      "Epoch 124/200\n",
      "70/70 [==============================] - 0s 5ms/step - loss: 0.4114 - accuracy: 0.8014 - val_loss: 0.4513 - val_accuracy: 0.7840\n",
      "Epoch 125/200\n",
      "70/70 [==============================] - 0s 5ms/step - loss: 0.4113 - accuracy: 0.8008 - val_loss: 0.4511 - val_accuracy: 0.7840\n",
      "Epoch 126/200\n",
      "70/70 [==============================] - 0s 6ms/step - loss: 0.4114 - accuracy: 0.8013 - val_loss: 0.4511 - val_accuracy: 0.7840\n",
      "Epoch 127/200\n",
      "70/70 [==============================] - 0s 5ms/step - loss: 0.4113 - accuracy: 0.8014 - val_loss: 0.4508 - val_accuracy: 0.7840\n",
      "Epoch 128/200\n",
      "70/70 [==============================] - 0s 5ms/step - loss: 0.4112 - accuracy: 0.8020 - val_loss: 0.4512 - val_accuracy: 0.7840\n",
      "Epoch 129/200\n",
      "70/70 [==============================] - 0s 5ms/step - loss: 0.4113 - accuracy: 0.8014 - val_loss: 0.4513 - val_accuracy: 0.7840\n",
      "Epoch 130/200\n",
      "70/70 [==============================] - 0s 5ms/step - loss: 0.4112 - accuracy: 0.8016 - val_loss: 0.4508 - val_accuracy: 0.7840\n",
      "Epoch 131/200\n",
      "70/70 [==============================] - 0s 5ms/step - loss: 0.4110 - accuracy: 0.8001 - val_loss: 0.4506 - val_accuracy: 0.7840\n",
      "Epoch 132/200\n",
      "70/70 [==============================] - 0s 5ms/step - loss: 0.4110 - accuracy: 0.8010 - val_loss: 0.4508 - val_accuracy: 0.7840\n",
      "Epoch 133/200\n",
      "70/70 [==============================] - 0s 5ms/step - loss: 0.4110 - accuracy: 0.8008 - val_loss: 0.4513 - val_accuracy: 0.7840\n",
      "Epoch 134/200\n",
      "70/70 [==============================] - 0s 5ms/step - loss: 0.4109 - accuracy: 0.8005 - val_loss: 0.4511 - val_accuracy: 0.7860\n",
      "Epoch 135/200\n",
      "70/70 [==============================] - 0s 5ms/step - loss: 0.4110 - accuracy: 0.8013 - val_loss: 0.4508 - val_accuracy: 0.7840\n",
      "Epoch 136/200\n",
      "70/70 [==============================] - 0s 5ms/step - loss: 0.4109 - accuracy: 0.8014 - val_loss: 0.4508 - val_accuracy: 0.7840\n",
      "Epoch 137/200\n",
      "70/70 [==============================] - 0s 5ms/step - loss: 0.4107 - accuracy: 0.8010 - val_loss: 0.4509 - val_accuracy: 0.7840\n",
      "Epoch 138/200\n",
      "70/70 [==============================] - 0s 5ms/step - loss: 0.4109 - accuracy: 0.8013 - val_loss: 0.4508 - val_accuracy: 0.7840\n",
      "Epoch 139/200\n",
      "70/70 [==============================] - 0s 6ms/step - loss: 0.4107 - accuracy: 0.8010 - val_loss: 0.4511 - val_accuracy: 0.7860\n",
      "Epoch 140/200\n",
      "70/70 [==============================] - 0s 5ms/step - loss: 0.4109 - accuracy: 0.8000 - val_loss: 0.4507 - val_accuracy: 0.7840\n",
      "Epoch 141/200\n",
      "70/70 [==============================] - 0s 5ms/step - loss: 0.4108 - accuracy: 0.8013 - val_loss: 0.4503 - val_accuracy: 0.7840\n",
      "Epoch 142/200\n",
      "70/70 [==============================] - 0s 5ms/step - loss: 0.4107 - accuracy: 0.8016 - val_loss: 0.4503 - val_accuracy: 0.7840\n",
      "Epoch 143/200\n",
      "70/70 [==============================] - 0s 5ms/step - loss: 0.4107 - accuracy: 0.8013 - val_loss: 0.4505 - val_accuracy: 0.7860\n",
      "Epoch 144/200\n",
      "70/70 [==============================] - 0s 5ms/step - loss: 0.4107 - accuracy: 0.8008 - val_loss: 0.4504 - val_accuracy: 0.7840\n",
      "Epoch 145/200\n",
      "70/70 [==============================] - 0s 5ms/step - loss: 0.4106 - accuracy: 0.8008 - val_loss: 0.4504 - val_accuracy: 0.7840\n",
      "Epoch 146/200\n",
      "70/70 [==============================] - 0s 5ms/step - loss: 0.4106 - accuracy: 0.8003 - val_loss: 0.4505 - val_accuracy: 0.7840\n",
      "Epoch 147/200\n",
      "70/70 [==============================] - 0s 5ms/step - loss: 0.4104 - accuracy: 0.8013 - val_loss: 0.4503 - val_accuracy: 0.7840\n",
      "Epoch 148/200\n",
      "70/70 [==============================] - 0s 5ms/step - loss: 0.4104 - accuracy: 0.8008 - val_loss: 0.4505 - val_accuracy: 0.7860\n",
      "Epoch 149/200\n",
      "70/70 [==============================] - 0s 5ms/step - loss: 0.4105 - accuracy: 0.8013 - val_loss: 0.4505 - val_accuracy: 0.7860\n",
      "Epoch 150/200\n",
      "70/70 [==============================] - 0s 5ms/step - loss: 0.4104 - accuracy: 0.8013 - val_loss: 0.4499 - val_accuracy: 0.7840\n",
      "Epoch 151/200\n",
      "70/70 [==============================] - 0s 6ms/step - loss: 0.4103 - accuracy: 0.8016 - val_loss: 0.4505 - val_accuracy: 0.7860\n",
      "Epoch 152/200\n",
      "70/70 [==============================] - 0s 6ms/step - loss: 0.4103 - accuracy: 0.8005 - val_loss: 0.4505 - val_accuracy: 0.7840\n",
      "Epoch 153/200\n",
      "70/70 [==============================] - 0s 5ms/step - loss: 0.4103 - accuracy: 0.8016 - val_loss: 0.4499 - val_accuracy: 0.7840\n",
      "Epoch 154/200\n",
      "70/70 [==============================] - 0s 6ms/step - loss: 0.4103 - accuracy: 0.8014 - val_loss: 0.4499 - val_accuracy: 0.7840\n",
      "Epoch 155/200\n",
      "70/70 [==============================] - 0s 5ms/step - loss: 0.4102 - accuracy: 0.8001 - val_loss: 0.4500 - val_accuracy: 0.7820\n",
      "Epoch 156/200\n",
      "70/70 [==============================] - 0s 6ms/step - loss: 0.4102 - accuracy: 0.8008 - val_loss: 0.4498 - val_accuracy: 0.7840\n",
      "Epoch 157/200\n",
      "70/70 [==============================] - 0s 5ms/step - loss: 0.4102 - accuracy: 0.8010 - val_loss: 0.4501 - val_accuracy: 0.7840\n",
      "Epoch 158/200\n",
      "70/70 [==============================] - 0s 5ms/step - loss: 0.4101 - accuracy: 0.8016 - val_loss: 0.4498 - val_accuracy: 0.7840\n",
      "Epoch 159/200\n",
      "70/70 [==============================] - 0s 5ms/step - loss: 0.4100 - accuracy: 0.8008 - val_loss: 0.4499 - val_accuracy: 0.7840\n",
      "Epoch 160/200\n",
      "70/70 [==============================] - 0s 5ms/step - loss: 0.4100 - accuracy: 0.8004 - val_loss: 0.4499 - val_accuracy: 0.7840\n",
      "Epoch 161/200\n",
      "70/70 [==============================] - 0s 5ms/step - loss: 0.4099 - accuracy: 0.8013 - val_loss: 0.4494 - val_accuracy: 0.7840\n",
      "Epoch 162/200\n",
      "70/70 [==============================] - 0s 5ms/step - loss: 0.4100 - accuracy: 0.8007 - val_loss: 0.4495 - val_accuracy: 0.7840\n",
      "Epoch 163/200\n",
      "70/70 [==============================] - 0s 5ms/step - loss: 0.4100 - accuracy: 0.8014 - val_loss: 0.4493 - val_accuracy: 0.7840\n",
      "Epoch 164/200\n",
      "70/70 [==============================] - 0s 5ms/step - loss: 0.4099 - accuracy: 0.8011 - val_loss: 0.4498 - val_accuracy: 0.7840\n",
      "Epoch 165/200\n",
      "70/70 [==============================] - 0s 6ms/step - loss: 0.4099 - accuracy: 0.8016 - val_loss: 0.4495 - val_accuracy: 0.7840\n",
      "Epoch 166/200\n",
      "70/70 [==============================] - 0s 6ms/step - loss: 0.4097 - accuracy: 0.8011 - val_loss: 0.4503 - val_accuracy: 0.7840\n",
      "Epoch 167/200\n",
      "70/70 [==============================] - 0s 6ms/step - loss: 0.4097 - accuracy: 0.8014 - val_loss: 0.4492 - val_accuracy: 0.7820\n",
      "Epoch 168/200\n",
      "70/70 [==============================] - 0s 6ms/step - loss: 0.4098 - accuracy: 0.8010 - val_loss: 0.4488 - val_accuracy: 0.7840\n",
      "Epoch 169/200\n",
      "70/70 [==============================] - 0s 5ms/step - loss: 0.4098 - accuracy: 0.8010 - val_loss: 0.4492 - val_accuracy: 0.7840\n",
      "Epoch 170/200\n",
      "70/70 [==============================] - 0s 5ms/step - loss: 0.4097 - accuracy: 0.8016 - val_loss: 0.4489 - val_accuracy: 0.7840\n",
      "Epoch 171/200\n",
      "70/70 [==============================] - 0s 6ms/step - loss: 0.4096 - accuracy: 0.8014 - val_loss: 0.4487 - val_accuracy: 0.7840\n",
      "Epoch 172/200\n",
      "70/70 [==============================] - 0s 6ms/step - loss: 0.4097 - accuracy: 0.8008 - val_loss: 0.4491 - val_accuracy: 0.7840\n",
      "Epoch 173/200\n",
      "70/70 [==============================] - 0s 5ms/step - loss: 0.4096 - accuracy: 0.8010 - val_loss: 0.4488 - val_accuracy: 0.7840\n",
      "Epoch 174/200\n"
     ]
    },
    {
     "name": "stdout",
     "output_type": "stream",
     "text": [
      "70/70 [==============================] - 0s 5ms/step - loss: 0.4097 - accuracy: 0.8016 - val_loss: 0.4491 - val_accuracy: 0.7840\n",
      "Epoch 175/200\n",
      "70/70 [==============================] - 0s 5ms/step - loss: 0.4097 - accuracy: 0.8011 - val_loss: 0.4490 - val_accuracy: 0.7840\n",
      "Epoch 176/200\n",
      "70/70 [==============================] - 0s 5ms/step - loss: 0.4095 - accuracy: 0.8010 - val_loss: 0.4490 - val_accuracy: 0.7840\n",
      "Epoch 177/200\n",
      "70/70 [==============================] - 0s 5ms/step - loss: 0.4094 - accuracy: 0.8008 - val_loss: 0.4483 - val_accuracy: 0.7820\n",
      "Epoch 178/200\n",
      "70/70 [==============================] - 0s 5ms/step - loss: 0.4096 - accuracy: 0.8013 - val_loss: 0.4485 - val_accuracy: 0.7840\n",
      "Epoch 179/200\n",
      "70/70 [==============================] - 0s 5ms/step - loss: 0.4096 - accuracy: 0.8014 - val_loss: 0.4486 - val_accuracy: 0.7840\n",
      "Epoch 180/200\n",
      "70/70 [==============================] - 0s 5ms/step - loss: 0.4096 - accuracy: 0.8016 - val_loss: 0.4488 - val_accuracy: 0.7840\n",
      "Epoch 181/200\n",
      "70/70 [==============================] - 0s 5ms/step - loss: 0.4095 - accuracy: 0.8005 - val_loss: 0.4485 - val_accuracy: 0.7820\n",
      "Epoch 182/200\n",
      "70/70 [==============================] - 0s 5ms/step - loss: 0.4094 - accuracy: 0.8000 - val_loss: 0.4488 - val_accuracy: 0.7840\n",
      "Epoch 183/200\n",
      "70/70 [==============================] - 0s 6ms/step - loss: 0.4095 - accuracy: 0.8005 - val_loss: 0.4491 - val_accuracy: 0.7840\n",
      "Epoch 184/200\n",
      "70/70 [==============================] - 0s 6ms/step - loss: 0.4094 - accuracy: 0.8016 - val_loss: 0.4491 - val_accuracy: 0.7840\n",
      "Epoch 185/200\n",
      "70/70 [==============================] - 0s 5ms/step - loss: 0.4094 - accuracy: 0.8017 - val_loss: 0.4485 - val_accuracy: 0.7840\n",
      "Epoch 186/200\n",
      "70/70 [==============================] - 0s 5ms/step - loss: 0.4094 - accuracy: 0.8005 - val_loss: 0.4485 - val_accuracy: 0.7840\n",
      "Epoch 187/200\n",
      "70/70 [==============================] - 0s 5ms/step - loss: 0.4094 - accuracy: 0.8013 - val_loss: 0.4483 - val_accuracy: 0.7820\n",
      "Epoch 188/200\n",
      "70/70 [==============================] - 0s 5ms/step - loss: 0.4093 - accuracy: 0.8000 - val_loss: 0.4487 - val_accuracy: 0.7820\n",
      "Epoch 189/200\n",
      "70/70 [==============================] - 0s 5ms/step - loss: 0.4092 - accuracy: 0.8005 - val_loss: 0.4484 - val_accuracy: 0.7840\n",
      "Epoch 190/200\n",
      "70/70 [==============================] - 0s 5ms/step - loss: 0.4093 - accuracy: 0.8018 - val_loss: 0.4484 - val_accuracy: 0.7840\n",
      "Epoch 191/200\n",
      "70/70 [==============================] - 0s 5ms/step - loss: 0.4092 - accuracy: 0.8017 - val_loss: 0.4481 - val_accuracy: 0.7840\n",
      "Epoch 192/200\n",
      "70/70 [==============================] - 0s 5ms/step - loss: 0.4092 - accuracy: 0.8008 - val_loss: 0.4482 - val_accuracy: 0.7820\n",
      "Epoch 193/200\n",
      "70/70 [==============================] - 0s 5ms/step - loss: 0.4091 - accuracy: 0.8003 - val_loss: 0.4484 - val_accuracy: 0.7840\n",
      "Epoch 194/200\n",
      "70/70 [==============================] - 0s 5ms/step - loss: 0.4092 - accuracy: 0.8018 - val_loss: 0.4483 - val_accuracy: 0.7840\n",
      "Epoch 195/200\n",
      "70/70 [==============================] - 0s 5ms/step - loss: 0.4090 - accuracy: 0.8013 - val_loss: 0.4488 - val_accuracy: 0.7860\n",
      "Epoch 196/200\n",
      "70/70 [==============================] - 0s 5ms/step - loss: 0.4092 - accuracy: 0.8014 - val_loss: 0.4482 - val_accuracy: 0.7840\n",
      "Epoch 197/200\n",
      "70/70 [==============================] - 0s 5ms/step - loss: 0.4091 - accuracy: 0.8016 - val_loss: 0.4484 - val_accuracy: 0.7840\n",
      "Epoch 198/200\n",
      "70/70 [==============================] - 0s 5ms/step - loss: 0.4091 - accuracy: 0.8011 - val_loss: 0.4482 - val_accuracy: 0.7840\n",
      "Epoch 199/200\n",
      "70/70 [==============================] - 0s 5ms/step - loss: 0.4090 - accuracy: 0.8010 - val_loss: 0.4481 - val_accuracy: 0.7840\n",
      "Epoch 200/200\n",
      "70/70 [==============================] - 0s 5ms/step - loss: 0.4090 - accuracy: 0.8018 - val_loss: 0.4477 - val_accuracy: 0.7840\n"
     ]
    }
   ],
   "source": [
    "history = model.fit(np.array(train_data),\n",
    "                    train_labels,\n",
    "                    epochs=200,\n",
    "                    batch_size=100,\n",
    "                    validation_data=(devtest_data, devtest_labels))"
   ]
  },
  {
   "cell_type": "code",
   "execution_count": 71,
   "metadata": {},
   "outputs": [
    {
     "data": {
      "image/png": "[encoded data removed]",
      "text/plain": [
       "<Figure size 432x288 with 1 Axes>"
      ]
     },
     "metadata": {
      "needs_background": "light"
     },
     "output_type": "display_data"
    }
   ],
   "source": [
    "plot_history(history)"
   ]
  },
  {
   "cell_type": "markdown",
   "metadata": {},
   "source": [
    "*(Results on the validation set did not improve. Let's try a middle value with 7 cells)*"
   ]
  },
  {
   "cell_type": "code",
   "execution_count": 72,
   "metadata": {},
   "outputs": [],
   "source": [
    "model = models.Sequential()\n",
    "model.add(layers.Dense(7, activation='relu'))\n",
    "model.add(layers.Dense(1, activation='sigmoid'))\n",
    "model.compile(optimizer='rmsprop',\n",
    "              loss='binary_crossentropy',\n",
    "              metrics=['accuracy'])"
   ]
  },
  {
   "cell_type": "code",
   "execution_count": 73,
   "metadata": {},
   "outputs": [
    {
     "name": "stdout",
     "output_type": "stream",
     "text": [
      "Epoch 1/100\n"
     ]
    },
    {
     "name": "stderr",
     "output_type": "stream",
     "text": [
      "2022-04-12 14:28:22.218325: I tensorflow/core/grappler/optimizers/custom_graph_optimizer_registry.cc:113] Plugin optimizer for device_type GPU is enabled.\n"
     ]
    },
    {
     "name": "stdout",
     "output_type": "stream",
     "text": [
      "70/70 [==============================] - 1s 7ms/step - loss: 0.6190 - accuracy: 0.6781 - val_loss: 0.5905 - val_accuracy: 0.7000\n",
      "Epoch 2/100\n",
      "20/70 [=======>......................] - ETA: 0s - loss: 0.5896 - accuracy: 0.6865"
     ]
    },
    {
     "name": "stderr",
     "output_type": "stream",
     "text": [
      "2022-04-12 14:28:22.967284: I tensorflow/core/grappler/optimizers/custom_graph_optimizer_registry.cc:113] Plugin optimizer for device_type GPU is enabled.\n"
     ]
    },
    {
     "name": "stdout",
     "output_type": "stream",
     "text": [
      "70/70 [==============================] - 0s 5ms/step - loss: 0.5716 - accuracy: 0.6937 - val_loss: 0.5540 - val_accuracy: 0.6980\n",
      "Epoch 3/100\n",
      "70/70 [==============================] - 0s 6ms/step - loss: 0.5351 - accuracy: 0.7425 - val_loss: 0.5259 - val_accuracy: 0.7460\n",
      "Epoch 4/100\n",
      "70/70 [==============================] - 0s 5ms/step - loss: 0.5061 - accuracy: 0.7598 - val_loss: 0.5066 - val_accuracy: 0.7480\n",
      "Epoch 5/100\n",
      "70/70 [==============================] - 0s 5ms/step - loss: 0.4846 - accuracy: 0.7648 - val_loss: 0.4934 - val_accuracy: 0.7580\n",
      "Epoch 6/100\n",
      "70/70 [==============================] - 0s 5ms/step - loss: 0.4695 - accuracy: 0.7707 - val_loss: 0.4845 - val_accuracy: 0.7600\n",
      "Epoch 7/100\n",
      "70/70 [==============================] - 0s 5ms/step - loss: 0.4588 - accuracy: 0.7759 - val_loss: 0.4789 - val_accuracy: 0.7640\n",
      "Epoch 8/100\n",
      "70/70 [==============================] - 0s 5ms/step - loss: 0.4513 - accuracy: 0.7765 - val_loss: 0.4758 - val_accuracy: 0.7760\n",
      "Epoch 9/100\n",
      "70/70 [==============================] - 0s 6ms/step - loss: 0.4463 - accuracy: 0.7817 - val_loss: 0.4741 - val_accuracy: 0.7800\n",
      "Epoch 10/100\n",
      "70/70 [==============================] - 0s 5ms/step - loss: 0.4431 - accuracy: 0.7840 - val_loss: 0.4734 - val_accuracy: 0.7800\n",
      "Epoch 11/100\n",
      "70/70 [==============================] - 0s 6ms/step - loss: 0.4407 - accuracy: 0.7844 - val_loss: 0.4726 - val_accuracy: 0.7800\n",
      "Epoch 12/100\n",
      "70/70 [==============================] - 0s 6ms/step - loss: 0.4390 - accuracy: 0.7846 - val_loss: 0.4724 - val_accuracy: 0.7800\n",
      "Epoch 13/100\n",
      "70/70 [==============================] - 0s 5ms/step - loss: 0.4377 - accuracy: 0.7854 - val_loss: 0.4725 - val_accuracy: 0.7780\n",
      "Epoch 14/100\n",
      "70/70 [==============================] - 0s 5ms/step - loss: 0.4366 - accuracy: 0.7859 - val_loss: 0.4720 - val_accuracy: 0.7800\n",
      "Epoch 15/100\n",
      "70/70 [==============================] - 0s 5ms/step - loss: 0.4358 - accuracy: 0.7872 - val_loss: 0.4718 - val_accuracy: 0.7820\n",
      "Epoch 16/100\n",
      "70/70 [==============================] - 0s 5ms/step - loss: 0.4351 - accuracy: 0.7874 - val_loss: 0.4716 - val_accuracy: 0.7820\n",
      "Epoch 17/100\n",
      "70/70 [==============================] - 0s 6ms/step - loss: 0.4344 - accuracy: 0.7863 - val_loss: 0.4719 - val_accuracy: 0.7760\n",
      "Epoch 18/100\n",
      "70/70 [==============================] - 0s 6ms/step - loss: 0.4339 - accuracy: 0.7869 - val_loss: 0.4711 - val_accuracy: 0.7780\n",
      "Epoch 19/100\n",
      "70/70 [==============================] - 0s 6ms/step - loss: 0.4334 - accuracy: 0.7869 - val_loss: 0.4710 - val_accuracy: 0.7780\n",
      "Epoch 20/100\n",
      "70/70 [==============================] - 0s 5ms/step - loss: 0.4330 - accuracy: 0.7877 - val_loss: 0.4709 - val_accuracy: 0.7780\n",
      "Epoch 21/100\n",
      "70/70 [==============================] - 0s 5ms/step - loss: 0.4325 - accuracy: 0.7880 - val_loss: 0.4712 - val_accuracy: 0.7780\n",
      "Epoch 22/100\n",
      "70/70 [==============================] - 0s 5ms/step - loss: 0.4322 - accuracy: 0.7882 - val_loss: 0.4705 - val_accuracy: 0.7780\n",
      "Epoch 23/100\n",
      "70/70 [==============================] - 0s 6ms/step - loss: 0.4318 - accuracy: 0.7896 - val_loss: 0.4702 - val_accuracy: 0.7780\n",
      "Epoch 24/100\n",
      "70/70 [==============================] - 0s 6ms/step - loss: 0.4314 - accuracy: 0.7879 - val_loss: 0.4700 - val_accuracy: 0.7780\n",
      "Epoch 25/100\n",
      "70/70 [==============================] - 0s 6ms/step - loss: 0.4311 - accuracy: 0.7886 - val_loss: 0.4700 - val_accuracy: 0.7780\n",
      "Epoch 26/100\n",
      "70/70 [==============================] - 0s 5ms/step - loss: 0.4308 - accuracy: 0.7895 - val_loss: 0.4699 - val_accuracy: 0.7760\n",
      "Epoch 27/100\n",
      "70/70 [==============================] - 0s 5ms/step - loss: 0.4304 - accuracy: 0.7899 - val_loss: 0.4703 - val_accuracy: 0.7760\n",
      "Epoch 28/100\n",
      "70/70 [==============================] - 0s 5ms/step - loss: 0.4304 - accuracy: 0.7903 - val_loss: 0.4698 - val_accuracy: 0.7760\n",
      "Epoch 29/100\n",
      "70/70 [==============================] - 0s 5ms/step - loss: 0.4300 - accuracy: 0.7910 - val_loss: 0.4691 - val_accuracy: 0.7760\n",
      "Epoch 30/100\n",
      "70/70 [==============================] - 0s 5ms/step - loss: 0.4297 - accuracy: 0.7899 - val_loss: 0.4690 - val_accuracy: 0.7760\n",
      "Epoch 31/100\n",
      "70/70 [==============================] - 0s 5ms/step - loss: 0.4294 - accuracy: 0.7915 - val_loss: 0.4687 - val_accuracy: 0.7760\n",
      "Epoch 32/100\n",
      "70/70 [==============================] - 0s 6ms/step - loss: 0.4291 - accuracy: 0.7912 - val_loss: 0.4686 - val_accuracy: 0.7780\n",
      "Epoch 33/100\n",
      "70/70 [==============================] - 0s 5ms/step - loss: 0.4288 - accuracy: 0.7928 - val_loss: 0.4689 - val_accuracy: 0.7760\n",
      "Epoch 34/100\n",
      "70/70 [==============================] - 0s 6ms/step - loss: 0.4287 - accuracy: 0.7909 - val_loss: 0.4682 - val_accuracy: 0.7760\n",
      "Epoch 35/100\n",
      "70/70 [==============================] - 0s 5ms/step - loss: 0.4285 - accuracy: 0.7919 - val_loss: 0.4681 - val_accuracy: 0.7760\n",
      "Epoch 36/100\n",
      "70/70 [==============================] - 0s 6ms/step - loss: 0.4283 - accuracy: 0.7923 - val_loss: 0.4682 - val_accuracy: 0.7760\n",
      "Epoch 37/100\n",
      "70/70 [==============================] - 0s 5ms/step - loss: 0.4280 - accuracy: 0.7925 - val_loss: 0.4687 - val_accuracy: 0.7740\n",
      "Epoch 38/100\n",
      "70/70 [==============================] - 0s 5ms/step - loss: 0.4279 - accuracy: 0.7926 - val_loss: 0.4682 - val_accuracy: 0.7760\n",
      "Epoch 39/100\n",
      "70/70 [==============================] - 0s 5ms/step - loss: 0.4276 - accuracy: 0.7931 - val_loss: 0.4681 - val_accuracy: 0.7760\n",
      "Epoch 40/100\n",
      "70/70 [==============================] - 0s 5ms/step - loss: 0.4274 - accuracy: 0.7913 - val_loss: 0.4677 - val_accuracy: 0.7780\n",
      "Epoch 41/100\n",
      "70/70 [==============================] - 0s 5ms/step - loss: 0.4274 - accuracy: 0.7928 - val_loss: 0.4680 - val_accuracy: 0.7780\n",
      "Epoch 42/100\n",
      "70/70 [==============================] - 0s 5ms/step - loss: 0.4271 - accuracy: 0.7918 - val_loss: 0.4678 - val_accuracy: 0.7780\n",
      "Epoch 43/100\n",
      "70/70 [==============================] - 0s 5ms/step - loss: 0.4268 - accuracy: 0.7925 - val_loss: 0.4673 - val_accuracy: 0.7780\n",
      "Epoch 44/100\n",
      "70/70 [==============================] - 0s 5ms/step - loss: 0.4267 - accuracy: 0.7932 - val_loss: 0.4676 - val_accuracy: 0.7760\n",
      "Epoch 45/100\n",
      "70/70 [==============================] - 0s 5ms/step - loss: 0.4265 - accuracy: 0.7933 - val_loss: 0.4674 - val_accuracy: 0.7780\n",
      "Epoch 46/100\n",
      "70/70 [==============================] - 0s 5ms/step - loss: 0.4263 - accuracy: 0.7944 - val_loss: 0.4677 - val_accuracy: 0.7800\n",
      "Epoch 47/100\n",
      "70/70 [==============================] - 0s 5ms/step - loss: 0.4263 - accuracy: 0.7936 - val_loss: 0.4672 - val_accuracy: 0.7820\n",
      "Epoch 48/100\n",
      "70/70 [==============================] - 0s 5ms/step - loss: 0.4261 - accuracy: 0.7938 - val_loss: 0.4671 - val_accuracy: 0.7820\n",
      "Epoch 49/100\n",
      "70/70 [==============================] - 0s 5ms/step - loss: 0.4259 - accuracy: 0.7935 - val_loss: 0.4676 - val_accuracy: 0.7780\n",
      "Epoch 50/100\n",
      "70/70 [==============================] - 0s 5ms/step - loss: 0.4257 - accuracy: 0.7961 - val_loss: 0.4667 - val_accuracy: 0.7820\n",
      "Epoch 51/100\n",
      "70/70 [==============================] - 0s 5ms/step - loss: 0.4257 - accuracy: 0.7948 - val_loss: 0.4665 - val_accuracy: 0.7820\n",
      "Epoch 52/100\n",
      "70/70 [==============================] - 0s 5ms/step - loss: 0.4255 - accuracy: 0.7936 - val_loss: 0.4663 - val_accuracy: 0.7820\n",
      "Epoch 53/100\n",
      "70/70 [==============================] - 0s 5ms/step - loss: 0.4253 - accuracy: 0.7948 - val_loss: 0.4676 - val_accuracy: 0.7780\n",
      "Epoch 54/100\n",
      "70/70 [==============================] - 0s 5ms/step - loss: 0.4253 - accuracy: 0.7955 - val_loss: 0.4668 - val_accuracy: 0.7820\n",
      "Epoch 55/100\n",
      "70/70 [==============================] - 0s 5ms/step - loss: 0.4250 - accuracy: 0.7945 - val_loss: 0.4668 - val_accuracy: 0.7820\n",
      "Epoch 56/100\n",
      "70/70 [==============================] - 0s 5ms/step - loss: 0.4250 - accuracy: 0.7939 - val_loss: 0.4671 - val_accuracy: 0.7820\n",
      "Epoch 57/100\n",
      "70/70 [==============================] - 0s 5ms/step - loss: 0.4249 - accuracy: 0.7961 - val_loss: 0.4667 - val_accuracy: 0.7820\n",
      "Epoch 58/100\n",
      "70/70 [==============================] - 0s 5ms/step - loss: 0.4248 - accuracy: 0.7952 - val_loss: 0.4663 - val_accuracy: 0.7820\n",
      "Epoch 59/100\n",
      "70/70 [==============================] - 0s 5ms/step - loss: 0.4246 - accuracy: 0.7948 - val_loss: 0.4663 - val_accuracy: 0.7820\n"
     ]
    },
    {
     "name": "stdout",
     "output_type": "stream",
     "text": [
      "Epoch 60/100\n",
      "70/70 [==============================] - 0s 5ms/step - loss: 0.4244 - accuracy: 0.7952 - val_loss: 0.4657 - val_accuracy: 0.7820\n",
      "Epoch 61/100\n",
      "70/70 [==============================] - 0s 5ms/step - loss: 0.4243 - accuracy: 0.7949 - val_loss: 0.4654 - val_accuracy: 0.7820\n",
      "Epoch 62/100\n",
      "70/70 [==============================] - 0s 5ms/step - loss: 0.4243 - accuracy: 0.7933 - val_loss: 0.4660 - val_accuracy: 0.7800\n",
      "Epoch 63/100\n",
      "70/70 [==============================] - 0s 5ms/step - loss: 0.4240 - accuracy: 0.7951 - val_loss: 0.4655 - val_accuracy: 0.7820\n",
      "Epoch 64/100\n",
      "70/70 [==============================] - 0s 5ms/step - loss: 0.4239 - accuracy: 0.7944 - val_loss: 0.4656 - val_accuracy: 0.7820\n",
      "Epoch 65/100\n",
      "70/70 [==============================] - 0s 5ms/step - loss: 0.4238 - accuracy: 0.7944 - val_loss: 0.4658 - val_accuracy: 0.7800\n",
      "Epoch 66/100\n",
      "70/70 [==============================] - 0s 5ms/step - loss: 0.4236 - accuracy: 0.7936 - val_loss: 0.4655 - val_accuracy: 0.7800\n",
      "Epoch 67/100\n",
      "70/70 [==============================] - 0s 6ms/step - loss: 0.4233 - accuracy: 0.7969 - val_loss: 0.4651 - val_accuracy: 0.7820\n",
      "Epoch 68/100\n",
      "70/70 [==============================] - 0s 5ms/step - loss: 0.4233 - accuracy: 0.7951 - val_loss: 0.4655 - val_accuracy: 0.7800\n",
      "Epoch 69/100\n",
      "70/70 [==============================] - 0s 5ms/step - loss: 0.4232 - accuracy: 0.7952 - val_loss: 0.4652 - val_accuracy: 0.7820\n",
      "Epoch 70/100\n",
      "70/70 [==============================] - 0s 5ms/step - loss: 0.4231 - accuracy: 0.7957 - val_loss: 0.4650 - val_accuracy: 0.7800\n",
      "Epoch 71/100\n",
      "70/70 [==============================] - 0s 5ms/step - loss: 0.4228 - accuracy: 0.7961 - val_loss: 0.4651 - val_accuracy: 0.7820\n",
      "Epoch 72/100\n",
      "70/70 [==============================] - 0s 6ms/step - loss: 0.4227 - accuracy: 0.7955 - val_loss: 0.4651 - val_accuracy: 0.7820\n",
      "Epoch 73/100\n",
      "70/70 [==============================] - 0s 5ms/step - loss: 0.4226 - accuracy: 0.7945 - val_loss: 0.4649 - val_accuracy: 0.7840\n",
      "Epoch 74/100\n",
      "70/70 [==============================] - 0s 5ms/step - loss: 0.4224 - accuracy: 0.7957 - val_loss: 0.4655 - val_accuracy: 0.7820\n",
      "Epoch 75/100\n",
      "70/70 [==============================] - 0s 5ms/step - loss: 0.4223 - accuracy: 0.7955 - val_loss: 0.4645 - val_accuracy: 0.7840\n",
      "Epoch 76/100\n",
      "70/70 [==============================] - 0s 6ms/step - loss: 0.4223 - accuracy: 0.7951 - val_loss: 0.4647 - val_accuracy: 0.7840\n",
      "Epoch 77/100\n",
      "70/70 [==============================] - 0s 5ms/step - loss: 0.4221 - accuracy: 0.7941 - val_loss: 0.4645 - val_accuracy: 0.7840\n",
      "Epoch 78/100\n",
      "70/70 [==============================] - 0s 5ms/step - loss: 0.4219 - accuracy: 0.7967 - val_loss: 0.4649 - val_accuracy: 0.7820\n",
      "Epoch 79/100\n",
      "70/70 [==============================] - 0s 6ms/step - loss: 0.4219 - accuracy: 0.7959 - val_loss: 0.4643 - val_accuracy: 0.7820\n",
      "Epoch 80/100\n",
      "70/70 [==============================] - 0s 6ms/step - loss: 0.4216 - accuracy: 0.7954 - val_loss: 0.4638 - val_accuracy: 0.7840\n",
      "Epoch 81/100\n",
      "70/70 [==============================] - 0s 6ms/step - loss: 0.4216 - accuracy: 0.7964 - val_loss: 0.4639 - val_accuracy: 0.7840\n",
      "Epoch 82/100\n",
      "70/70 [==============================] - 0s 6ms/step - loss: 0.4214 - accuracy: 0.7962 - val_loss: 0.4641 - val_accuracy: 0.7820\n",
      "Epoch 83/100\n",
      "70/70 [==============================] - 0s 6ms/step - loss: 0.4214 - accuracy: 0.7951 - val_loss: 0.4644 - val_accuracy: 0.7820\n",
      "Epoch 84/100\n",
      "70/70 [==============================] - 0s 5ms/step - loss: 0.4213 - accuracy: 0.7952 - val_loss: 0.4640 - val_accuracy: 0.7820\n",
      "Epoch 85/100\n",
      "70/70 [==============================] - 0s 5ms/step - loss: 0.4212 - accuracy: 0.7955 - val_loss: 0.4635 - val_accuracy: 0.7820\n",
      "Epoch 86/100\n",
      "70/70 [==============================] - 0s 6ms/step - loss: 0.4211 - accuracy: 0.7959 - val_loss: 0.4637 - val_accuracy: 0.7820\n",
      "Epoch 87/100\n",
      "70/70 [==============================] - 0s 6ms/step - loss: 0.4209 - accuracy: 0.7955 - val_loss: 0.4634 - val_accuracy: 0.7820\n",
      "Epoch 88/100\n",
      "70/70 [==============================] - 0s 6ms/step - loss: 0.4209 - accuracy: 0.7954 - val_loss: 0.4632 - val_accuracy: 0.7820\n",
      "Epoch 89/100\n",
      "70/70 [==============================] - 0s 5ms/step - loss: 0.4207 - accuracy: 0.7969 - val_loss: 0.4633 - val_accuracy: 0.7820\n",
      "Epoch 90/100\n",
      "70/70 [==============================] - 0s 5ms/step - loss: 0.4205 - accuracy: 0.7957 - val_loss: 0.4634 - val_accuracy: 0.7820\n",
      "Epoch 91/100\n",
      "70/70 [==============================] - 0s 5ms/step - loss: 0.4206 - accuracy: 0.7944 - val_loss: 0.4634 - val_accuracy: 0.7820\n",
      "Epoch 92/100\n",
      "70/70 [==============================] - 0s 5ms/step - loss: 0.4203 - accuracy: 0.7946 - val_loss: 0.4632 - val_accuracy: 0.7820\n",
      "Epoch 93/100\n",
      "70/70 [==============================] - 0s 5ms/step - loss: 0.4203 - accuracy: 0.7962 - val_loss: 0.4628 - val_accuracy: 0.7820\n",
      "Epoch 94/100\n",
      "70/70 [==============================] - 0s 5ms/step - loss: 0.4201 - accuracy: 0.7967 - val_loss: 0.4628 - val_accuracy: 0.7820\n",
      "Epoch 95/100\n",
      "70/70 [==============================] - 0s 5ms/step - loss: 0.4201 - accuracy: 0.7961 - val_loss: 0.4626 - val_accuracy: 0.7820\n",
      "Epoch 96/100\n",
      "70/70 [==============================] - 0s 6ms/step - loss: 0.4198 - accuracy: 0.7959 - val_loss: 0.4621 - val_accuracy: 0.7840\n",
      "Epoch 97/100\n",
      "70/70 [==============================] - 0s 5ms/step - loss: 0.4199 - accuracy: 0.7968 - val_loss: 0.4624 - val_accuracy: 0.7820\n",
      "Epoch 98/100\n",
      "70/70 [==============================] - 0s 5ms/step - loss: 0.4196 - accuracy: 0.7951 - val_loss: 0.4620 - val_accuracy: 0.7840\n",
      "Epoch 99/100\n",
      "70/70 [==============================] - 0s 6ms/step - loss: 0.4197 - accuracy: 0.7962 - val_loss: 0.4621 - val_accuracy: 0.7800\n",
      "Epoch 100/100\n",
      "70/70 [==============================] - 0s 6ms/step - loss: 0.4194 - accuracy: 0.7959 - val_loss: 0.4616 - val_accuracy: 0.7840\n"
     ]
    }
   ],
   "source": [
    "history = model.fit(np.array(train_data),\n",
    "                    train_labels,\n",
    "                    epochs=100,\n",
    "                    batch_size=100,\n",
    "                    validation_data=(devtest_data, devtest_labels))"
   ]
  },
  {
   "cell_type": "code",
   "execution_count": 74,
   "metadata": {},
   "outputs": [
    {
     "data": {
      "image/png": "[encoded data removed]",
      "text/plain": [
       "<Figure size 432x288 with 1 Axes>"
      ]
     },
     "metadata": {
      "needs_background": "light"
     },
     "output_type": "display_data"
    }
   ],
   "source": [
    "plot_history(history)"
   ]
  },
  {
   "cell_type": "markdown",
   "metadata": {},
   "source": [
    "*(It seems that the ideal results were at 5 hidden cells. In none of the cases there was much overfitting.)*"
   ]
  },
  {
   "cell_type": "markdown",
   "metadata": {},
   "source": [
    "# Optional: Deep Learning with the Movie Review Corpus\n",
    "\n",
    "* We were using 2 hidden layers. Try to use 1 or 3 hidden layers and see how it affects validation and test accuracy.\n",
    "* Try to use layers with more hidden units or less hidden units: 32 units, 64 units...\n",
    "* Try to use the `mse` loss function instead of `binary_crossentropy`.\n",
    "* Try to use the `tanh` activation (an activation that was popular in the early days of neural networks) instead of `relu`."
   ]
  }
 ],
 "metadata": {
  "anaconda-cloud": {},
  "kernelspec": {
   "display_name": "Python 3 (ipykernel)",
   "language": "python",
   "name": "python3"
  },
  "language_info": {
   "codemirror_mode": {
    "name": "ipython",
    "version": 3
   },
   "file_extension": ".py",
   "mimetype": "text/x-python",
   "name": "python",
   "nbconvert_exporter": "python",
   "pygments_lexer": "ipython3",
   "version": "3.9.10"
  }
 },
 "nbformat": 4,
 "nbformat_minor": 2
}
