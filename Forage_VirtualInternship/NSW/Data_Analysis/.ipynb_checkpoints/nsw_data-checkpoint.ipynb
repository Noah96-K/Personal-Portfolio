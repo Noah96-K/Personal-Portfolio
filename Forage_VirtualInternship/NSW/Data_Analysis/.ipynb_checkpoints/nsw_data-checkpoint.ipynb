{
 "cells": [
  {
   "cell_type": "markdown",
   "metadata": {},
   "source": [
    "<h1>Data Analysis Case Study</h1>"
   ]
  },
  {
   "cell_type": "markdown",
   "metadata": {},
   "source": [
    "Performed by: Hyeokjin Kwon"
   ]
  },
  {
   "cell_type": "code",
   "execution_count": 1,
   "metadata": {
    "colab": {
     "base_uri": "https://localhost:8080/"
    },
    "id": "Mk1k089tqgGg",
    "outputId": "9821fa99-e900-49b0-969a-2ef97c0dccb6"
   },
   "outputs": [
    {
     "name": "stdout",
     "output_type": "stream",
     "text": [
      "Data Analysis - Data Sheets.xlsx\r\n",
      "Screen Shot 2022-08-01 at 10.34.36 am.png\r\n",
      "nsw_data.ipynb\r\n",
      "~$Data Analysis - Data Sheets.xlsx\r\n"
     ]
    }
   ],
   "source": [
    "ls"
   ]
  },
  {
   "cell_type": "markdown",
   "metadata": {},
   "source": [
    "Find the xlsx file location and use the file for analysis"
   ]
  },
  {
   "cell_type": "code",
   "execution_count": 2,
   "metadata": {
    "id": "sOhntvxTquS-"
   },
   "outputs": [],
   "source": [
    "import pandas as pd\n",
    "import numpy as np\n",
    "import seaborn as sns\n",
    "from matplotlib import pyplot as plt\n"
   ]
  },
  {
   "cell_type": "code",
   "execution_count": 3,
   "metadata": {
    "id": "3M6VgN72-n_A"
   },
   "outputs": [],
   "source": [
    "xlsx = pd.ExcelFile('Data Analysis - Data Sheets.xlsx')"
   ]
  },
  {
   "cell_type": "code",
   "execution_count": 4,
   "metadata": {
    "colab": {
     "base_uri": "https://localhost:8080/"
    },
    "id": "Tufy1WHb3Hgh",
    "outputId": "ba96dd14-8e92-4486-d2b1-8df355be18be"
   },
   "outputs": [
    {
     "data": {
      "text/plain": [
       "['Title Page', 'PT & FT Data Table', 'PT & FT Data PivotTable format']"
      ]
     },
     "execution_count": 4,
     "metadata": {},
     "output_type": "execute_result"
    }
   ],
   "source": [
    "xlsx.sheet_names"
   ]
  },
  {
   "cell_type": "markdown",
   "metadata": {},
   "source": [
    "There are three sheets in one xlsx file"
   ]
  },
  {
   "cell_type": "code",
   "execution_count": 5,
   "metadata": {
    "id": "nCZjiCgr24XC"
   },
   "outputs": [],
   "source": [
    "df1 = pd.read_excel(xlsx, 'Title Page')\n",
    "df2 = pd.read_excel(xlsx, 'PT & FT Data Table')\n",
    "df3 = pd.read_excel(xlsx, 'PT & FT Data PivotTable format')"
   ]
  },
  {
   "cell_type": "code",
   "execution_count": 6,
   "metadata": {
    "colab": {
     "base_uri": "https://localhost:8080/",
     "height": 452
    },
    "id": "By3kP8gk4oct",
    "outputId": "7ccf62c4-0f3f-405c-a37d-ab6a21e6d6a0"
   },
   "outputs": [
    {
     "data": {
      "text/html": [
       "\n",
       "  <div id=\"df-aba525bf-b0d2-46c3-ac7d-38544c83b35a\">\n",
       "    <div class=\"colab-df-container\">\n",
       "      <div>\n",
       "<style scoped>\n",
       "    .dataframe tbody tr th:only-of-type {\n",
       "        vertical-align: middle;\n",
       "    }\n",
       "\n",
       "    .dataframe tbody tr th {\n",
       "        vertical-align: top;\n",
       "    }\n",
       "\n",
       "    .dataframe thead th {\n",
       "        text-align: right;\n",
       "    }\n",
       "</style>\n",
       "<table border=\"1\" class=\"dataframe\">\n",
       "  <thead>\n",
       "    <tr style=\"text-align: right;\">\n",
       "      <th></th>\n",
       "      <th>InsideSherpa Virtual Internship - Data Analyst Module - Data sheets</th>\n",
       "      <th>Unnamed: 1</th>\n",
       "    </tr>\n",
       "  </thead>\n",
       "  <tbody>\n",
       "    <tr>\n",
       "      <th>0</th>\n",
       "      <td>NaN</td>\n",
       "      <td>NaN</td>\n",
       "    </tr>\n",
       "    <tr>\n",
       "      <th>1</th>\n",
       "      <td>Glossary:</td>\n",
       "      <td>NaN</td>\n",
       "    </tr>\n",
       "    <tr>\n",
       "      <th>2</th>\n",
       "      <td>Sector or Public Sector</td>\n",
       "      <td>The term for the collective Agencies/people wh...</td>\n",
       "    </tr>\n",
       "    <tr>\n",
       "      <th>3</th>\n",
       "      <td>Cluster</td>\n",
       "      <td>A group of agencies that share a common functi...</td>\n",
       "    </tr>\n",
       "    <tr>\n",
       "      <th>4</th>\n",
       "      <td>Headcount</td>\n",
       "      <td>The number of employees</td>\n",
       "    </tr>\n",
       "    <tr>\n",
       "      <th>5</th>\n",
       "      <td>pp</td>\n",
       "      <td>Percentage Point</td>\n",
       "    </tr>\n",
       "    <tr>\n",
       "      <th>6</th>\n",
       "      <td>NaN</td>\n",
       "      <td>NaN</td>\n",
       "    </tr>\n",
       "    <tr>\n",
       "      <th>7</th>\n",
       "      <td>NaN</td>\n",
       "      <td>NaN</td>\n",
       "    </tr>\n",
       "    <tr>\n",
       "      <th>8</th>\n",
       "      <td>NaN</td>\n",
       "      <td>NaN</td>\n",
       "    </tr>\n",
       "    <tr>\n",
       "      <th>9</th>\n",
       "      <td>Tips:</td>\n",
       "      <td>NaN</td>\n",
       "    </tr>\n",
       "    <tr>\n",
       "      <th>10</th>\n",
       "      <td>Break each part of the request down to its dat...</td>\n",
       "      <td>NaN</td>\n",
       "    </tr>\n",
       "    <tr>\n",
       "      <th>11</th>\n",
       "      <td>The two attached sheets contain the same data:...</td>\n",
       "      <td>NaN</td>\n",
       "    </tr>\n",
       "    <tr>\n",
       "      <th>12</th>\n",
       "      <td>Don't merge cells, it makes an excel file non-...</td>\n",
       "      <td>NaN</td>\n",
       "    </tr>\n",
       "  </tbody>\n",
       "</table>\n",
       "</div>\n",
       "      <button class=\"colab-df-convert\" onclick=\"convertToInteractive('df-aba525bf-b0d2-46c3-ac7d-38544c83b35a')\"\n",
       "              title=\"Convert this dataframe to an interactive table.\"\n",
       "              style=\"display:none;\">\n",
       "        \n",
       "  <svg xmlns=\"http://www.w3.org/2000/svg\" height=\"24px\"viewBox=\"0 0 24 24\"\n",
       "       width=\"24px\">\n",
       "    <path d=\"M0 0h24v24H0V0z\" fill=\"none\"/>\n",
       "    <path d=\"M18.56 5.44l.94 2.06.94-2.06 2.06-.94-2.06-.94-.94-2.06-.94 2.06-2.06.94zm-11 1L8.5 8.5l.94-2.06 2.06-.94-2.06-.94L8.5 2.5l-.94 2.06-2.06.94zm10 10l.94 2.06.94-2.06 2.06-.94-2.06-.94-.94-2.06-.94 2.06-2.06.94z\"/><path d=\"M17.41 7.96l-1.37-1.37c-.4-.4-.92-.59-1.43-.59-.52 0-1.04.2-1.43.59L10.3 9.45l-7.72 7.72c-.78.78-.78 2.05 0 2.83L4 21.41c.39.39.9.59 1.41.59.51 0 1.02-.2 1.41-.59l7.78-7.78 2.81-2.81c.8-.78.8-2.07 0-2.86zM5.41 20L4 18.59l7.72-7.72 1.47 1.35L5.41 20z\"/>\n",
       "  </svg>\n",
       "      </button>\n",
       "      \n",
       "  <style>\n",
       "    .colab-df-container {\n",
       "      display:flex;\n",
       "      flex-wrap:wrap;\n",
       "      gap: 12px;\n",
       "    }\n",
       "\n",
       "    .colab-df-convert {\n",
       "      background-color: #E8F0FE;\n",
       "      border: none;\n",
       "      border-radius: 50%;\n",
       "      cursor: pointer;\n",
       "      display: none;\n",
       "      fill: #1967D2;\n",
       "      height: 32px;\n",
       "      padding: 0 0 0 0;\n",
       "      width: 32px;\n",
       "    }\n",
       "\n",
       "    .colab-df-convert:hover {\n",
       "      background-color: #E2EBFA;\n",
       "      box-shadow: 0px 1px 2px rgba(60, 64, 67, 0.3), 0px 1px 3px 1px rgba(60, 64, 67, 0.15);\n",
       "      fill: #174EA6;\n",
       "    }\n",
       "\n",
       "    [theme=dark] .colab-df-convert {\n",
       "      background-color: #3B4455;\n",
       "      fill: #D2E3FC;\n",
       "    }\n",
       "\n",
       "    [theme=dark] .colab-df-convert:hover {\n",
       "      background-color: #434B5C;\n",
       "      box-shadow: 0px 1px 3px 1px rgba(0, 0, 0, 0.15);\n",
       "      filter: drop-shadow(0px 1px 2px rgba(0, 0, 0, 0.3));\n",
       "      fill: #FFFFFF;\n",
       "    }\n",
       "  </style>\n",
       "\n",
       "      <script>\n",
       "        const buttonEl =\n",
       "          document.querySelector('#df-aba525bf-b0d2-46c3-ac7d-38544c83b35a button.colab-df-convert');\n",
       "        buttonEl.style.display =\n",
       "          google.colab.kernel.accessAllowed ? 'block' : 'none';\n",
       "\n",
       "        async function convertToInteractive(key) {\n",
       "          const element = document.querySelector('#df-aba525bf-b0d2-46c3-ac7d-38544c83b35a');\n",
       "          const dataTable =\n",
       "            await google.colab.kernel.invokeFunction('convertToInteractive',\n",
       "                                                     [key], {});\n",
       "          if (!dataTable) return;\n",
       "\n",
       "          const docLinkHtml = 'Like what you see? Visit the ' +\n",
       "            '<a target=\"_blank\" href=https://colab.research.google.com/notebooks/data_table.ipynb>data table notebook</a>'\n",
       "            + ' to learn more about interactive tables.';\n",
       "          element.innerHTML = '';\n",
       "          dataTable['output_type'] = 'display_data';\n",
       "          await google.colab.output.renderOutput(dataTable, element);\n",
       "          const docLink = document.createElement('div');\n",
       "          docLink.innerHTML = docLinkHtml;\n",
       "          element.appendChild(docLink);\n",
       "        }\n",
       "      </script>\n",
       "    </div>\n",
       "  </div>\n",
       "  "
      ],
      "text/plain": [
       "   InsideSherpa Virtual Internship - Data Analyst Module - Data sheets  \\\n",
       "0                                                 NaN                    \n",
       "1                                           Glossary:                    \n",
       "2                             Sector or Public Sector                    \n",
       "3                                             Cluster                    \n",
       "4                                           Headcount                    \n",
       "5                                                  pp                    \n",
       "6                                                 NaN                    \n",
       "7                                                 NaN                    \n",
       "8                                                 NaN                    \n",
       "9                                              Tips:                     \n",
       "10  Break each part of the request down to its dat...                    \n",
       "11  The two attached sheets contain the same data:...                    \n",
       "12  Don't merge cells, it makes an excel file non-...                    \n",
       "\n",
       "                                           Unnamed: 1  \n",
       "0                                                 NaN  \n",
       "1                                                 NaN  \n",
       "2   The term for the collective Agencies/people wh...  \n",
       "3   A group of agencies that share a common functi...  \n",
       "4                             The number of employees  \n",
       "5                                    Percentage Point  \n",
       "6                                                 NaN  \n",
       "7                                                 NaN  \n",
       "8                                                 NaN  \n",
       "9                                                 NaN  \n",
       "10                                                NaN  \n",
       "11                                                NaN  \n",
       "12                                                NaN  "
      ]
     },
     "execution_count": 6,
     "metadata": {},
     "output_type": "execute_result"
    }
   ],
   "source": [
    "df1"
   ]
  },
  {
   "cell_type": "markdown",
   "metadata": {},
   "source": [
    "df1 is the first page, which is the description (I will not use this data for analysis)"
   ]
  },
  {
   "cell_type": "code",
   "execution_count": 7,
   "metadata": {
    "colab": {
     "base_uri": "https://localhost:8080/",
     "height": 602
    },
    "id": "s0_JNQNu3Mxx",
    "outputId": "28d88bbe-59bc-4da6-956d-27dd6a094993"
   },
   "outputs": [
    {
     "data": {
      "text/html": [
       "\n",
       "  <div id=\"df-9f85e13e-6e1c-427f-a471-6cc75ad111d0\">\n",
       "    <div class=\"colab-df-container\">\n",
       "      <div>\n",
       "<style scoped>\n",
       "    .dataframe tbody tr th:only-of-type {\n",
       "        vertical-align: middle;\n",
       "    }\n",
       "\n",
       "    .dataframe tbody tr th {\n",
       "        vertical-align: top;\n",
       "    }\n",
       "\n",
       "    .dataframe thead th {\n",
       "        text-align: right;\n",
       "    }\n",
       "</style>\n",
       "<table border=\"1\" class=\"dataframe\">\n",
       "  <thead>\n",
       "    <tr style=\"text-align: right;\">\n",
       "      <th></th>\n",
       "      <th>Unnamed: 0</th>\n",
       "      <th>Unnamed: 1</th>\n",
       "      <th>2014</th>\n",
       "      <th>2014.1</th>\n",
       "      <th>2014.2</th>\n",
       "      <th>2014.3</th>\n",
       "      <th>2015</th>\n",
       "      <th>2015.1</th>\n",
       "      <th>2015.2</th>\n",
       "      <th>2015.3</th>\n",
       "      <th>...</th>\n",
       "      <th>2016.2</th>\n",
       "      <th>2016.3</th>\n",
       "      <th>2017</th>\n",
       "      <th>2017.1</th>\n",
       "      <th>2017.2</th>\n",
       "      <th>2017.3</th>\n",
       "      <th>2018</th>\n",
       "      <th>2018.1</th>\n",
       "      <th>2018.2</th>\n",
       "      <th>2018.3</th>\n",
       "    </tr>\n",
       "  </thead>\n",
       "  <tbody>\n",
       "    <tr>\n",
       "      <th>0</th>\n",
       "      <td>NaN</td>\n",
       "      <td>NaN</td>\n",
       "      <td>Full-Time</td>\n",
       "      <td>Full-Time</td>\n",
       "      <td>Part-Time</td>\n",
       "      <td>Part-Time</td>\n",
       "      <td>Full-Time</td>\n",
       "      <td>Full-Time</td>\n",
       "      <td>Part-Time</td>\n",
       "      <td>Part-Time</td>\n",
       "      <td>...</td>\n",
       "      <td>Part-Time</td>\n",
       "      <td>Part-Time</td>\n",
       "      <td>Full-Time</td>\n",
       "      <td>Full-Time</td>\n",
       "      <td>Part-Time</td>\n",
       "      <td>Part-Time</td>\n",
       "      <td>Full-Time</td>\n",
       "      <td>Full-Time</td>\n",
       "      <td>Part-Time</td>\n",
       "      <td>Part-Time</td>\n",
       "    </tr>\n",
       "    <tr>\n",
       "      <th>1</th>\n",
       "      <td>Cluster</td>\n",
       "      <td>Agency</td>\n",
       "      <td>Male</td>\n",
       "      <td>Female</td>\n",
       "      <td>Male</td>\n",
       "      <td>Female</td>\n",
       "      <td>Male</td>\n",
       "      <td>Female</td>\n",
       "      <td>Male</td>\n",
       "      <td>Female</td>\n",
       "      <td>...</td>\n",
       "      <td>Male</td>\n",
       "      <td>Female</td>\n",
       "      <td>Male</td>\n",
       "      <td>Female</td>\n",
       "      <td>Male</td>\n",
       "      <td>Female</td>\n",
       "      <td>Male</td>\n",
       "      <td>Female</td>\n",
       "      <td>Male</td>\n",
       "      <td>Female</td>\n",
       "    </tr>\n",
       "    <tr>\n",
       "      <th>2</th>\n",
       "      <td>Education</td>\n",
       "      <td>Education Agency 1</td>\n",
       "      <td>107</td>\n",
       "      <td>180</td>\n",
       "      <td>8</td>\n",
       "      <td>48</td>\n",
       "      <td>105</td>\n",
       "      <td>176</td>\n",
       "      <td>6</td>\n",
       "      <td>38</td>\n",
       "      <td>...</td>\n",
       "      <td>7</td>\n",
       "      <td>38</td>\n",
       "      <td>109</td>\n",
       "      <td>246</td>\n",
       "      <td>6</td>\n",
       "      <td>36</td>\n",
       "      <td>123</td>\n",
       "      <td>247</td>\n",
       "      <td>7</td>\n",
       "      <td>33</td>\n",
       "    </tr>\n",
       "    <tr>\n",
       "      <th>3</th>\n",
       "      <td>Education</td>\n",
       "      <td>Education Agency 2</td>\n",
       "      <td>2797</td>\n",
       "      <td>2463</td>\n",
       "      <td>1691</td>\n",
       "      <td>764</td>\n",
       "      <td>2115</td>\n",
       "      <td>1767</td>\n",
       "      <td>1670</td>\n",
       "      <td>620</td>\n",
       "      <td>...</td>\n",
       "      <td>1724</td>\n",
       "      <td>665</td>\n",
       "      <td>2154</td>\n",
       "      <td>2225</td>\n",
       "      <td>1712</td>\n",
       "      <td>746</td>\n",
       "      <td>2294</td>\n",
       "      <td>2666</td>\n",
       "      <td>1687</td>\n",
       "      <td>764</td>\n",
       "    </tr>\n",
       "    <tr>\n",
       "      <th>4</th>\n",
       "      <td>Education</td>\n",
       "      <td>Education Agency 3</td>\n",
       "      <td>6</td>\n",
       "      <td>32</td>\n",
       "      <td>1163</td>\n",
       "      <td>18410</td>\n",
       "      <td>14</td>\n",
       "      <td>40</td>\n",
       "      <td>1250</td>\n",
       "      <td>18852</td>\n",
       "      <td>...</td>\n",
       "      <td>1377</td>\n",
       "      <td>19727</td>\n",
       "      <td>24</td>\n",
       "      <td>33</td>\n",
       "      <td>2211</td>\n",
       "      <td>19415</td>\n",
       "      <td>6</td>\n",
       "      <td>13</td>\n",
       "      <td>2501</td>\n",
       "      <td>19110</td>\n",
       "    </tr>\n",
       "    <tr>\n",
       "      <th>...</th>\n",
       "      <td>...</td>\n",
       "      <td>...</td>\n",
       "      <td>...</td>\n",
       "      <td>...</td>\n",
       "      <td>...</td>\n",
       "      <td>...</td>\n",
       "      <td>...</td>\n",
       "      <td>...</td>\n",
       "      <td>...</td>\n",
       "      <td>...</td>\n",
       "      <td>...</td>\n",
       "      <td>...</td>\n",
       "      <td>...</td>\n",
       "      <td>...</td>\n",
       "      <td>...</td>\n",
       "      <td>...</td>\n",
       "      <td>...</td>\n",
       "      <td>...</td>\n",
       "      <td>...</td>\n",
       "      <td>...</td>\n",
       "      <td>...</td>\n",
       "    </tr>\n",
       "    <tr>\n",
       "      <th>92</th>\n",
       "      <td>Treasury</td>\n",
       "      <td>Treasury Agency 2</td>\n",
       "      <td>272</td>\n",
       "      <td>578</td>\n",
       "      <td>5</td>\n",
       "      <td>5</td>\n",
       "      <td>295</td>\n",
       "      <td>400</td>\n",
       "      <td>14</td>\n",
       "      <td>182</td>\n",
       "      <td>...</td>\n",
       "      <td>10</td>\n",
       "      <td>169</td>\n",
       "      <td>19</td>\n",
       "      <td>15</td>\n",
       "      <td>5</td>\n",
       "      <td>6</td>\n",
       "      <td>18</td>\n",
       "      <td>21</td>\n",
       "      <td>6</td>\n",
       "      <td>6</td>\n",
       "    </tr>\n",
       "    <tr>\n",
       "      <th>93</th>\n",
       "      <td>Treasury</td>\n",
       "      <td>Treasury Agency 3</td>\n",
       "      <td>249</td>\n",
       "      <td>258</td>\n",
       "      <td>6</td>\n",
       "      <td>41</td>\n",
       "      <td>255</td>\n",
       "      <td>289</td>\n",
       "      <td>6</td>\n",
       "      <td>44</td>\n",
       "      <td>...</td>\n",
       "      <td>6</td>\n",
       "      <td>43</td>\n",
       "      <td>270</td>\n",
       "      <td>284</td>\n",
       "      <td>6</td>\n",
       "      <td>42</td>\n",
       "      <td>278</td>\n",
       "      <td>274</td>\n",
       "      <td>6</td>\n",
       "      <td>49</td>\n",
       "    </tr>\n",
       "    <tr>\n",
       "      <th>94</th>\n",
       "      <td>NaN</td>\n",
       "      <td>Total</td>\n",
       "      <td>123614</td>\n",
       "      <td>156793</td>\n",
       "      <td>13995</td>\n",
       "      <td>87983</td>\n",
       "      <td>118504</td>\n",
       "      <td>152038</td>\n",
       "      <td>14302</td>\n",
       "      <td>89943</td>\n",
       "      <td>...</td>\n",
       "      <td>14678</td>\n",
       "      <td>88264</td>\n",
       "      <td>114962</td>\n",
       "      <td>155408</td>\n",
       "      <td>18706</td>\n",
       "      <td>90721</td>\n",
       "      <td>111377</td>\n",
       "      <td>155833</td>\n",
       "      <td>22034</td>\n",
       "      <td>90216</td>\n",
       "    </tr>\n",
       "    <tr>\n",
       "      <th>95</th>\n",
       "      <td>NaN</td>\n",
       "      <td>NaN</td>\n",
       "      <td>NaN</td>\n",
       "      <td>280407</td>\n",
       "      <td>NaN</td>\n",
       "      <td>101978</td>\n",
       "      <td>NaN</td>\n",
       "      <td>270542</td>\n",
       "      <td>NaN</td>\n",
       "      <td>104245</td>\n",
       "      <td>...</td>\n",
       "      <td>NaN</td>\n",
       "      <td>102942</td>\n",
       "      <td>NaN</td>\n",
       "      <td>270370</td>\n",
       "      <td>NaN</td>\n",
       "      <td>109427</td>\n",
       "      <td>NaN</td>\n",
       "      <td>267210</td>\n",
       "      <td>NaN</td>\n",
       "      <td>112250</td>\n",
       "    </tr>\n",
       "    <tr>\n",
       "      <th>96</th>\n",
       "      <td>NaN</td>\n",
       "      <td>NaN</td>\n",
       "      <td>NaN</td>\n",
       "      <td>NaN</td>\n",
       "      <td>NaN</td>\n",
       "      <td>382385</td>\n",
       "      <td>NaN</td>\n",
       "      <td>NaN</td>\n",
       "      <td>NaN</td>\n",
       "      <td>374787</td>\n",
       "      <td>...</td>\n",
       "      <td>NaN</td>\n",
       "      <td>375407</td>\n",
       "      <td>NaN</td>\n",
       "      <td>NaN</td>\n",
       "      <td>NaN</td>\n",
       "      <td>379797</td>\n",
       "      <td>NaN</td>\n",
       "      <td>NaN</td>\n",
       "      <td>NaN</td>\n",
       "      <td>379460</td>\n",
       "    </tr>\n",
       "  </tbody>\n",
       "</table>\n",
       "<p>97 rows × 22 columns</p>\n",
       "</div>\n",
       "      <button class=\"colab-df-convert\" onclick=\"convertToInteractive('df-9f85e13e-6e1c-427f-a471-6cc75ad111d0')\"\n",
       "              title=\"Convert this dataframe to an interactive table.\"\n",
       "              style=\"display:none;\">\n",
       "        \n",
       "  <svg xmlns=\"http://www.w3.org/2000/svg\" height=\"24px\"viewBox=\"0 0 24 24\"\n",
       "       width=\"24px\">\n",
       "    <path d=\"M0 0h24v24H0V0z\" fill=\"none\"/>\n",
       "    <path d=\"M18.56 5.44l.94 2.06.94-2.06 2.06-.94-2.06-.94-.94-2.06-.94 2.06-2.06.94zm-11 1L8.5 8.5l.94-2.06 2.06-.94-2.06-.94L8.5 2.5l-.94 2.06-2.06.94zm10 10l.94 2.06.94-2.06 2.06-.94-2.06-.94-.94-2.06-.94 2.06-2.06.94z\"/><path d=\"M17.41 7.96l-1.37-1.37c-.4-.4-.92-.59-1.43-.59-.52 0-1.04.2-1.43.59L10.3 9.45l-7.72 7.72c-.78.78-.78 2.05 0 2.83L4 21.41c.39.39.9.59 1.41.59.51 0 1.02-.2 1.41-.59l7.78-7.78 2.81-2.81c.8-.78.8-2.07 0-2.86zM5.41 20L4 18.59l7.72-7.72 1.47 1.35L5.41 20z\"/>\n",
       "  </svg>\n",
       "      </button>\n",
       "      \n",
       "  <style>\n",
       "    .colab-df-container {\n",
       "      display:flex;\n",
       "      flex-wrap:wrap;\n",
       "      gap: 12px;\n",
       "    }\n",
       "\n",
       "    .colab-df-convert {\n",
       "      background-color: #E8F0FE;\n",
       "      border: none;\n",
       "      border-radius: 50%;\n",
       "      cursor: pointer;\n",
       "      display: none;\n",
       "      fill: #1967D2;\n",
       "      height: 32px;\n",
       "      padding: 0 0 0 0;\n",
       "      width: 32px;\n",
       "    }\n",
       "\n",
       "    .colab-df-convert:hover {\n",
       "      background-color: #E2EBFA;\n",
       "      box-shadow: 0px 1px 2px rgba(60, 64, 67, 0.3), 0px 1px 3px 1px rgba(60, 64, 67, 0.15);\n",
       "      fill: #174EA6;\n",
       "    }\n",
       "\n",
       "    [theme=dark] .colab-df-convert {\n",
       "      background-color: #3B4455;\n",
       "      fill: #D2E3FC;\n",
       "    }\n",
       "\n",
       "    [theme=dark] .colab-df-convert:hover {\n",
       "      background-color: #434B5C;\n",
       "      box-shadow: 0px 1px 3px 1px rgba(0, 0, 0, 0.15);\n",
       "      filter: drop-shadow(0px 1px 2px rgba(0, 0, 0, 0.3));\n",
       "      fill: #FFFFFF;\n",
       "    }\n",
       "  </style>\n",
       "\n",
       "      <script>\n",
       "        const buttonEl =\n",
       "          document.querySelector('#df-9f85e13e-6e1c-427f-a471-6cc75ad111d0 button.colab-df-convert');\n",
       "        buttonEl.style.display =\n",
       "          google.colab.kernel.accessAllowed ? 'block' : 'none';\n",
       "\n",
       "        async function convertToInteractive(key) {\n",
       "          const element = document.querySelector('#df-9f85e13e-6e1c-427f-a471-6cc75ad111d0');\n",
       "          const dataTable =\n",
       "            await google.colab.kernel.invokeFunction('convertToInteractive',\n",
       "                                                     [key], {});\n",
       "          if (!dataTable) return;\n",
       "\n",
       "          const docLinkHtml = 'Like what you see? Visit the ' +\n",
       "            '<a target=\"_blank\" href=https://colab.research.google.com/notebooks/data_table.ipynb>data table notebook</a>'\n",
       "            + ' to learn more about interactive tables.';\n",
       "          element.innerHTML = '';\n",
       "          dataTable['output_type'] = 'display_data';\n",
       "          await google.colab.output.renderOutput(dataTable, element);\n",
       "          const docLink = document.createElement('div');\n",
       "          docLink.innerHTML = docLinkHtml;\n",
       "          element.appendChild(docLink);\n",
       "        }\n",
       "      </script>\n",
       "    </div>\n",
       "  </div>\n",
       "  "
      ],
      "text/plain": [
       "   Unnamed: 0          Unnamed: 1       2014     2014.1     2014.2     2014.3  \\\n",
       "0         NaN                 NaN  Full-Time  Full-Time  Part-Time  Part-Time   \n",
       "1     Cluster              Agency       Male     Female       Male     Female   \n",
       "2   Education  Education Agency 1        107        180          8         48   \n",
       "3   Education  Education Agency 2       2797       2463       1691        764   \n",
       "4   Education  Education Agency 3          6         32       1163      18410   \n",
       "..        ...                 ...        ...        ...        ...        ...   \n",
       "92   Treasury   Treasury Agency 2        272        578          5          5   \n",
       "93   Treasury   Treasury Agency 3        249        258          6         41   \n",
       "94        NaN               Total     123614     156793      13995      87983   \n",
       "95        NaN                 NaN        NaN     280407        NaN     101978   \n",
       "96        NaN                 NaN        NaN        NaN        NaN     382385   \n",
       "\n",
       "         2015     2015.1     2015.2     2015.3  ...     2016.2     2016.3  \\\n",
       "0   Full-Time  Full-Time  Part-Time  Part-Time  ...  Part-Time  Part-Time   \n",
       "1        Male     Female       Male     Female  ...       Male     Female   \n",
       "2         105        176          6         38  ...          7         38   \n",
       "3        2115       1767       1670        620  ...       1724        665   \n",
       "4          14         40       1250      18852  ...       1377      19727   \n",
       "..        ...        ...        ...        ...  ...        ...        ...   \n",
       "92        295        400         14        182  ...         10        169   \n",
       "93        255        289          6         44  ...          6         43   \n",
       "94     118504     152038      14302      89943  ...      14678      88264   \n",
       "95        NaN     270542        NaN     104245  ...        NaN     102942   \n",
       "96        NaN        NaN        NaN     374787  ...        NaN     375407   \n",
       "\n",
       "         2017     2017.1     2017.2     2017.3       2018     2018.1  \\\n",
       "0   Full-Time  Full-Time  Part-Time  Part-Time  Full-Time  Full-Time   \n",
       "1        Male     Female       Male     Female       Male     Female   \n",
       "2         109        246          6         36        123        247   \n",
       "3        2154       2225       1712        746       2294       2666   \n",
       "4          24         33       2211      19415          6         13   \n",
       "..        ...        ...        ...        ...        ...        ...   \n",
       "92         19         15          5          6         18         21   \n",
       "93        270        284          6         42        278        274   \n",
       "94     114962     155408      18706      90721     111377     155833   \n",
       "95        NaN     270370        NaN     109427        NaN     267210   \n",
       "96        NaN        NaN        NaN     379797        NaN        NaN   \n",
       "\n",
       "       2018.2     2018.3  \n",
       "0   Part-Time  Part-Time  \n",
       "1        Male     Female  \n",
       "2           7         33  \n",
       "3        1687        764  \n",
       "4        2501      19110  \n",
       "..        ...        ...  \n",
       "92          6          6  \n",
       "93          6         49  \n",
       "94      22034      90216  \n",
       "95        NaN     112250  \n",
       "96        NaN     379460  \n",
       "\n",
       "[97 rows x 22 columns]"
      ]
     },
     "execution_count": 7,
     "metadata": {},
     "output_type": "execute_result"
    }
   ],
   "source": [
    "df2"
   ]
  },
  {
   "cell_type": "code",
   "execution_count": 8,
   "metadata": {
    "colab": {
     "base_uri": "https://localhost:8080/",
     "height": 419
    },
    "id": "vWNEc8tc4x6t",
    "outputId": "ac069065-156f-43b9-b5db-3abe271abcc9"
   },
   "outputs": [
    {
     "data": {
      "text/html": [
       "\n",
       "  <div id=\"df-70e0beae-2a09-4fcd-93c6-f0df9291d1b9\">\n",
       "    <div class=\"colab-df-container\">\n",
       "      <div>\n",
       "<style scoped>\n",
       "    .dataframe tbody tr th:only-of-type {\n",
       "        vertical-align: middle;\n",
       "    }\n",
       "\n",
       "    .dataframe tbody tr th {\n",
       "        vertical-align: top;\n",
       "    }\n",
       "\n",
       "    .dataframe thead th {\n",
       "        text-align: right;\n",
       "    }\n",
       "</style>\n",
       "<table border=\"1\" class=\"dataframe\">\n",
       "  <thead>\n",
       "    <tr style=\"text-align: right;\">\n",
       "      <th></th>\n",
       "      <th>Cluster</th>\n",
       "      <th>Agency</th>\n",
       "      <th>Year</th>\n",
       "      <th>PT/FT</th>\n",
       "      <th>Gender</th>\n",
       "      <th>Headcount</th>\n",
       "    </tr>\n",
       "  </thead>\n",
       "  <tbody>\n",
       "    <tr>\n",
       "      <th>0</th>\n",
       "      <td>Education</td>\n",
       "      <td>Education Agency 1</td>\n",
       "      <td>2014</td>\n",
       "      <td>Full-Time</td>\n",
       "      <td>Female</td>\n",
       "      <td>180</td>\n",
       "    </tr>\n",
       "    <tr>\n",
       "      <th>1</th>\n",
       "      <td>Education</td>\n",
       "      <td>Education Agency 2</td>\n",
       "      <td>2014</td>\n",
       "      <td>Full-Time</td>\n",
       "      <td>Female</td>\n",
       "      <td>2463</td>\n",
       "    </tr>\n",
       "    <tr>\n",
       "      <th>2</th>\n",
       "      <td>Education</td>\n",
       "      <td>Education Agency 3</td>\n",
       "      <td>2014</td>\n",
       "      <td>Full-Time</td>\n",
       "      <td>Female</td>\n",
       "      <td>32</td>\n",
       "    </tr>\n",
       "    <tr>\n",
       "      <th>3</th>\n",
       "      <td>Education</td>\n",
       "      <td>Education Agency 4</td>\n",
       "      <td>2014</td>\n",
       "      <td>Full-Time</td>\n",
       "      <td>Female</td>\n",
       "      <td>39251</td>\n",
       "    </tr>\n",
       "    <tr>\n",
       "      <th>4</th>\n",
       "      <td>Family &amp; Community Services</td>\n",
       "      <td>Family &amp; Community Services Agency 1</td>\n",
       "      <td>2014</td>\n",
       "      <td>Full-Time</td>\n",
       "      <td>Female</td>\n",
       "      <td>9817</td>\n",
       "    </tr>\n",
       "    <tr>\n",
       "      <th>...</th>\n",
       "      <td>...</td>\n",
       "      <td>...</td>\n",
       "      <td>...</td>\n",
       "      <td>...</td>\n",
       "      <td>...</td>\n",
       "      <td>...</td>\n",
       "    </tr>\n",
       "    <tr>\n",
       "      <th>1835</th>\n",
       "      <td>Transport</td>\n",
       "      <td>Transport Agency 5</td>\n",
       "      <td>2018</td>\n",
       "      <td>Part-Time</td>\n",
       "      <td>Male</td>\n",
       "      <td>1354</td>\n",
       "    </tr>\n",
       "    <tr>\n",
       "      <th>1836</th>\n",
       "      <td>Transport</td>\n",
       "      <td>Transport Agency 6</td>\n",
       "      <td>2018</td>\n",
       "      <td>Part-Time</td>\n",
       "      <td>Male</td>\n",
       "      <td>579</td>\n",
       "    </tr>\n",
       "    <tr>\n",
       "      <th>1837</th>\n",
       "      <td>Treasury</td>\n",
       "      <td>Treasury Agency 1</td>\n",
       "      <td>2018</td>\n",
       "      <td>Part-Time</td>\n",
       "      <td>Male</td>\n",
       "      <td>6</td>\n",
       "    </tr>\n",
       "    <tr>\n",
       "      <th>1838</th>\n",
       "      <td>Treasury</td>\n",
       "      <td>Treasury Agency 2</td>\n",
       "      <td>2018</td>\n",
       "      <td>Part-Time</td>\n",
       "      <td>Male</td>\n",
       "      <td>6</td>\n",
       "    </tr>\n",
       "    <tr>\n",
       "      <th>1839</th>\n",
       "      <td>Treasury</td>\n",
       "      <td>Treasury Agency 3</td>\n",
       "      <td>2018</td>\n",
       "      <td>Part-Time</td>\n",
       "      <td>Male</td>\n",
       "      <td>6</td>\n",
       "    </tr>\n",
       "  </tbody>\n",
       "</table>\n",
       "<p>1840 rows × 6 columns</p>\n",
       "</div>\n",
       "      <button class=\"colab-df-convert\" onclick=\"convertToInteractive('df-70e0beae-2a09-4fcd-93c6-f0df9291d1b9')\"\n",
       "              title=\"Convert this dataframe to an interactive table.\"\n",
       "              style=\"display:none;\">\n",
       "        \n",
       "  <svg xmlns=\"http://www.w3.org/2000/svg\" height=\"24px\"viewBox=\"0 0 24 24\"\n",
       "       width=\"24px\">\n",
       "    <path d=\"M0 0h24v24H0V0z\" fill=\"none\"/>\n",
       "    <path d=\"M18.56 5.44l.94 2.06.94-2.06 2.06-.94-2.06-.94-.94-2.06-.94 2.06-2.06.94zm-11 1L8.5 8.5l.94-2.06 2.06-.94-2.06-.94L8.5 2.5l-.94 2.06-2.06.94zm10 10l.94 2.06.94-2.06 2.06-.94-2.06-.94-.94-2.06-.94 2.06-2.06.94z\"/><path d=\"M17.41 7.96l-1.37-1.37c-.4-.4-.92-.59-1.43-.59-.52 0-1.04.2-1.43.59L10.3 9.45l-7.72 7.72c-.78.78-.78 2.05 0 2.83L4 21.41c.39.39.9.59 1.41.59.51 0 1.02-.2 1.41-.59l7.78-7.78 2.81-2.81c.8-.78.8-2.07 0-2.86zM5.41 20L4 18.59l7.72-7.72 1.47 1.35L5.41 20z\"/>\n",
       "  </svg>\n",
       "      </button>\n",
       "      \n",
       "  <style>\n",
       "    .colab-df-container {\n",
       "      display:flex;\n",
       "      flex-wrap:wrap;\n",
       "      gap: 12px;\n",
       "    }\n",
       "\n",
       "    .colab-df-convert {\n",
       "      background-color: #E8F0FE;\n",
       "      border: none;\n",
       "      border-radius: 50%;\n",
       "      cursor: pointer;\n",
       "      display: none;\n",
       "      fill: #1967D2;\n",
       "      height: 32px;\n",
       "      padding: 0 0 0 0;\n",
       "      width: 32px;\n",
       "    }\n",
       "\n",
       "    .colab-df-convert:hover {\n",
       "      background-color: #E2EBFA;\n",
       "      box-shadow: 0px 1px 2px rgba(60, 64, 67, 0.3), 0px 1px 3px 1px rgba(60, 64, 67, 0.15);\n",
       "      fill: #174EA6;\n",
       "    }\n",
       "\n",
       "    [theme=dark] .colab-df-convert {\n",
       "      background-color: #3B4455;\n",
       "      fill: #D2E3FC;\n",
       "    }\n",
       "\n",
       "    [theme=dark] .colab-df-convert:hover {\n",
       "      background-color: #434B5C;\n",
       "      box-shadow: 0px 1px 3px 1px rgba(0, 0, 0, 0.15);\n",
       "      filter: drop-shadow(0px 1px 2px rgba(0, 0, 0, 0.3));\n",
       "      fill: #FFFFFF;\n",
       "    }\n",
       "  </style>\n",
       "\n",
       "      <script>\n",
       "        const buttonEl =\n",
       "          document.querySelector('#df-70e0beae-2a09-4fcd-93c6-f0df9291d1b9 button.colab-df-convert');\n",
       "        buttonEl.style.display =\n",
       "          google.colab.kernel.accessAllowed ? 'block' : 'none';\n",
       "\n",
       "        async function convertToInteractive(key) {\n",
       "          const element = document.querySelector('#df-70e0beae-2a09-4fcd-93c6-f0df9291d1b9');\n",
       "          const dataTable =\n",
       "            await google.colab.kernel.invokeFunction('convertToInteractive',\n",
       "                                                     [key], {});\n",
       "          if (!dataTable) return;\n",
       "\n",
       "          const docLinkHtml = 'Like what you see? Visit the ' +\n",
       "            '<a target=\"_blank\" href=https://colab.research.google.com/notebooks/data_table.ipynb>data table notebook</a>'\n",
       "            + ' to learn more about interactive tables.';\n",
       "          element.innerHTML = '';\n",
       "          dataTable['output_type'] = 'display_data';\n",
       "          await google.colab.output.renderOutput(dataTable, element);\n",
       "          const docLink = document.createElement('div');\n",
       "          docLink.innerHTML = docLinkHtml;\n",
       "          element.appendChild(docLink);\n",
       "        }\n",
       "      </script>\n",
       "    </div>\n",
       "  </div>\n",
       "  "
      ],
      "text/plain": [
       "                          Cluster                                Agency  Year  \\\n",
       "0                       Education                    Education Agency 1  2014   \n",
       "1                       Education                    Education Agency 2  2014   \n",
       "2                       Education                    Education Agency 3  2014   \n",
       "3                       Education                    Education Agency 4  2014   \n",
       "4     Family & Community Services  Family & Community Services Agency 1  2014   \n",
       "...                           ...                                   ...   ...   \n",
       "1835                    Transport                    Transport Agency 5  2018   \n",
       "1836                    Transport                    Transport Agency 6  2018   \n",
       "1837                     Treasury                     Treasury Agency 1  2018   \n",
       "1838                     Treasury                     Treasury Agency 2  2018   \n",
       "1839                     Treasury                     Treasury Agency 3  2018   \n",
       "\n",
       "          PT/FT  Gender  Headcount  \n",
       "0     Full-Time  Female        180  \n",
       "1     Full-Time  Female       2463  \n",
       "2     Full-Time  Female         32  \n",
       "3     Full-Time  Female      39251  \n",
       "4     Full-Time  Female       9817  \n",
       "...         ...     ...        ...  \n",
       "1835  Part-Time    Male       1354  \n",
       "1836  Part-Time    Male        579  \n",
       "1837  Part-Time    Male          6  \n",
       "1838  Part-Time    Male          6  \n",
       "1839  Part-Time    Male          6  \n",
       "\n",
       "[1840 rows x 6 columns]"
      ]
     },
     "execution_count": 8,
     "metadata": {},
     "output_type": "execute_result"
    }
   ],
   "source": [
    "df3"
   ]
  },
  {
   "cell_type": "markdown",
   "metadata": {},
   "source": [
    "df2, df3 are basically same file with different format, I will focus on df3 for analysis"
   ]
  },
  {
   "cell_type": "code",
   "execution_count": 10,
   "metadata": {
    "id": "VOjzZ7VxnkuZ"
   },
   "outputs": [],
   "source": [
    "part_time=df3['PT/FT']=='Part-Time'\n",
    "\n",
    "part=df3[part_time]\n",
    "full=df3[~part_time]"
   ]
  },
  {
   "cell_type": "markdown",
   "metadata": {},
   "source": [
    "Divide dataset into two categories: part-time, full-time"
   ]
  },
  {
   "cell_type": "code",
   "execution_count": 11,
   "metadata": {
    "id": "EF1nlg_2q0qy"
   },
   "outputs": [],
   "source": [
    "male_flag=df3['Gender']=='Male'\n",
    "male=df3[male_flag]\n",
    "female=df3[~male_flag]"
   ]
  },
  {
   "cell_type": "markdown",
   "metadata": {},
   "source": [
    "Divide dataset into two categories: male, female"
   ]
  },
  {
   "cell_type": "code",
   "execution_count": 12,
   "metadata": {
    "colab": {
     "base_uri": "https://localhost:8080/",
     "height": 419
    },
    "id": "-2h8M2k7ptyj",
    "outputId": "3a22b6cb-80fe-4c7c-c538-7acef884ed95"
   },
   "outputs": [
    {
     "data": {
      "text/html": [
       "\n",
       "  <div id=\"df-dfe9d316-cee9-4235-a2d5-392eda50ea00\">\n",
       "    <div class=\"colab-df-container\">\n",
       "      <div>\n",
       "<style scoped>\n",
       "    .dataframe tbody tr th:only-of-type {\n",
       "        vertical-align: middle;\n",
       "    }\n",
       "\n",
       "    .dataframe tbody tr th {\n",
       "        vertical-align: top;\n",
       "    }\n",
       "\n",
       "    .dataframe thead th {\n",
       "        text-align: right;\n",
       "    }\n",
       "</style>\n",
       "<table border=\"1\" class=\"dataframe\">\n",
       "  <thead>\n",
       "    <tr style=\"text-align: right;\">\n",
       "      <th></th>\n",
       "      <th>Cluster</th>\n",
       "      <th>Agency</th>\n",
       "      <th>Year</th>\n",
       "      <th>PT/FT</th>\n",
       "      <th>Gender</th>\n",
       "      <th>Headcount</th>\n",
       "    </tr>\n",
       "  </thead>\n",
       "  <tbody>\n",
       "    <tr>\n",
       "      <th>184</th>\n",
       "      <td>Education</td>\n",
       "      <td>Education Agency 1</td>\n",
       "      <td>2014</td>\n",
       "      <td>Part-Time</td>\n",
       "      <td>Female</td>\n",
       "      <td>48</td>\n",
       "    </tr>\n",
       "    <tr>\n",
       "      <th>185</th>\n",
       "      <td>Education</td>\n",
       "      <td>Education Agency 2</td>\n",
       "      <td>2014</td>\n",
       "      <td>Part-Time</td>\n",
       "      <td>Female</td>\n",
       "      <td>764</td>\n",
       "    </tr>\n",
       "    <tr>\n",
       "      <th>186</th>\n",
       "      <td>Education</td>\n",
       "      <td>Education Agency 3</td>\n",
       "      <td>2014</td>\n",
       "      <td>Part-Time</td>\n",
       "      <td>Female</td>\n",
       "      <td>18410</td>\n",
       "    </tr>\n",
       "    <tr>\n",
       "      <th>187</th>\n",
       "      <td>Education</td>\n",
       "      <td>Education Agency 4</td>\n",
       "      <td>2014</td>\n",
       "      <td>Part-Time</td>\n",
       "      <td>Female</td>\n",
       "      <td>16327</td>\n",
       "    </tr>\n",
       "    <tr>\n",
       "      <th>188</th>\n",
       "      <td>Family &amp; Community Services</td>\n",
       "      <td>Family &amp; Community Services Agency 1</td>\n",
       "      <td>2014</td>\n",
       "      <td>Part-Time</td>\n",
       "      <td>Female</td>\n",
       "      <td>5794</td>\n",
       "    </tr>\n",
       "    <tr>\n",
       "      <th>...</th>\n",
       "      <td>...</td>\n",
       "      <td>...</td>\n",
       "      <td>...</td>\n",
       "      <td>...</td>\n",
       "      <td>...</td>\n",
       "      <td>...</td>\n",
       "    </tr>\n",
       "    <tr>\n",
       "      <th>1835</th>\n",
       "      <td>Transport</td>\n",
       "      <td>Transport Agency 5</td>\n",
       "      <td>2018</td>\n",
       "      <td>Part-Time</td>\n",
       "      <td>Male</td>\n",
       "      <td>1354</td>\n",
       "    </tr>\n",
       "    <tr>\n",
       "      <th>1836</th>\n",
       "      <td>Transport</td>\n",
       "      <td>Transport Agency 6</td>\n",
       "      <td>2018</td>\n",
       "      <td>Part-Time</td>\n",
       "      <td>Male</td>\n",
       "      <td>579</td>\n",
       "    </tr>\n",
       "    <tr>\n",
       "      <th>1837</th>\n",
       "      <td>Treasury</td>\n",
       "      <td>Treasury Agency 1</td>\n",
       "      <td>2018</td>\n",
       "      <td>Part-Time</td>\n",
       "      <td>Male</td>\n",
       "      <td>6</td>\n",
       "    </tr>\n",
       "    <tr>\n",
       "      <th>1838</th>\n",
       "      <td>Treasury</td>\n",
       "      <td>Treasury Agency 2</td>\n",
       "      <td>2018</td>\n",
       "      <td>Part-Time</td>\n",
       "      <td>Male</td>\n",
       "      <td>6</td>\n",
       "    </tr>\n",
       "    <tr>\n",
       "      <th>1839</th>\n",
       "      <td>Treasury</td>\n",
       "      <td>Treasury Agency 3</td>\n",
       "      <td>2018</td>\n",
       "      <td>Part-Time</td>\n",
       "      <td>Male</td>\n",
       "      <td>6</td>\n",
       "    </tr>\n",
       "  </tbody>\n",
       "</table>\n",
       "<p>920 rows × 6 columns</p>\n",
       "</div>\n",
       "      <button class=\"colab-df-convert\" onclick=\"convertToInteractive('df-dfe9d316-cee9-4235-a2d5-392eda50ea00')\"\n",
       "              title=\"Convert this dataframe to an interactive table.\"\n",
       "              style=\"display:none;\">\n",
       "        \n",
       "  <svg xmlns=\"http://www.w3.org/2000/svg\" height=\"24px\"viewBox=\"0 0 24 24\"\n",
       "       width=\"24px\">\n",
       "    <path d=\"M0 0h24v24H0V0z\" fill=\"none\"/>\n",
       "    <path d=\"M18.56 5.44l.94 2.06.94-2.06 2.06-.94-2.06-.94-.94-2.06-.94 2.06-2.06.94zm-11 1L8.5 8.5l.94-2.06 2.06-.94-2.06-.94L8.5 2.5l-.94 2.06-2.06.94zm10 10l.94 2.06.94-2.06 2.06-.94-2.06-.94-.94-2.06-.94 2.06-2.06.94z\"/><path d=\"M17.41 7.96l-1.37-1.37c-.4-.4-.92-.59-1.43-.59-.52 0-1.04.2-1.43.59L10.3 9.45l-7.72 7.72c-.78.78-.78 2.05 0 2.83L4 21.41c.39.39.9.59 1.41.59.51 0 1.02-.2 1.41-.59l7.78-7.78 2.81-2.81c.8-.78.8-2.07 0-2.86zM5.41 20L4 18.59l7.72-7.72 1.47 1.35L5.41 20z\"/>\n",
       "  </svg>\n",
       "      </button>\n",
       "      \n",
       "  <style>\n",
       "    .colab-df-container {\n",
       "      display:flex;\n",
       "      flex-wrap:wrap;\n",
       "      gap: 12px;\n",
       "    }\n",
       "\n",
       "    .colab-df-convert {\n",
       "      background-color: #E8F0FE;\n",
       "      border: none;\n",
       "      border-radius: 50%;\n",
       "      cursor: pointer;\n",
       "      display: none;\n",
       "      fill: #1967D2;\n",
       "      height: 32px;\n",
       "      padding: 0 0 0 0;\n",
       "      width: 32px;\n",
       "    }\n",
       "\n",
       "    .colab-df-convert:hover {\n",
       "      background-color: #E2EBFA;\n",
       "      box-shadow: 0px 1px 2px rgba(60, 64, 67, 0.3), 0px 1px 3px 1px rgba(60, 64, 67, 0.15);\n",
       "      fill: #174EA6;\n",
       "    }\n",
       "\n",
       "    [theme=dark] .colab-df-convert {\n",
       "      background-color: #3B4455;\n",
       "      fill: #D2E3FC;\n",
       "    }\n",
       "\n",
       "    [theme=dark] .colab-df-convert:hover {\n",
       "      background-color: #434B5C;\n",
       "      box-shadow: 0px 1px 3px 1px rgba(0, 0, 0, 0.15);\n",
       "      filter: drop-shadow(0px 1px 2px rgba(0, 0, 0, 0.3));\n",
       "      fill: #FFFFFF;\n",
       "    }\n",
       "  </style>\n",
       "\n",
       "      <script>\n",
       "        const buttonEl =\n",
       "          document.querySelector('#df-dfe9d316-cee9-4235-a2d5-392eda50ea00 button.colab-df-convert');\n",
       "        buttonEl.style.display =\n",
       "          google.colab.kernel.accessAllowed ? 'block' : 'none';\n",
       "\n",
       "        async function convertToInteractive(key) {\n",
       "          const element = document.querySelector('#df-dfe9d316-cee9-4235-a2d5-392eda50ea00');\n",
       "          const dataTable =\n",
       "            await google.colab.kernel.invokeFunction('convertToInteractive',\n",
       "                                                     [key], {});\n",
       "          if (!dataTable) return;\n",
       "\n",
       "          const docLinkHtml = 'Like what you see? Visit the ' +\n",
       "            '<a target=\"_blank\" href=https://colab.research.google.com/notebooks/data_table.ipynb>data table notebook</a>'\n",
       "            + ' to learn more about interactive tables.';\n",
       "          element.innerHTML = '';\n",
       "          dataTable['output_type'] = 'display_data';\n",
       "          await google.colab.output.renderOutput(dataTable, element);\n",
       "          const docLink = document.createElement('div');\n",
       "          docLink.innerHTML = docLinkHtml;\n",
       "          element.appendChild(docLink);\n",
       "        }\n",
       "      </script>\n",
       "    </div>\n",
       "  </div>\n",
       "  "
      ],
      "text/plain": [
       "                          Cluster                                Agency  Year  \\\n",
       "184                     Education                    Education Agency 1  2014   \n",
       "185                     Education                    Education Agency 2  2014   \n",
       "186                     Education                    Education Agency 3  2014   \n",
       "187                     Education                    Education Agency 4  2014   \n",
       "188   Family & Community Services  Family & Community Services Agency 1  2014   \n",
       "...                           ...                                   ...   ...   \n",
       "1835                    Transport                    Transport Agency 5  2018   \n",
       "1836                    Transport                    Transport Agency 6  2018   \n",
       "1837                     Treasury                     Treasury Agency 1  2018   \n",
       "1838                     Treasury                     Treasury Agency 2  2018   \n",
       "1839                     Treasury                     Treasury Agency 3  2018   \n",
       "\n",
       "          PT/FT  Gender  Headcount  \n",
       "184   Part-Time  Female         48  \n",
       "185   Part-Time  Female        764  \n",
       "186   Part-Time  Female      18410  \n",
       "187   Part-Time  Female      16327  \n",
       "188   Part-Time  Female       5794  \n",
       "...         ...     ...        ...  \n",
       "1835  Part-Time    Male       1354  \n",
       "1836  Part-Time    Male        579  \n",
       "1837  Part-Time    Male          6  \n",
       "1838  Part-Time    Male          6  \n",
       "1839  Part-Time    Male          6  \n",
       "\n",
       "[920 rows x 6 columns]"
      ]
     },
     "execution_count": 12,
     "metadata": {},
     "output_type": "execute_result"
    }
   ],
   "source": [
    "part"
   ]
  },
  {
   "cell_type": "code",
   "execution_count": 13,
   "metadata": {
    "colab": {
     "base_uri": "https://localhost:8080/",
     "height": 419
    },
    "id": "SGr9F87xpyBa",
    "outputId": "f64f2012-f716-4e7c-a9cd-3340eaaf8860"
   },
   "outputs": [
    {
     "data": {
      "text/html": [
       "\n",
       "  <div id=\"df-e7fb435d-ccf2-4462-921e-5c5c28e83ae5\">\n",
       "    <div class=\"colab-df-container\">\n",
       "      <div>\n",
       "<style scoped>\n",
       "    .dataframe tbody tr th:only-of-type {\n",
       "        vertical-align: middle;\n",
       "    }\n",
       "\n",
       "    .dataframe tbody tr th {\n",
       "        vertical-align: top;\n",
       "    }\n",
       "\n",
       "    .dataframe thead th {\n",
       "        text-align: right;\n",
       "    }\n",
       "</style>\n",
       "<table border=\"1\" class=\"dataframe\">\n",
       "  <thead>\n",
       "    <tr style=\"text-align: right;\">\n",
       "      <th></th>\n",
       "      <th>Cluster</th>\n",
       "      <th>Agency</th>\n",
       "      <th>Year</th>\n",
       "      <th>PT/FT</th>\n",
       "      <th>Gender</th>\n",
       "      <th>Headcount</th>\n",
       "    </tr>\n",
       "  </thead>\n",
       "  <tbody>\n",
       "    <tr>\n",
       "      <th>0</th>\n",
       "      <td>Education</td>\n",
       "      <td>Education Agency 1</td>\n",
       "      <td>2014</td>\n",
       "      <td>Full-Time</td>\n",
       "      <td>Female</td>\n",
       "      <td>180</td>\n",
       "    </tr>\n",
       "    <tr>\n",
       "      <th>1</th>\n",
       "      <td>Education</td>\n",
       "      <td>Education Agency 2</td>\n",
       "      <td>2014</td>\n",
       "      <td>Full-Time</td>\n",
       "      <td>Female</td>\n",
       "      <td>2463</td>\n",
       "    </tr>\n",
       "    <tr>\n",
       "      <th>2</th>\n",
       "      <td>Education</td>\n",
       "      <td>Education Agency 3</td>\n",
       "      <td>2014</td>\n",
       "      <td>Full-Time</td>\n",
       "      <td>Female</td>\n",
       "      <td>32</td>\n",
       "    </tr>\n",
       "    <tr>\n",
       "      <th>3</th>\n",
       "      <td>Education</td>\n",
       "      <td>Education Agency 4</td>\n",
       "      <td>2014</td>\n",
       "      <td>Full-Time</td>\n",
       "      <td>Female</td>\n",
       "      <td>39251</td>\n",
       "    </tr>\n",
       "    <tr>\n",
       "      <th>4</th>\n",
       "      <td>Family &amp; Community Services</td>\n",
       "      <td>Family &amp; Community Services Agency 1</td>\n",
       "      <td>2014</td>\n",
       "      <td>Full-Time</td>\n",
       "      <td>Female</td>\n",
       "      <td>9817</td>\n",
       "    </tr>\n",
       "    <tr>\n",
       "      <th>...</th>\n",
       "      <td>...</td>\n",
       "      <td>...</td>\n",
       "      <td>...</td>\n",
       "      <td>...</td>\n",
       "      <td>...</td>\n",
       "      <td>...</td>\n",
       "    </tr>\n",
       "    <tr>\n",
       "      <th>1651</th>\n",
       "      <td>Transport</td>\n",
       "      <td>Transport Agency 5</td>\n",
       "      <td>2018</td>\n",
       "      <td>Full-Time</td>\n",
       "      <td>Male</td>\n",
       "      <td>7845</td>\n",
       "    </tr>\n",
       "    <tr>\n",
       "      <th>1652</th>\n",
       "      <td>Transport</td>\n",
       "      <td>Transport Agency 6</td>\n",
       "      <td>2018</td>\n",
       "      <td>Full-Time</td>\n",
       "      <td>Male</td>\n",
       "      <td>1945</td>\n",
       "    </tr>\n",
       "    <tr>\n",
       "      <th>1653</th>\n",
       "      <td>Treasury</td>\n",
       "      <td>Treasury Agency 1</td>\n",
       "      <td>2018</td>\n",
       "      <td>Full-Time</td>\n",
       "      <td>Male</td>\n",
       "      <td>288</td>\n",
       "    </tr>\n",
       "    <tr>\n",
       "      <th>1654</th>\n",
       "      <td>Treasury</td>\n",
       "      <td>Treasury Agency 2</td>\n",
       "      <td>2018</td>\n",
       "      <td>Full-Time</td>\n",
       "      <td>Male</td>\n",
       "      <td>18</td>\n",
       "    </tr>\n",
       "    <tr>\n",
       "      <th>1655</th>\n",
       "      <td>Treasury</td>\n",
       "      <td>Treasury Agency 3</td>\n",
       "      <td>2018</td>\n",
       "      <td>Full-Time</td>\n",
       "      <td>Male</td>\n",
       "      <td>278</td>\n",
       "    </tr>\n",
       "  </tbody>\n",
       "</table>\n",
       "<p>920 rows × 6 columns</p>\n",
       "</div>\n",
       "      <button class=\"colab-df-convert\" onclick=\"convertToInteractive('df-e7fb435d-ccf2-4462-921e-5c5c28e83ae5')\"\n",
       "              title=\"Convert this dataframe to an interactive table.\"\n",
       "              style=\"display:none;\">\n",
       "        \n",
       "  <svg xmlns=\"http://www.w3.org/2000/svg\" height=\"24px\"viewBox=\"0 0 24 24\"\n",
       "       width=\"24px\">\n",
       "    <path d=\"M0 0h24v24H0V0z\" fill=\"none\"/>\n",
       "    <path d=\"M18.56 5.44l.94 2.06.94-2.06 2.06-.94-2.06-.94-.94-2.06-.94 2.06-2.06.94zm-11 1L8.5 8.5l.94-2.06 2.06-.94-2.06-.94L8.5 2.5l-.94 2.06-2.06.94zm10 10l.94 2.06.94-2.06 2.06-.94-2.06-.94-.94-2.06-.94 2.06-2.06.94z\"/><path d=\"M17.41 7.96l-1.37-1.37c-.4-.4-.92-.59-1.43-.59-.52 0-1.04.2-1.43.59L10.3 9.45l-7.72 7.72c-.78.78-.78 2.05 0 2.83L4 21.41c.39.39.9.59 1.41.59.51 0 1.02-.2 1.41-.59l7.78-7.78 2.81-2.81c.8-.78.8-2.07 0-2.86zM5.41 20L4 18.59l7.72-7.72 1.47 1.35L5.41 20z\"/>\n",
       "  </svg>\n",
       "      </button>\n",
       "      \n",
       "  <style>\n",
       "    .colab-df-container {\n",
       "      display:flex;\n",
       "      flex-wrap:wrap;\n",
       "      gap: 12px;\n",
       "    }\n",
       "\n",
       "    .colab-df-convert {\n",
       "      background-color: #E8F0FE;\n",
       "      border: none;\n",
       "      border-radius: 50%;\n",
       "      cursor: pointer;\n",
       "      display: none;\n",
       "      fill: #1967D2;\n",
       "      height: 32px;\n",
       "      padding: 0 0 0 0;\n",
       "      width: 32px;\n",
       "    }\n",
       "\n",
       "    .colab-df-convert:hover {\n",
       "      background-color: #E2EBFA;\n",
       "      box-shadow: 0px 1px 2px rgba(60, 64, 67, 0.3), 0px 1px 3px 1px rgba(60, 64, 67, 0.15);\n",
       "      fill: #174EA6;\n",
       "    }\n",
       "\n",
       "    [theme=dark] .colab-df-convert {\n",
       "      background-color: #3B4455;\n",
       "      fill: #D2E3FC;\n",
       "    }\n",
       "\n",
       "    [theme=dark] .colab-df-convert:hover {\n",
       "      background-color: #434B5C;\n",
       "      box-shadow: 0px 1px 3px 1px rgba(0, 0, 0, 0.15);\n",
       "      filter: drop-shadow(0px 1px 2px rgba(0, 0, 0, 0.3));\n",
       "      fill: #FFFFFF;\n",
       "    }\n",
       "  </style>\n",
       "\n",
       "      <script>\n",
       "        const buttonEl =\n",
       "          document.querySelector('#df-e7fb435d-ccf2-4462-921e-5c5c28e83ae5 button.colab-df-convert');\n",
       "        buttonEl.style.display =\n",
       "          google.colab.kernel.accessAllowed ? 'block' : 'none';\n",
       "\n",
       "        async function convertToInteractive(key) {\n",
       "          const element = document.querySelector('#df-e7fb435d-ccf2-4462-921e-5c5c28e83ae5');\n",
       "          const dataTable =\n",
       "            await google.colab.kernel.invokeFunction('convertToInteractive',\n",
       "                                                     [key], {});\n",
       "          if (!dataTable) return;\n",
       "\n",
       "          const docLinkHtml = 'Like what you see? Visit the ' +\n",
       "            '<a target=\"_blank\" href=https://colab.research.google.com/notebooks/data_table.ipynb>data table notebook</a>'\n",
       "            + ' to learn more about interactive tables.';\n",
       "          element.innerHTML = '';\n",
       "          dataTable['output_type'] = 'display_data';\n",
       "          await google.colab.output.renderOutput(dataTable, element);\n",
       "          const docLink = document.createElement('div');\n",
       "          docLink.innerHTML = docLinkHtml;\n",
       "          element.appendChild(docLink);\n",
       "        }\n",
       "      </script>\n",
       "    </div>\n",
       "  </div>\n",
       "  "
      ],
      "text/plain": [
       "                          Cluster                                Agency  Year  \\\n",
       "0                       Education                    Education Agency 1  2014   \n",
       "1                       Education                    Education Agency 2  2014   \n",
       "2                       Education                    Education Agency 3  2014   \n",
       "3                       Education                    Education Agency 4  2014   \n",
       "4     Family & Community Services  Family & Community Services Agency 1  2014   \n",
       "...                           ...                                   ...   ...   \n",
       "1651                    Transport                    Transport Agency 5  2018   \n",
       "1652                    Transport                    Transport Agency 6  2018   \n",
       "1653                     Treasury                     Treasury Agency 1  2018   \n",
       "1654                     Treasury                     Treasury Agency 2  2018   \n",
       "1655                     Treasury                     Treasury Agency 3  2018   \n",
       "\n",
       "          PT/FT  Gender  Headcount  \n",
       "0     Full-Time  Female        180  \n",
       "1     Full-Time  Female       2463  \n",
       "2     Full-Time  Female         32  \n",
       "3     Full-Time  Female      39251  \n",
       "4     Full-Time  Female       9817  \n",
       "...         ...     ...        ...  \n",
       "1651  Full-Time    Male       7845  \n",
       "1652  Full-Time    Male       1945  \n",
       "1653  Full-Time    Male        288  \n",
       "1654  Full-Time    Male         18  \n",
       "1655  Full-Time    Male        278  \n",
       "\n",
       "[920 rows x 6 columns]"
      ]
     },
     "execution_count": 13,
     "metadata": {},
     "output_type": "execute_result"
    }
   ],
   "source": [
    "full"
   ]
  },
  {
   "cell_type": "code",
   "execution_count": 14,
   "metadata": {
    "colab": {
     "base_uri": "https://localhost:8080/"
    },
    "id": "5BtavQV0rG9j",
    "outputId": "b82b826a-5901-4746-b70e-2c4f1a99c175"
   },
   "outputs": [
    {
     "name": "stderr",
     "output_type": "stream",
     "text": [
      "/usr/local/lib/python3.7/dist-packages/ipykernel_launcher.py:1: UserWarning: Boolean Series key will be reindexed to match DataFrame index.\n",
      "  \"\"\"Entry point for launching an IPython kernel.\n",
      "/usr/local/lib/python3.7/dist-packages/ipykernel_launcher.py:2: UserWarning: Boolean Series key will be reindexed to match DataFrame index.\n",
      "  \n",
      "/usr/local/lib/python3.7/dist-packages/ipykernel_launcher.py:3: UserWarning: Boolean Series key will be reindexed to match DataFrame index.\n",
      "  This is separate from the ipykernel package so we can avoid doing imports until\n",
      "/usr/local/lib/python3.7/dist-packages/ipykernel_launcher.py:4: UserWarning: Boolean Series key will be reindexed to match DataFrame index.\n",
      "  after removing the cwd from sys.path.\n"
     ]
    }
   ],
   "source": [
    "male_part=part[male_flag]\n",
    "male_full=full[male_flag]\n",
    "female_part=part[~male_flag]\n",
    "female_full=full[~male_flag]"
   ]
  },
  {
   "cell_type": "markdown",
   "metadata": {},
   "source": [
    "Divide dataset into four categories: male part-time, male full-time, female part-time, female full-time"
   ]
  },
  {
   "cell_type": "code",
   "execution_count": 15,
   "metadata": {
    "colab": {
     "base_uri": "https://localhost:8080/",
     "height": 419
    },
    "id": "fypt5d1prn3P",
    "outputId": "90dd14a7-a46e-4dc0-e792-88829a4a98c6"
   },
   "outputs": [
    {
     "data": {
      "text/html": [
       "\n",
       "  <div id=\"df-807f5712-94c4-4e0f-873b-0700229256ce\">\n",
       "    <div class=\"colab-df-container\">\n",
       "      <div>\n",
       "<style scoped>\n",
       "    .dataframe tbody tr th:only-of-type {\n",
       "        vertical-align: middle;\n",
       "    }\n",
       "\n",
       "    .dataframe tbody tr th {\n",
       "        vertical-align: top;\n",
       "    }\n",
       "\n",
       "    .dataframe thead th {\n",
       "        text-align: right;\n",
       "    }\n",
       "</style>\n",
       "<table border=\"1\" class=\"dataframe\">\n",
       "  <thead>\n",
       "    <tr style=\"text-align: right;\">\n",
       "      <th></th>\n",
       "      <th>Cluster</th>\n",
       "      <th>Agency</th>\n",
       "      <th>Year</th>\n",
       "      <th>PT/FT</th>\n",
       "      <th>Gender</th>\n",
       "      <th>Headcount</th>\n",
       "    </tr>\n",
       "  </thead>\n",
       "  <tbody>\n",
       "    <tr>\n",
       "      <th>276</th>\n",
       "      <td>Education</td>\n",
       "      <td>Education Agency 1</td>\n",
       "      <td>2014</td>\n",
       "      <td>Part-Time</td>\n",
       "      <td>Male</td>\n",
       "      <td>8</td>\n",
       "    </tr>\n",
       "    <tr>\n",
       "      <th>277</th>\n",
       "      <td>Education</td>\n",
       "      <td>Education Agency 2</td>\n",
       "      <td>2014</td>\n",
       "      <td>Part-Time</td>\n",
       "      <td>Male</td>\n",
       "      <td>1691</td>\n",
       "    </tr>\n",
       "    <tr>\n",
       "      <th>278</th>\n",
       "      <td>Education</td>\n",
       "      <td>Education Agency 3</td>\n",
       "      <td>2014</td>\n",
       "      <td>Part-Time</td>\n",
       "      <td>Male</td>\n",
       "      <td>1163</td>\n",
       "    </tr>\n",
       "    <tr>\n",
       "      <th>279</th>\n",
       "      <td>Education</td>\n",
       "      <td>Education Agency 4</td>\n",
       "      <td>2014</td>\n",
       "      <td>Part-Time</td>\n",
       "      <td>Male</td>\n",
       "      <td>2021</td>\n",
       "    </tr>\n",
       "    <tr>\n",
       "      <th>280</th>\n",
       "      <td>Family &amp; Community Services</td>\n",
       "      <td>Family &amp; Community Services Agency 1</td>\n",
       "      <td>2014</td>\n",
       "      <td>Part-Time</td>\n",
       "      <td>Male</td>\n",
       "      <td>1034</td>\n",
       "    </tr>\n",
       "    <tr>\n",
       "      <th>...</th>\n",
       "      <td>...</td>\n",
       "      <td>...</td>\n",
       "      <td>...</td>\n",
       "      <td>...</td>\n",
       "      <td>...</td>\n",
       "      <td>...</td>\n",
       "    </tr>\n",
       "    <tr>\n",
       "      <th>1835</th>\n",
       "      <td>Transport</td>\n",
       "      <td>Transport Agency 5</td>\n",
       "      <td>2018</td>\n",
       "      <td>Part-Time</td>\n",
       "      <td>Male</td>\n",
       "      <td>1354</td>\n",
       "    </tr>\n",
       "    <tr>\n",
       "      <th>1836</th>\n",
       "      <td>Transport</td>\n",
       "      <td>Transport Agency 6</td>\n",
       "      <td>2018</td>\n",
       "      <td>Part-Time</td>\n",
       "      <td>Male</td>\n",
       "      <td>579</td>\n",
       "    </tr>\n",
       "    <tr>\n",
       "      <th>1837</th>\n",
       "      <td>Treasury</td>\n",
       "      <td>Treasury Agency 1</td>\n",
       "      <td>2018</td>\n",
       "      <td>Part-Time</td>\n",
       "      <td>Male</td>\n",
       "      <td>6</td>\n",
       "    </tr>\n",
       "    <tr>\n",
       "      <th>1838</th>\n",
       "      <td>Treasury</td>\n",
       "      <td>Treasury Agency 2</td>\n",
       "      <td>2018</td>\n",
       "      <td>Part-Time</td>\n",
       "      <td>Male</td>\n",
       "      <td>6</td>\n",
       "    </tr>\n",
       "    <tr>\n",
       "      <th>1839</th>\n",
       "      <td>Treasury</td>\n",
       "      <td>Treasury Agency 3</td>\n",
       "      <td>2018</td>\n",
       "      <td>Part-Time</td>\n",
       "      <td>Male</td>\n",
       "      <td>6</td>\n",
       "    </tr>\n",
       "  </tbody>\n",
       "</table>\n",
       "<p>460 rows × 6 columns</p>\n",
       "</div>\n",
       "      <button class=\"colab-df-convert\" onclick=\"convertToInteractive('df-807f5712-94c4-4e0f-873b-0700229256ce')\"\n",
       "              title=\"Convert this dataframe to an interactive table.\"\n",
       "              style=\"display:none;\">\n",
       "        \n",
       "  <svg xmlns=\"http://www.w3.org/2000/svg\" height=\"24px\"viewBox=\"0 0 24 24\"\n",
       "       width=\"24px\">\n",
       "    <path d=\"M0 0h24v24H0V0z\" fill=\"none\"/>\n",
       "    <path d=\"M18.56 5.44l.94 2.06.94-2.06 2.06-.94-2.06-.94-.94-2.06-.94 2.06-2.06.94zm-11 1L8.5 8.5l.94-2.06 2.06-.94-2.06-.94L8.5 2.5l-.94 2.06-2.06.94zm10 10l.94 2.06.94-2.06 2.06-.94-2.06-.94-.94-2.06-.94 2.06-2.06.94z\"/><path d=\"M17.41 7.96l-1.37-1.37c-.4-.4-.92-.59-1.43-.59-.52 0-1.04.2-1.43.59L10.3 9.45l-7.72 7.72c-.78.78-.78 2.05 0 2.83L4 21.41c.39.39.9.59 1.41.59.51 0 1.02-.2 1.41-.59l7.78-7.78 2.81-2.81c.8-.78.8-2.07 0-2.86zM5.41 20L4 18.59l7.72-7.72 1.47 1.35L5.41 20z\"/>\n",
       "  </svg>\n",
       "      </button>\n",
       "      \n",
       "  <style>\n",
       "    .colab-df-container {\n",
       "      display:flex;\n",
       "      flex-wrap:wrap;\n",
       "      gap: 12px;\n",
       "    }\n",
       "\n",
       "    .colab-df-convert {\n",
       "      background-color: #E8F0FE;\n",
       "      border: none;\n",
       "      border-radius: 50%;\n",
       "      cursor: pointer;\n",
       "      display: none;\n",
       "      fill: #1967D2;\n",
       "      height: 32px;\n",
       "      padding: 0 0 0 0;\n",
       "      width: 32px;\n",
       "    }\n",
       "\n",
       "    .colab-df-convert:hover {\n",
       "      background-color: #E2EBFA;\n",
       "      box-shadow: 0px 1px 2px rgba(60, 64, 67, 0.3), 0px 1px 3px 1px rgba(60, 64, 67, 0.15);\n",
       "      fill: #174EA6;\n",
       "    }\n",
       "\n",
       "    [theme=dark] .colab-df-convert {\n",
       "      background-color: #3B4455;\n",
       "      fill: #D2E3FC;\n",
       "    }\n",
       "\n",
       "    [theme=dark] .colab-df-convert:hover {\n",
       "      background-color: #434B5C;\n",
       "      box-shadow: 0px 1px 3px 1px rgba(0, 0, 0, 0.15);\n",
       "      filter: drop-shadow(0px 1px 2px rgba(0, 0, 0, 0.3));\n",
       "      fill: #FFFFFF;\n",
       "    }\n",
       "  </style>\n",
       "\n",
       "      <script>\n",
       "        const buttonEl =\n",
       "          document.querySelector('#df-807f5712-94c4-4e0f-873b-0700229256ce button.colab-df-convert');\n",
       "        buttonEl.style.display =\n",
       "          google.colab.kernel.accessAllowed ? 'block' : 'none';\n",
       "\n",
       "        async function convertToInteractive(key) {\n",
       "          const element = document.querySelector('#df-807f5712-94c4-4e0f-873b-0700229256ce');\n",
       "          const dataTable =\n",
       "            await google.colab.kernel.invokeFunction('convertToInteractive',\n",
       "                                                     [key], {});\n",
       "          if (!dataTable) return;\n",
       "\n",
       "          const docLinkHtml = 'Like what you see? Visit the ' +\n",
       "            '<a target=\"_blank\" href=https://colab.research.google.com/notebooks/data_table.ipynb>data table notebook</a>'\n",
       "            + ' to learn more about interactive tables.';\n",
       "          element.innerHTML = '';\n",
       "          dataTable['output_type'] = 'display_data';\n",
       "          await google.colab.output.renderOutput(dataTable, element);\n",
       "          const docLink = document.createElement('div');\n",
       "          docLink.innerHTML = docLinkHtml;\n",
       "          element.appendChild(docLink);\n",
       "        }\n",
       "      </script>\n",
       "    </div>\n",
       "  </div>\n",
       "  "
      ],
      "text/plain": [
       "                          Cluster                                Agency  Year  \\\n",
       "276                     Education                    Education Agency 1  2014   \n",
       "277                     Education                    Education Agency 2  2014   \n",
       "278                     Education                    Education Agency 3  2014   \n",
       "279                     Education                    Education Agency 4  2014   \n",
       "280   Family & Community Services  Family & Community Services Agency 1  2014   \n",
       "...                           ...                                   ...   ...   \n",
       "1835                    Transport                    Transport Agency 5  2018   \n",
       "1836                    Transport                    Transport Agency 6  2018   \n",
       "1837                     Treasury                     Treasury Agency 1  2018   \n",
       "1838                     Treasury                     Treasury Agency 2  2018   \n",
       "1839                     Treasury                     Treasury Agency 3  2018   \n",
       "\n",
       "          PT/FT Gender  Headcount  \n",
       "276   Part-Time   Male          8  \n",
       "277   Part-Time   Male       1691  \n",
       "278   Part-Time   Male       1163  \n",
       "279   Part-Time   Male       2021  \n",
       "280   Part-Time   Male       1034  \n",
       "...         ...    ...        ...  \n",
       "1835  Part-Time   Male       1354  \n",
       "1836  Part-Time   Male        579  \n",
       "1837  Part-Time   Male          6  \n",
       "1838  Part-Time   Male          6  \n",
       "1839  Part-Time   Male          6  \n",
       "\n",
       "[460 rows x 6 columns]"
      ]
     },
     "execution_count": 15,
     "metadata": {},
     "output_type": "execute_result"
    }
   ],
   "source": [
    "male_part"
   ]
  },
  {
   "cell_type": "code",
   "execution_count": 16,
   "metadata": {
    "colab": {
     "base_uri": "https://localhost:8080/",
     "height": 419
    },
    "id": "kQDKcaEgrqR-",
    "outputId": "5222f694-ae0b-4903-e40d-62794650885e"
   },
   "outputs": [
    {
     "data": {
      "text/html": [
       "\n",
       "  <div id=\"df-0267b65d-0025-4f19-bd76-68187911dc9e\">\n",
       "    <div class=\"colab-df-container\">\n",
       "      <div>\n",
       "<style scoped>\n",
       "    .dataframe tbody tr th:only-of-type {\n",
       "        vertical-align: middle;\n",
       "    }\n",
       "\n",
       "    .dataframe tbody tr th {\n",
       "        vertical-align: top;\n",
       "    }\n",
       "\n",
       "    .dataframe thead th {\n",
       "        text-align: right;\n",
       "    }\n",
       "</style>\n",
       "<table border=\"1\" class=\"dataframe\">\n",
       "  <thead>\n",
       "    <tr style=\"text-align: right;\">\n",
       "      <th></th>\n",
       "      <th>Cluster</th>\n",
       "      <th>Agency</th>\n",
       "      <th>Year</th>\n",
       "      <th>PT/FT</th>\n",
       "      <th>Gender</th>\n",
       "      <th>Headcount</th>\n",
       "    </tr>\n",
       "  </thead>\n",
       "  <tbody>\n",
       "    <tr>\n",
       "      <th>0</th>\n",
       "      <td>Education</td>\n",
       "      <td>Education Agency 1</td>\n",
       "      <td>2014</td>\n",
       "      <td>Full-Time</td>\n",
       "      <td>Female</td>\n",
       "      <td>180</td>\n",
       "    </tr>\n",
       "    <tr>\n",
       "      <th>1</th>\n",
       "      <td>Education</td>\n",
       "      <td>Education Agency 2</td>\n",
       "      <td>2014</td>\n",
       "      <td>Full-Time</td>\n",
       "      <td>Female</td>\n",
       "      <td>2463</td>\n",
       "    </tr>\n",
       "    <tr>\n",
       "      <th>2</th>\n",
       "      <td>Education</td>\n",
       "      <td>Education Agency 3</td>\n",
       "      <td>2014</td>\n",
       "      <td>Full-Time</td>\n",
       "      <td>Female</td>\n",
       "      <td>32</td>\n",
       "    </tr>\n",
       "    <tr>\n",
       "      <th>3</th>\n",
       "      <td>Education</td>\n",
       "      <td>Education Agency 4</td>\n",
       "      <td>2014</td>\n",
       "      <td>Full-Time</td>\n",
       "      <td>Female</td>\n",
       "      <td>39251</td>\n",
       "    </tr>\n",
       "    <tr>\n",
       "      <th>4</th>\n",
       "      <td>Family &amp; Community Services</td>\n",
       "      <td>Family &amp; Community Services Agency 1</td>\n",
       "      <td>2014</td>\n",
       "      <td>Full-Time</td>\n",
       "      <td>Female</td>\n",
       "      <td>9817</td>\n",
       "    </tr>\n",
       "    <tr>\n",
       "      <th>...</th>\n",
       "      <td>...</td>\n",
       "      <td>...</td>\n",
       "      <td>...</td>\n",
       "      <td>...</td>\n",
       "      <td>...</td>\n",
       "      <td>...</td>\n",
       "    </tr>\n",
       "    <tr>\n",
       "      <th>1559</th>\n",
       "      <td>Transport</td>\n",
       "      <td>Transport Agency 5</td>\n",
       "      <td>2018</td>\n",
       "      <td>Full-Time</td>\n",
       "      <td>Female</td>\n",
       "      <td>1922</td>\n",
       "    </tr>\n",
       "    <tr>\n",
       "      <th>1560</th>\n",
       "      <td>Transport</td>\n",
       "      <td>Transport Agency 6</td>\n",
       "      <td>2018</td>\n",
       "      <td>Full-Time</td>\n",
       "      <td>Female</td>\n",
       "      <td>1983</td>\n",
       "    </tr>\n",
       "    <tr>\n",
       "      <th>1561</th>\n",
       "      <td>Treasury</td>\n",
       "      <td>Treasury Agency 1</td>\n",
       "      <td>2018</td>\n",
       "      <td>Full-Time</td>\n",
       "      <td>Female</td>\n",
       "      <td>492</td>\n",
       "    </tr>\n",
       "    <tr>\n",
       "      <th>1562</th>\n",
       "      <td>Treasury</td>\n",
       "      <td>Treasury Agency 2</td>\n",
       "      <td>2018</td>\n",
       "      <td>Full-Time</td>\n",
       "      <td>Female</td>\n",
       "      <td>21</td>\n",
       "    </tr>\n",
       "    <tr>\n",
       "      <th>1563</th>\n",
       "      <td>Treasury</td>\n",
       "      <td>Treasury Agency 3</td>\n",
       "      <td>2018</td>\n",
       "      <td>Full-Time</td>\n",
       "      <td>Female</td>\n",
       "      <td>274</td>\n",
       "    </tr>\n",
       "  </tbody>\n",
       "</table>\n",
       "<p>460 rows × 6 columns</p>\n",
       "</div>\n",
       "      <button class=\"colab-df-convert\" onclick=\"convertToInteractive('df-0267b65d-0025-4f19-bd76-68187911dc9e')\"\n",
       "              title=\"Convert this dataframe to an interactive table.\"\n",
       "              style=\"display:none;\">\n",
       "        \n",
       "  <svg xmlns=\"http://www.w3.org/2000/svg\" height=\"24px\"viewBox=\"0 0 24 24\"\n",
       "       width=\"24px\">\n",
       "    <path d=\"M0 0h24v24H0V0z\" fill=\"none\"/>\n",
       "    <path d=\"M18.56 5.44l.94 2.06.94-2.06 2.06-.94-2.06-.94-.94-2.06-.94 2.06-2.06.94zm-11 1L8.5 8.5l.94-2.06 2.06-.94-2.06-.94L8.5 2.5l-.94 2.06-2.06.94zm10 10l.94 2.06.94-2.06 2.06-.94-2.06-.94-.94-2.06-.94 2.06-2.06.94z\"/><path d=\"M17.41 7.96l-1.37-1.37c-.4-.4-.92-.59-1.43-.59-.52 0-1.04.2-1.43.59L10.3 9.45l-7.72 7.72c-.78.78-.78 2.05 0 2.83L4 21.41c.39.39.9.59 1.41.59.51 0 1.02-.2 1.41-.59l7.78-7.78 2.81-2.81c.8-.78.8-2.07 0-2.86zM5.41 20L4 18.59l7.72-7.72 1.47 1.35L5.41 20z\"/>\n",
       "  </svg>\n",
       "      </button>\n",
       "      \n",
       "  <style>\n",
       "    .colab-df-container {\n",
       "      display:flex;\n",
       "      flex-wrap:wrap;\n",
       "      gap: 12px;\n",
       "    }\n",
       "\n",
       "    .colab-df-convert {\n",
       "      background-color: #E8F0FE;\n",
       "      border: none;\n",
       "      border-radius: 50%;\n",
       "      cursor: pointer;\n",
       "      display: none;\n",
       "      fill: #1967D2;\n",
       "      height: 32px;\n",
       "      padding: 0 0 0 0;\n",
       "      width: 32px;\n",
       "    }\n",
       "\n",
       "    .colab-df-convert:hover {\n",
       "      background-color: #E2EBFA;\n",
       "      box-shadow: 0px 1px 2px rgba(60, 64, 67, 0.3), 0px 1px 3px 1px rgba(60, 64, 67, 0.15);\n",
       "      fill: #174EA6;\n",
       "    }\n",
       "\n",
       "    [theme=dark] .colab-df-convert {\n",
       "      background-color: #3B4455;\n",
       "      fill: #D2E3FC;\n",
       "    }\n",
       "\n",
       "    [theme=dark] .colab-df-convert:hover {\n",
       "      background-color: #434B5C;\n",
       "      box-shadow: 0px 1px 3px 1px rgba(0, 0, 0, 0.15);\n",
       "      filter: drop-shadow(0px 1px 2px rgba(0, 0, 0, 0.3));\n",
       "      fill: #FFFFFF;\n",
       "    }\n",
       "  </style>\n",
       "\n",
       "      <script>\n",
       "        const buttonEl =\n",
       "          document.querySelector('#df-0267b65d-0025-4f19-bd76-68187911dc9e button.colab-df-convert');\n",
       "        buttonEl.style.display =\n",
       "          google.colab.kernel.accessAllowed ? 'block' : 'none';\n",
       "\n",
       "        async function convertToInteractive(key) {\n",
       "          const element = document.querySelector('#df-0267b65d-0025-4f19-bd76-68187911dc9e');\n",
       "          const dataTable =\n",
       "            await google.colab.kernel.invokeFunction('convertToInteractive',\n",
       "                                                     [key], {});\n",
       "          if (!dataTable) return;\n",
       "\n",
       "          const docLinkHtml = 'Like what you see? Visit the ' +\n",
       "            '<a target=\"_blank\" href=https://colab.research.google.com/notebooks/data_table.ipynb>data table notebook</a>'\n",
       "            + ' to learn more about interactive tables.';\n",
       "          element.innerHTML = '';\n",
       "          dataTable['output_type'] = 'display_data';\n",
       "          await google.colab.output.renderOutput(dataTable, element);\n",
       "          const docLink = document.createElement('div');\n",
       "          docLink.innerHTML = docLinkHtml;\n",
       "          element.appendChild(docLink);\n",
       "        }\n",
       "      </script>\n",
       "    </div>\n",
       "  </div>\n",
       "  "
      ],
      "text/plain": [
       "                          Cluster                                Agency  Year  \\\n",
       "0                       Education                    Education Agency 1  2014   \n",
       "1                       Education                    Education Agency 2  2014   \n",
       "2                       Education                    Education Agency 3  2014   \n",
       "3                       Education                    Education Agency 4  2014   \n",
       "4     Family & Community Services  Family & Community Services Agency 1  2014   \n",
       "...                           ...                                   ...   ...   \n",
       "1559                    Transport                    Transport Agency 5  2018   \n",
       "1560                    Transport                    Transport Agency 6  2018   \n",
       "1561                     Treasury                     Treasury Agency 1  2018   \n",
       "1562                     Treasury                     Treasury Agency 2  2018   \n",
       "1563                     Treasury                     Treasury Agency 3  2018   \n",
       "\n",
       "          PT/FT  Gender  Headcount  \n",
       "0     Full-Time  Female        180  \n",
       "1     Full-Time  Female       2463  \n",
       "2     Full-Time  Female         32  \n",
       "3     Full-Time  Female      39251  \n",
       "4     Full-Time  Female       9817  \n",
       "...         ...     ...        ...  \n",
       "1559  Full-Time  Female       1922  \n",
       "1560  Full-Time  Female       1983  \n",
       "1561  Full-Time  Female        492  \n",
       "1562  Full-Time  Female         21  \n",
       "1563  Full-Time  Female        274  \n",
       "\n",
       "[460 rows x 6 columns]"
      ]
     },
     "execution_count": 16,
     "metadata": {},
     "output_type": "execute_result"
    }
   ],
   "source": [
    "female_full"
   ]
  },
  {
   "cell_type": "code",
   "execution_count": 17,
   "metadata": {
    "id": "URsZu5FFqZVD"
   },
   "outputs": [],
   "source": [
    "male_part_trend=np.array([male_part[male_part['Year'] == 2014]['Headcount'].sum(),male_part[male_part['Year'] == 2015]['Headcount'].sum(),male_part[male_part['Year'] == 2016]['Headcount'].sum(),male_part[male_part['Year'] == 2017]['Headcount'].sum(),\n",
    "male_part[male_part['Year'] == 2018]['Headcount'].sum()])\n",
    "female_part_trend=np.array([female_part[female_part['Year'] == 2014]['Headcount'].sum(),female_part[female_part['Year'] == 2015]['Headcount'].sum(),female_part[female_part['Year'] == 2016]['Headcount'].sum(),female_part[female_part['Year'] == 2017]['Headcount'].sum(),\n",
    "female_part[female_part['Year'] == 2018]['Headcount'].sum()])\n",
    "male_full_trend=np.array([male_full[male_full['Year'] == 2014]['Headcount'].sum(),male_full[male_full['Year'] == 2015]['Headcount'].sum(),male_full[male_full['Year'] == 2016]['Headcount'].sum(),male_full[male_full['Year'] == 2017]['Headcount'].sum(),\n",
    "male_full[male_full['Year'] == 2018]['Headcount'].sum()])\n",
    "female_full_trend=np.array([female_full[female_full['Year'] == 2014]['Headcount'].sum(),female_full[female_full['Year'] == 2015]['Headcount'].sum(),female_full[female_full['Year'] == 2016]['Headcount'].sum(),female_full[female_full['Year'] == 2017]['Headcount'].sum(),\n",
    "female_full[female_full['Year'] == 2018]['Headcount'].sum()])"
   ]
  },
  {
   "cell_type": "markdown",
   "metadata": {},
   "source": [
    "Sum up the employee number by each year(2014 to 2018)"
   ]
  },
  {
   "cell_type": "code",
   "execution_count": 18,
   "metadata": {
    "colab": {
     "base_uri": "https://localhost:8080/"
    },
    "id": "r6_Ln61wtPQZ",
    "outputId": "91d81827-0886-4bc8-d533-0685b4a1d549"
   },
   "outputs": [
    {
     "data": {
      "text/plain": [
       "array([13995, 14302, 14678, 18706, 22034])"
      ]
     },
     "execution_count": 18,
     "metadata": {},
     "output_type": "execute_result"
    }
   ],
   "source": [
    "male_part_trend"
   ]
  },
  {
   "cell_type": "code",
   "execution_count": 19,
   "metadata": {
    "colab": {
     "base_uri": "https://localhost:8080/"
    },
    "id": "6DoxC-GF0A6U",
    "outputId": "8cadf31d-e6c7-4b2f-e17c-5b2101693a33"
   },
   "outputs": [
    {
     "data": {
      "text/plain": [
       "array([87983, 89943, 88264, 90721, 90216])"
      ]
     },
     "execution_count": 19,
     "metadata": {},
     "output_type": "execute_result"
    }
   ],
   "source": [
    "female_part_trend"
   ]
  },
  {
   "cell_type": "code",
   "execution_count": 20,
   "metadata": {
    "colab": {
     "base_uri": "https://localhost:8080/"
    },
    "id": "y-Jy0AXw0NrN",
    "outputId": "d690d2a4-2341-4e13-989c-3a12ffbd4b12"
   },
   "outputs": [
    {
     "data": {
      "text/plain": [
       "array([123614, 118504, 117976, 114962, 111377])"
      ]
     },
     "execution_count": 20,
     "metadata": {},
     "output_type": "execute_result"
    }
   ],
   "source": [
    "male_full_trend"
   ]
  },
  {
   "cell_type": "code",
   "execution_count": 21,
   "metadata": {
    "colab": {
     "base_uri": "https://localhost:8080/"
    },
    "id": "TtWscOAbuzGe",
    "outputId": "6ee31d9f-425c-41bc-ead2-1f1c79b21584"
   },
   "outputs": [
    {
     "data": {
      "text/plain": [
       "array([156793, 152038, 154489, 155408, 155833])"
      ]
     },
     "execution_count": 21,
     "metadata": {},
     "output_type": "execute_result"
    }
   ],
   "source": [
    "female_full_trend"
   ]
  },
  {
   "cell_type": "markdown",
   "metadata": {},
   "source": [
    "<h2>Part-Time Trend from 2014 to 2018 (Male vs Female)</h2>"
   ]
  },
  {
   "cell_type": "code",
   "execution_count": 23,
   "metadata": {
    "colab": {
     "base_uri": "https://localhost:8080/",
     "height": 295
    },
    "id": "i5OHe8AHvBln",
    "outputId": "7adcee2b-8f6a-4373-d58a-f5da1ef314cc"
   },
   "outputs": [
    {
     "data": {
      "image/png": "[encoded data removed]",
      "text/plain": [
       "<Figure size 432x288 with 1 Axes>"
      ]
     },
     "metadata": {
      "needs_background": "light"
     },
     "output_type": "display_data"
    }
   ],
   "source": [
    "X = ['2014','2015','2016','2017','2018']\n",
    "  \n",
    "X_axis = np.arange(len(X))\n",
    "  \n",
    "plt.bar(X_axis - 0.2, male_part_trend, 0.4, label = 'Male')\n",
    "plt.bar(X_axis + 0.2, female_part_trend, 0.4, label = 'Female')\n",
    "  \n",
    "plt.xticks(X_axis, X)\n",
    "plt.xlabel(\"Years\")\n",
    "plt.ylabel(\"Total Count\")\n",
    "plt.title(\"Number of Part-Time Employees\")\n",
    "plt.legend()\n",
    "plt.show()"
   ]
  },
  {
   "cell_type": "markdown",
   "metadata": {},
   "source": [
    "The number of Part-Time employees of female is extremely larger than males"
   ]
  },
  {
   "cell_type": "markdown",
   "metadata": {},
   "source": [
    "<h2> Full-Time Trend from 2014 to 2018 (Male vs Female)</h2>"
   ]
  },
  {
   "cell_type": "code",
   "execution_count": 24,
   "metadata": {
    "colab": {
     "base_uri": "https://localhost:8080/",
     "height": 295
    },
    "id": "JhXhZbc00D-p",
    "outputId": "780629ec-e25f-4168-a080-30fa0fa42a2e"
   },
   "outputs": [
    {
     "data": {
      "image/png": "[encoded data removed]",
      "text/plain": [
       "<Figure size 432x288 with 1 Axes>"
      ]
     },
     "metadata": {
      "needs_background": "light"
     },
     "output_type": "display_data"
    }
   ],
   "source": [
    "X = ['2014','2015','2016','2017','2018']\n",
    "  \n",
    "X_axis = np.arange(len(X))\n",
    "  \n",
    "plt.bar(X_axis - 0.2, male_full_trend, 0.4, label = 'Male')\n",
    "plt.bar(X_axis + 0.2, female_full_trend, 0.4, label = 'Female')\n",
    "  \n",
    "plt.xticks(X_axis, X)\n",
    "plt.xlabel(\"Years\")\n",
    "plt.ylabel(\"Total Count\")\n",
    "plt.title(\"Number of Full-Time Employees\")\n",
    "plt.legend()\n",
    "plt.show()"
   ]
  },
  {
   "cell_type": "markdown",
   "metadata": {},
   "source": [
    "The number of Full-Time employees female is larger than males. However, less gap between the group compared to the number of part-time employees. In conclusion, females are more employed in both types of employment(Full-Time, Part-Time) than the males."
   ]
  },
  {
   "cell_type": "markdown",
   "metadata": {},
   "source": [
    "<h2> Employment Trend from 2014 to 2018 (Male)</h2>"
   ]
  },
  {
   "cell_type": "code",
   "execution_count": 26,
   "metadata": {
    "colab": {
     "base_uri": "https://localhost:8080/",
     "height": 295
    },
    "id": "O_0jro_1z-WH",
    "outputId": "a0545573-3f7d-4ef2-8a65-5cc654acb940"
   },
   "outputs": [
    {
     "data": {
      "image/png": "[encoded data removed]",
      "text/plain": [
       "<Figure size 432x288 with 1 Axes>"
      ]
     },
     "metadata": {
      "needs_background": "light"
     },
     "output_type": "display_data"
    }
   ],
   "source": [
    "X = ['2014','2015','2016','2017','2018']\n",
    "  \n",
    "X_axis = np.arange(len(X))\n",
    "  \n",
    "plt.bar(X_axis - 0.2, male_part_trend, 0.4, label = 'Part-Time')\n",
    "plt.bar(X_axis + 0.2, male_full_trend, 0.4, label = 'Full-Time')\n",
    "  \n",
    "plt.xticks(X_axis, X)\n",
    "plt.xlabel(\"Years\")\n",
    "plt.ylabel(\"Total Count\")\n",
    "plt.title(\"Compare number of Full-Time/Part-Time male Employees\")\n",
    "plt.legend()\n",
    "plt.show()"
   ]
  },
  {
   "cell_type": "markdown",
   "metadata": {},
   "source": [
    "In the male group, Full-Time workers are significantly more than Part-Time workers."
   ]
  },
  {
   "cell_type": "code",
   "execution_count": 25,
   "metadata": {
    "colab": {
     "base_uri": "https://localhost:8080/",
     "height": 295
    },
    "id": "8lI5_WqI0Zrb",
    "outputId": "d7337a06-5c8e-4458-f198-beda886ad260"
   },
   "outputs": [
    {
     "data": {
      "image/png": "[encoded data removed]",
      "text/plain": [
       "<Figure size 432x288 with 1 Axes>"
      ]
     },
     "metadata": {
      "needs_background": "light"
     },
     "output_type": "display_data"
    }
   ],
   "source": [
    "X = ['2014','2015','2016','2017','2018']\n",
    "  \n",
    "X_axis = np.arange(len(X))\n",
    "  \n",
    "plt.bar(X_axis - 0.2, female_part_trend, 0.4, label = 'Part-Time')\n",
    "plt.bar(X_axis + 0.2, female_full_trend, 0.4, label = 'Full-Time')\n",
    "  \n",
    "plt.xticks(X_axis, X)\n",
    "plt.xlabel(\"Years\")\n",
    "plt.ylabel(\"Total Count\")\n",
    "plt.title(\"Compare number of Full-Time/Part-Time Female Employees\")\n",
    "plt.legend()\n",
    "plt.show()"
   ]
  },
  {
   "cell_type": "markdown",
   "metadata": {},
   "source": [
    "In the female group, Full-Time workers are more than Part-Time workers. However, the gap between groups is smaller than the male group."
   ]
  },
  {
   "cell_type": "markdown",
   "metadata": {},
   "source": [
    "<h1>Comparing by each cluster</h1>"
   ]
  },
  {
   "cell_type": "code",
   "execution_count": 27,
   "metadata": {
    "colab": {
     "base_uri": "https://localhost:8080/"
    },
    "id": "8KLffGxi0ryv",
    "outputId": "97e70333-8c24-40a9-8dce-aa8b912725a0"
   },
   "outputs": [
    {
     "data": {
      "text/plain": [
       "array(['Education', 'Family & Community Services',\n",
       "       'Finance, Services & Innovation', 'Health', 'Industry', 'Justice',\n",
       "       'Planning & Environment', 'Premier & Cabinet', 'Transport',\n",
       "       'Treasury'], dtype=object)"
      ]
     },
     "execution_count": 27,
     "metadata": {},
     "output_type": "execute_result"
    }
   ],
   "source": [
    "df3.Cluster.unique()"
   ]
  },
  {
   "cell_type": "markdown",
   "metadata": {},
   "source": [
    "There are ten clusters"
   ]
  },
  {
   "cell_type": "code",
   "execution_count": 28,
   "metadata": {
    "id": "5p8ALFwv20sN"
   },
   "outputs": [],
   "source": [
    "education_flag=df3['Cluster']=='Education'\n",
    "family_flag=df3['Cluster']=='Family & Community Services'\n",
    "finance_flag=df3['Cluster']=='Finance, Services & Innovation'\n",
    "health_flag=df3['Cluster']=='Health'\n",
    "industry_flag=df3['Cluster']=='Industry'\n",
    "justice_flag=df3['Cluster']=='Justice'\n",
    "planning_flag=df3['Cluster']=='Planning & Environment'\n",
    "premier_flag=df3['Cluster']=='Premier & Cabinet'\n",
    "transport_flag=df3['Cluster']=='Transport'\n",
    "treasury_flag=df3['Cluster']=='Treasury'"
   ]
  },
  {
   "cell_type": "markdown",
   "metadata": {},
   "source": [
    "<h2>Divide dataset into ten clusters for each gender (male, female)</h2>"
   ]
  },
  {
   "cell_type": "code",
   "execution_count": 29,
   "metadata": {
    "colab": {
     "base_uri": "https://localhost:8080/"
    },
    "id": "GAI-fZ0j4L2M",
    "outputId": "d6fd7f60-ca53-4e8f-e1c8-d62221c6ab42"
   },
   "outputs": [
    {
     "name": "stderr",
     "output_type": "stream",
     "text": [
      "/usr/local/lib/python3.7/dist-packages/ipykernel_launcher.py:1: UserWarning: Boolean Series key will be reindexed to match DataFrame index.\n",
      "  \"\"\"Entry point for launching an IPython kernel.\n",
      "/usr/local/lib/python3.7/dist-packages/ipykernel_launcher.py:2: UserWarning: Boolean Series key will be reindexed to match DataFrame index.\n",
      "  \n",
      "/usr/local/lib/python3.7/dist-packages/ipykernel_launcher.py:3: UserWarning: Boolean Series key will be reindexed to match DataFrame index.\n",
      "  This is separate from the ipykernel package so we can avoid doing imports until\n",
      "/usr/local/lib/python3.7/dist-packages/ipykernel_launcher.py:4: UserWarning: Boolean Series key will be reindexed to match DataFrame index.\n",
      "  after removing the cwd from sys.path.\n",
      "/usr/local/lib/python3.7/dist-packages/ipykernel_launcher.py:5: UserWarning: Boolean Series key will be reindexed to match DataFrame index.\n",
      "  \"\"\"\n",
      "/usr/local/lib/python3.7/dist-packages/ipykernel_launcher.py:6: UserWarning: Boolean Series key will be reindexed to match DataFrame index.\n",
      "  \n",
      "/usr/local/lib/python3.7/dist-packages/ipykernel_launcher.py:7: UserWarning: Boolean Series key will be reindexed to match DataFrame index.\n",
      "  import sys\n",
      "/usr/local/lib/python3.7/dist-packages/ipykernel_launcher.py:8: UserWarning: Boolean Series key will be reindexed to match DataFrame index.\n",
      "  \n",
      "/usr/local/lib/python3.7/dist-packages/ipykernel_launcher.py:9: UserWarning: Boolean Series key will be reindexed to match DataFrame index.\n",
      "  if __name__ == '__main__':\n",
      "/usr/local/lib/python3.7/dist-packages/ipykernel_launcher.py:10: UserWarning: Boolean Series key will be reindexed to match DataFrame index.\n",
      "  # Remove the CWD from sys.path while we load stuff.\n"
     ]
    }
   ],
   "source": [
    "male_part_education=male_part[education_flag]\n",
    "male_part_family=male_part[family_flag]\n",
    "male_part_finance=male_part[finance_flag]\n",
    "male_part_health=male_part[health_flag]\n",
    "male_part_industry=male_part[industry_flag]\n",
    "male_part_justice=male_part[justice_flag]\n",
    "male_part_planning=male_part[planning_flag]\n",
    "male_part_premier=male_part[premier_flag]\n",
    "male_part_transport=male_part[transport_flag]\n",
    "male_part_treasury=male_part[treasury_flag]"
   ]
  },
  {
   "cell_type": "code",
   "execution_count": 30,
   "metadata": {
    "colab": {
     "base_uri": "https://localhost:8080/"
    },
    "id": "mT2Ar3v94XMp",
    "outputId": "21b227fb-cc04-4e14-ff13-9923160e1313"
   },
   "outputs": [
    {
     "name": "stderr",
     "output_type": "stream",
     "text": [
      "/usr/local/lib/python3.7/dist-packages/ipykernel_launcher.py:1: UserWarning: Boolean Series key will be reindexed to match DataFrame index.\n",
      "  \"\"\"Entry point for launching an IPython kernel.\n",
      "/usr/local/lib/python3.7/dist-packages/ipykernel_launcher.py:2: UserWarning: Boolean Series key will be reindexed to match DataFrame index.\n",
      "  \n",
      "/usr/local/lib/python3.7/dist-packages/ipykernel_launcher.py:3: UserWarning: Boolean Series key will be reindexed to match DataFrame index.\n",
      "  This is separate from the ipykernel package so we can avoid doing imports until\n",
      "/usr/local/lib/python3.7/dist-packages/ipykernel_launcher.py:4: UserWarning: Boolean Series key will be reindexed to match DataFrame index.\n",
      "  after removing the cwd from sys.path.\n",
      "/usr/local/lib/python3.7/dist-packages/ipykernel_launcher.py:5: UserWarning: Boolean Series key will be reindexed to match DataFrame index.\n",
      "  \"\"\"\n",
      "/usr/local/lib/python3.7/dist-packages/ipykernel_launcher.py:6: UserWarning: Boolean Series key will be reindexed to match DataFrame index.\n",
      "  \n",
      "/usr/local/lib/python3.7/dist-packages/ipykernel_launcher.py:7: UserWarning: Boolean Series key will be reindexed to match DataFrame index.\n",
      "  import sys\n",
      "/usr/local/lib/python3.7/dist-packages/ipykernel_launcher.py:8: UserWarning: Boolean Series key will be reindexed to match DataFrame index.\n",
      "  \n",
      "/usr/local/lib/python3.7/dist-packages/ipykernel_launcher.py:9: UserWarning: Boolean Series key will be reindexed to match DataFrame index.\n",
      "  if __name__ == '__main__':\n",
      "/usr/local/lib/python3.7/dist-packages/ipykernel_launcher.py:10: UserWarning: Boolean Series key will be reindexed to match DataFrame index.\n",
      "  # Remove the CWD from sys.path while we load stuff.\n"
     ]
    }
   ],
   "source": [
    "female_part_education=female_part[education_flag]\n",
    "female_part_family=female_part[family_flag]\n",
    "female_part_finance=female_part[finance_flag]\n",
    "female_part_health=female_part[health_flag]\n",
    "female_part_industry=female_part[industry_flag]\n",
    "female_part_justice=female_part[justice_flag]\n",
    "female_part_planning=female_part[planning_flag]\n",
    "female_part_premier=female_part[premier_flag]\n",
    "female_part_transport=female_part[transport_flag]\n",
    "female_part_treasury=female_part[treasury_flag]"
   ]
  },
  {
   "cell_type": "markdown",
   "metadata": {},
   "source": [
    "<h2>Trend from 2014 to 2018 for every dataset</h2>"
   ]
  },
  {
   "cell_type": "code",
   "execution_count": 31,
   "metadata": {
    "id": "MdDCkvW45NrG"
   },
   "outputs": [],
   "source": [
    "#education\n",
    "male_part_edu_trend=np.array([male_part_education[male_part_education['Year'] == 2014]['Headcount'].sum(),male_part_education[male_part_education['Year'] == 2015]['Headcount'].sum(),male_part_education[male_part_education['Year'] == 2016]['Headcount'].sum(),male_part_education[male_part_education['Year'] == 2017]['Headcount'].sum(),\n",
    "male_part_education[male_part_education['Year'] == 2018]['Headcount'].sum()])\n",
    "female_part_edu_trend=np.array([female_part_education[female_part_education['Year'] == 2014]['Headcount'].sum(),female_part_education[female_part_education['Year'] == 2015]['Headcount'].sum(),female_part_education[female_part_education['Year'] == 2016]['Headcount'].sum(),female_part_education[female_part_education['Year'] == 2017]['Headcount'].sum(),\n",
    "female_part_education[female_part_education['Year'] == 2018]['Headcount'].sum()])\n",
    "\n",
    "#family\n",
    "male_part_fam_trend=np.array([male_part_family[male_part_family['Year'] == 2014]['Headcount'].sum(),male_part_family[male_part_family['Year'] == 2015]['Headcount'].sum(),male_part_family[male_part_family['Year'] == 2016]['Headcount'].sum(),male_part_family[male_part_family['Year'] == 2017]['Headcount'].sum(),\n",
    "male_part_family[male_part_family['Year'] == 2018]['Headcount'].sum()])\n",
    "female_part_fam_trend=np.array([female_part_family[female_part_family['Year'] == 2014]['Headcount'].sum(),female_part_family[female_part_family['Year'] == 2015]['Headcount'].sum(),female_part_family[female_part_family['Year'] == 2016]['Headcount'].sum(),female_part_family[female_part_family['Year'] == 2017]['Headcount'].sum(),\n",
    "female_part_family[female_part_family['Year'] == 2018]['Headcount'].sum()])\n",
    "\n",
    "#finance\n",
    "male_part_finance_trend=np.array([male_part_finance[male_part_finance['Year'] == 2014]['Headcount'].sum(),male_part_finance[male_part_finance['Year'] == 2015]['Headcount'].sum(),male_part_finance[male_part_finance['Year'] == 2016]['Headcount'].sum(),male_part_finance[male_part_finance['Year'] == 2017]['Headcount'].sum(),\n",
    "male_part_finance[male_part_finance['Year'] == 2018]['Headcount'].sum()])\n",
    "female_part_finance_trend=np.array([female_part_finance[female_part_finance['Year'] == 2014]['Headcount'].sum(),female_part_finance[female_part_finance['Year'] == 2015]['Headcount'].sum(),female_part_finance[female_part_finance['Year'] == 2016]['Headcount'].sum(),female_part_finance[female_part_finance['Year'] == 2017]['Headcount'].sum(),\n",
    "female_part_finance[female_part_finance['Year'] == 2018]['Headcount'].sum()])\n",
    "\n",
    "#health\n",
    "male_part_health_trend=np.array([male_part_health[male_part_health['Year'] == 2014]['Headcount'].sum(),male_part_health[male_part_health['Year'] == 2015]['Headcount'].sum(),male_part_health[male_part_health['Year'] == 2016]['Headcount'].sum(),male_part_health[male_part_health['Year'] == 2017]['Headcount'].sum(),\n",
    "male_part_health[male_part_health['Year'] == 2018]['Headcount'].sum()])\n",
    "female_part_health_trend=np.array([female_part_health[female_part_health['Year'] == 2014]['Headcount'].sum(),female_part_health[female_part_health['Year'] == 2015]['Headcount'].sum(),female_part_health[female_part_health['Year'] == 2016]['Headcount'].sum(),female_part_health[female_part_health['Year'] == 2017]['Headcount'].sum(),\n",
    "female_part_health[female_part_health['Year'] == 2018]['Headcount'].sum()])\n",
    "\n",
    "#industry\n",
    "male_part_industry_trend=np.array([male_part_industry[male_part_industry['Year'] == 2014]['Headcount'].sum(),male_part_industry[male_part_industry['Year'] == 2015]['Headcount'].sum(),male_part_industry[male_part_industry['Year'] == 2016]['Headcount'].sum(),male_part_industry[male_part_industry['Year'] == 2017]['Headcount'].sum(),\n",
    "male_part_industry[male_part_industry['Year'] == 2018]['Headcount'].sum()])\n",
    "female_part_industry_trend=np.array([female_part_industry[female_part_industry['Year'] == 2014]['Headcount'].sum(),female_part_industry[female_part_industry['Year'] == 2015]['Headcount'].sum(),female_part_industry[female_part_industry['Year'] == 2016]['Headcount'].sum(),female_part_industry[female_part_industry['Year'] == 2017]['Headcount'].sum(),\n",
    "female_part_industry[female_part_industry['Year'] == 2018]['Headcount'].sum()])\n",
    "\n",
    "#justice\n",
    "male_part_justice_trend=np.array([male_part_justice[male_part_justice['Year'] == 2014]['Headcount'].sum(),male_part_justice[male_part_justice['Year'] == 2015]['Headcount'].sum(),male_part_justice[male_part_justice['Year'] == 2016]['Headcount'].sum(),male_part_justice[male_part_justice['Year'] == 2017]['Headcount'].sum(),\n",
    "male_part_justice[male_part_justice['Year'] == 2018]['Headcount'].sum()])\n",
    "female_part_justice_trend=np.array([female_part_justice[female_part_justice['Year'] == 2014]['Headcount'].sum(),female_part_justice[female_part_justice['Year'] == 2015]['Headcount'].sum(),female_part_justice[female_part_justice['Year'] == 2016]['Headcount'].sum(),female_part_justice[female_part_justice['Year'] == 2017]['Headcount'].sum(),\n",
    "female_part_justice[female_part_justice['Year'] == 2018]['Headcount'].sum()])\n",
    "\n",
    "#planning\n",
    "male_part_planning_trend=np.array([male_part_planning[male_part_planning['Year'] == 2014]['Headcount'].sum(),male_part_planning[male_part_planning['Year'] == 2015]['Headcount'].sum(),male_part_planning[male_part_planning['Year'] == 2016]['Headcount'].sum(),male_part_planning[male_part_planning['Year'] == 2017]['Headcount'].sum(),\n",
    "male_part_planning[male_part_planning['Year'] == 2018]['Headcount'].sum()])\n",
    "female_part_planning_trend=np.array([female_part_planning[female_part_planning['Year'] == 2014]['Headcount'].sum(),female_part_planning[female_part_planning['Year'] == 2015]['Headcount'].sum(),female_part_planning[female_part_planning['Year'] == 2016]['Headcount'].sum(),female_part_planning[female_part_planning['Year'] == 2017]['Headcount'].sum(),\n",
    "female_part_planning[female_part_planning['Year'] == 2018]['Headcount'].sum()])\n",
    "\n",
    "#premier\n",
    "male_part_premier_trend=np.array([male_part_premier[male_part_premier['Year'] == 2014]['Headcount'].sum(),male_part_premier[male_part_premier['Year'] == 2015]['Headcount'].sum(),male_part_premier[male_part_premier['Year'] == 2016]['Headcount'].sum(),male_part_premier[male_part_premier['Year'] == 2017]['Headcount'].sum(),\n",
    "male_part_premier[male_part_premier['Year'] == 2018]['Headcount'].sum()])\n",
    "female_part_premier_trend=np.array([female_part_premier[female_part_premier['Year'] == 2014]['Headcount'].sum(),female_part_premier[female_part_premier['Year'] == 2015]['Headcount'].sum(),female_part_premier[female_part_premier['Year'] == 2016]['Headcount'].sum(),female_part_premier[female_part_premier['Year'] == 2017]['Headcount'].sum(),\n",
    "female_part_premier[female_part_premier['Year'] == 2018]['Headcount'].sum()])\n",
    "\n",
    "#transport\n",
    "male_part_transport_trend=np.array([male_part_transport[male_part_transport['Year'] == 2014]['Headcount'].sum(),male_part_transport[male_part_transport['Year'] == 2015]['Headcount'].sum(),male_part_transport[male_part_transport['Year'] == 2016]['Headcount'].sum(),male_part_transport[male_part_transport['Year'] == 2017]['Headcount'].sum(),\n",
    "male_part_transport[male_part_transport['Year'] == 2018]['Headcount'].sum()])\n",
    "female_part_transport_trend=np.array([female_part_transport[female_part_transport['Year'] == 2014]['Headcount'].sum(),female_part_transport[female_part_transport['Year'] == 2015]['Headcount'].sum(),female_part_transport[female_part_transport['Year'] == 2016]['Headcount'].sum(),female_part_transport[female_part_transport['Year'] == 2017]['Headcount'].sum(),\n",
    "female_part_transport[female_part_transport['Year'] == 2018]['Headcount'].sum()])\n",
    "\n",
    "#treasury\n",
    "male_part_treasury_trend=np.array([male_part_treasury[male_part_treasury['Year'] == 2014]['Headcount'].sum(),male_part_treasury[male_part_treasury['Year'] == 2015]['Headcount'].sum(),male_part_treasury[male_part_treasury['Year'] == 2016]['Headcount'].sum(),male_part_treasury[male_part_treasury['Year'] == 2017]['Headcount'].sum(),\n",
    "male_part_treasury[male_part_treasury['Year'] == 2018]['Headcount'].sum()])\n",
    "female_part_treasury_trend=np.array([female_part_treasury[female_part_treasury['Year'] == 2014]['Headcount'].sum(),female_part_treasury[female_part_treasury['Year'] == 2015]['Headcount'].sum(),female_part_treasury[female_part_treasury['Year'] == 2016]['Headcount'].sum(),female_part_treasury[female_part_treasury['Year'] == 2017]['Headcount'].sum(),\n",
    "female_part_treasury[female_part_treasury['Year'] == 2018]['Headcount'].sum()])\n",
    "\n"
   ]
  },
  {
   "cell_type": "markdown",
   "metadata": {
    "id": "pWhJBIRKmguT"
   },
   "source": [
    "<h2>Education<h2>"
   ]
  },
  {
   "cell_type": "code",
   "execution_count": 36,
   "metadata": {
    "colab": {
     "base_uri": "https://localhost:8080/",
     "height": 295
    },
    "id": "QIlKUIAcmkwK",
    "outputId": "6d6e7ce8-fc67-4972-b685-fae76acc43ec"
   },
   "outputs": [
    {
     "data": {
      "image/png": "[encoded data removed]",
      "text/plain": [
       "<Figure size 432x288 with 1 Axes>"
      ]
     },
     "metadata": {
      "needs_background": "light"
     },
     "output_type": "display_data"
    }
   ],
   "source": [
    "X = ['2014','2015','2016','2017','2018']\n",
    "  \n",
    "X_axis = np.arange(len(X))\n",
    "  \n",
    "plt.bar(X_axis - 0.2, male_part_edu_trend, 0.4, label = 'Male')\n",
    "plt.bar(X_axis + 0.2, female_part_edu_trend, 0.4, label = 'Female')\n",
    "  \n",
    "plt.xticks(X_axis, X)\n",
    "plt.xlabel(\"Years\")\n",
    "plt.ylabel(\"Total Count\")\n",
    "plt.title(\"Education Employees\")\n",
    "plt.legend()\n",
    "plt.show()"
   ]
  },
  {
   "cell_type": "markdown",
   "metadata": {},
   "source": [
    "Female group has significantly bigger number of employees in education sector than males."
   ]
  },
  {
   "cell_type": "code",
   "execution_count": 38,
   "metadata": {
    "colab": {
     "base_uri": "https://localhost:8080/",
     "height": 295
    },
    "id": "kPrCuFPqm9ZL",
    "outputId": "c4a1e404-4cee-4d4f-e2c2-b9d2676505a6"
   },
   "outputs": [
    {
     "data": {
      "image/png": "[encoded data removed]",
      "text/plain": [
       "<Figure size 432x288 with 1 Axes>"
      ]
     },
     "metadata": {
      "needs_background": "light"
     },
     "output_type": "display_data"
    }
   ],
   "source": [
    "Year =['2014','2015','2016','2017','2018']\n",
    "\n",
    "plt.plot(Year, male_part_edu_trend)\n",
    "plt.title('Male Education Employees Trends')\n",
    "plt.xlabel('Year')\n",
    "plt.ylabel('Male Education Employees')\n",
    "plt.show()"
   ]
  },
  {
   "cell_type": "markdown",
   "metadata": {},
   "source": [
    "The male group shows drastic upward trends from 2016."
   ]
  },
  {
   "cell_type": "code",
   "execution_count": 39,
   "metadata": {
    "colab": {
     "base_uri": "https://localhost:8080/",
     "height": 295
    },
    "id": "VbeEYolGn4er",
    "outputId": "4daeb079-ddd4-49f3-a3f9-12bd17d59585"
   },
   "outputs": [
    {
     "data": {
      "image/png": "[encoded data removed]",
      "text/plain": [
       "<Figure size 432x288 with 1 Axes>"
      ]
     },
     "metadata": {
      "needs_background": "light"
     },
     "output_type": "display_data"
    }
   ],
   "source": [
    "Year =['2014','2015','2016','2017','2018']\n",
    "\n",
    "plt.plot(Year, female_part_edu_trend)\n",
    "plt.title('Female Education Employees Trends')\n",
    "plt.xlabel('Year')\n",
    "plt.ylabel('Female Education Employees')\n",
    "plt.show()"
   ]
  },
  {
   "cell_type": "markdown",
   "metadata": {},
   "source": [
    "The female group shows upward trends too, but its growth slope is reduced from 2016.\n",
    "In conclusion, female employees growth will either stop or decrease around 2025.\n",
    "On the other hand, male employees growth will be keep increasing for few years."
   ]
  },
  {
   "cell_type": "markdown",
   "metadata": {
    "id": "XCkzyM5koOIb"
   },
   "source": [
    "<h2>Family<h2>"
   ]
  },
  {
   "cell_type": "code",
   "execution_count": 43,
   "metadata": {
    "colab": {
     "base_uri": "https://localhost:8080/",
     "height": 295
    },
    "id": "yvXcEF5_oOIb",
    "outputId": "3e08c9a4-b845-4b23-8624-789b9e8c355c"
   },
   "outputs": [
    {
     "data": {
      "image/png": "[encoded data removed]",
      "text/plain": [
       "<Figure size 432x288 with 1 Axes>"
      ]
     },
     "metadata": {
      "needs_background": "light"
     },
     "output_type": "display_data"
    }
   ],
   "source": [
    "X = ['2014','2015','2016','2017','2018']\n",
    "  \n",
    "X_axis = np.arange(len(X))\n",
    "  \n",
    "plt.bar(X_axis - 0.2, male_part_fam_trend, 0.4, label = 'Male')\n",
    "plt.bar(X_axis + 0.2, female_part_fam_trend, 0.4, label = 'Female')\n",
    "  \n",
    "plt.xticks(X_axis, X)\n",
    "plt.xlabel(\"Years\")\n",
    "plt.ylabel(\"Total Count\")\n",
    "plt.title(\"Family Employees\")\n",
    "plt.legend()\n",
    "plt.show()"
   ]
  },
  {
   "cell_type": "markdown",
   "metadata": {},
   "source": [
    "The female group is larger than males, and they both have downward trends."
   ]
  },
  {
   "cell_type": "code",
   "execution_count": 44,
   "metadata": {
    "colab": {
     "base_uri": "https://localhost:8080/",
     "height": 295
    },
    "id": "mbygcotkoOIc",
    "outputId": "eee15665-6d30-4636-caf0-c99280b1e448"
   },
   "outputs": [
    {
     "data": {
      "image/png": "[encoded data removed]",
      "text/plain": [
       "<Figure size 432x288 with 1 Axes>"
      ]
     },
     "metadata": {
      "needs_background": "light"
     },
     "output_type": "display_data"
    }
   ],
   "source": [
    "Year =['2014','2015','2016','2017','2018']\n",
    "\n",
    "plt.plot(Year, male_part_fam_trend)\n",
    "plt.title('Male Family Employees Trends')\n",
    "plt.xlabel('Year')\n",
    "plt.ylabel('Male Family Employees')\n",
    "plt.show()"
   ]
  },
  {
   "cell_type": "markdown",
   "metadata": {},
   "source": [
    "The number of male employees in family sector drastically reduced after 2017."
   ]
  },
  {
   "cell_type": "code",
   "execution_count": 45,
   "metadata": {
    "colab": {
     "base_uri": "https://localhost:8080/",
     "height": 295
    },
    "id": "PJUWS3nyoOIc",
    "outputId": "5fb2c507-9c09-4ada-d3b7-2c1806980c05"
   },
   "outputs": [
    {
     "data": {
      "image/png": "[encoded data removed]",
      "text/plain": [
       "<Figure size 432x288 with 1 Axes>"
      ]
     },
     "metadata": {
      "needs_background": "light"
     },
     "output_type": "display_data"
    }
   ],
   "source": [
    "Year =['2014','2015','2016','2017','2018']\n",
    "\n",
    "plt.plot(Year, female_part_fam_trend)\n",
    "plt.title('Female Family Employees Trends')\n",
    "plt.xlabel('Year')\n",
    "plt.ylabel('Female Family Employees')\n",
    "plt.show()"
   ]
  },
  {
   "cell_type": "markdown",
   "metadata": {},
   "source": [
    "The number of female employees in family sector drastically reduced from 2015 to 2016."
   ]
  },
  {
   "cell_type": "markdown",
   "metadata": {
    "id": "ke1SDVk0pFIM"
   },
   "source": [
    "<h2>Finance<h2>"
   ]
  },
  {
   "cell_type": "code",
   "execution_count": 46,
   "metadata": {
    "colab": {
     "base_uri": "https://localhost:8080/",
     "height": 295
    },
    "id": "IX2xf6ZPpFIO",
    "outputId": "3c9429ef-de63-46b1-d4ac-56cea78d9592"
   },
   "outputs": [
    {
     "data": {
      "image/png": "[encoded data removed]",
      "text/plain": [
       "<Figure size 432x288 with 1 Axes>"
      ]
     },
     "metadata": {
      "needs_background": "light"
     },
     "output_type": "display_data"
    }
   ],
   "source": [
    "X = ['2014','2015','2016','2017','2018']\n",
    "  \n",
    "X_axis = np.arange(len(X))\n",
    "  \n",
    "plt.bar(X_axis - 0.2, male_part_finance_trend, 0.4, label = 'Male')\n",
    "plt.bar(X_axis + 0.2, female_part_finance_trend, 0.4, label = 'Female')\n",
    "  \n",
    "plt.xticks(X_axis, X)\n",
    "plt.xlabel(\"Years\")\n",
    "plt.ylabel(\"Total Count\")\n",
    "plt.title(\"Finance Employees\")\n",
    "plt.legend()\n",
    "plt.show()"
   ]
  },
  {
   "cell_type": "markdown",
   "metadata": {},
   "source": [
    "The number of female employees in the finance sector is more than double compare to males."
   ]
  },
  {
   "cell_type": "code",
   "execution_count": 47,
   "metadata": {
    "colab": {
     "base_uri": "https://localhost:8080/",
     "height": 295
    },
    "id": "P7iuPa-IpFIP",
    "outputId": "a6966ecf-f4f1-42a0-fa4b-acfbf33a0ff9"
   },
   "outputs": [
    {
     "data": {
      "image/png": "[encoded data removed]",
      "text/plain": [
       "<Figure size 432x288 with 1 Axes>"
      ]
     },
     "metadata": {
      "needs_background": "light"
     },
     "output_type": "display_data"
    }
   ],
   "source": [
    "Year =['2014','2015','2016','2017','2018']\n",
    "\n",
    "plt.plot(Year, male_part_finance_trend)\n",
    "plt.title('Male Finance Employees Trends')\n",
    "plt.xlabel('Year')\n",
    "plt.ylabel('Male Finance Employees')\n",
    "plt.show()"
   ]
  },
  {
   "cell_type": "markdown",
   "metadata": {},
   "source": [
    "The number of male employees in finance sector drastically increased after 2016.\n",
    "It shows strong upward trends."
   ]
  },
  {
   "cell_type": "code",
   "execution_count": 48,
   "metadata": {
    "colab": {
     "base_uri": "https://localhost:8080/",
     "height": 295
    },
    "id": "tGU6lYIgpFIP",
    "outputId": "b594d724-cebd-4d9e-d5d1-b300b2c2a7af"
   },
   "outputs": [
    {
     "data": {
      "image/png": "[encoded data removed]",
      "text/plain": [
       "<Figure size 432x288 with 1 Axes>"
      ]
     },
     "metadata": {
      "needs_background": "light"
     },
     "output_type": "display_data"
    }
   ],
   "source": [
    "Year =['2014','2015','2016','2017','2018']\n",
    "\n",
    "plt.plot(Year, female_part_finance_trend)\n",
    "plt.title('Female Finance Employees Trends')\n",
    "plt.xlabel('Year')\n",
    "plt.ylabel('Female Finance Employees')\n",
    "plt.show()"
   ]
  },
  {
   "cell_type": "markdown",
   "metadata": {},
   "source": [
    "The number of female employees in the finance sector slightly shows downward trends after 2017.\n",
    "This downward trend might be continued till 2025."
   ]
  },
  {
   "cell_type": "markdown",
   "metadata": {
    "id": "iiPp2QEZpbJV"
   },
   "source": [
    "<h2>Health<h2>"
   ]
  },
  {
   "cell_type": "code",
   "execution_count": 49,
   "metadata": {
    "colab": {
     "base_uri": "https://localhost:8080/",
     "height": 295
    },
    "id": "ROeQ8AzlpbJW",
    "outputId": "b86a7899-6bf0-4942-a232-bd9f63479332"
   },
   "outputs": [
    {
     "data": {
      "image/png": "[encoded data removed]",
      "text/plain": [
       "<Figure size 432x288 with 1 Axes>"
      ]
     },
     "metadata": {
      "needs_background": "light"
     },
     "output_type": "display_data"
    }
   ],
   "source": [
    "X = ['2014','2015','2016','2017','2018']\n",
    "  \n",
    "X_axis = np.arange(len(X))\n",
    "  \n",
    "plt.bar(X_axis - 0.2, male_part_health_trend, 0.4, label = 'Male')\n",
    "plt.bar(X_axis + 0.2, female_part_health_trend, 0.4, label = 'Female')\n",
    "  \n",
    "plt.xticks(X_axis, X)\n",
    "plt.xlabel(\"Years\")\n",
    "plt.ylabel(\"Total Count\")\n",
    "plt.title(\"Health Employees\")\n",
    "plt.legend()\n",
    "plt.show()"
   ]
  },
  {
   "cell_type": "markdown",
   "metadata": {},
   "source": [
    "The number of female employees in the health sector indicates strong large gap compare to males."
   ]
  },
  {
   "cell_type": "code",
   "execution_count": 50,
   "metadata": {
    "colab": {
     "base_uri": "https://localhost:8080/",
     "height": 295
    },
    "id": "clv05HyjpbJX",
    "outputId": "cb562f51-5900-42c9-81b2-7a88893975fb"
   },
   "outputs": [
    {
     "data": {
      "image/png": "[encoded data removed]",
      "text/plain": [
       "<Figure size 432x288 with 1 Axes>"
      ]
     },
     "metadata": {
      "needs_background": "light"
     },
     "output_type": "display_data"
    }
   ],
   "source": [
    "Year =['2014','2015','2016','2017','2018']\n",
    "\n",
    "plt.plot(Year, male_part_health_trend)\n",
    "plt.title('Male Health Employees Trends')\n",
    "plt.xlabel('Year')\n",
    "plt.ylabel('Male Health Employees')\n",
    "plt.show()"
   ]
  },
  {
   "cell_type": "code",
   "execution_count": 51,
   "metadata": {
    "colab": {
     "base_uri": "https://localhost:8080/",
     "height": 295
    },
    "id": "tuDrGSiepbJX",
    "outputId": "aacda3dc-4e69-4a5f-cbb7-041b11edeb07"
   },
   "outputs": [
    {
     "data": {
      "image/png": "[encoded data removed]",
      "text/plain": [
       "<Figure size 432x288 with 1 Axes>"
      ]
     },
     "metadata": {
      "needs_background": "light"
     },
     "output_type": "display_data"
    }
   ],
   "source": [
    "Year =['2014','2015','2016','2017','2018']\n",
    "\n",
    "plt.plot(Year, female_part_health_trend)\n",
    "plt.title('Female Health Employees Trends')\n",
    "plt.xlabel('Year')\n",
    "plt.ylabel('Female Health Employees')\n",
    "plt.show()"
   ]
  },
  {
   "cell_type": "markdown",
   "metadata": {},
   "source": [
    "Both graph represent strong upward trend, so I can guess health sector employees will be increased till 2025."
   ]
  },
  {
   "cell_type": "markdown",
   "metadata": {
    "id": "-Rjwk3M2puTI"
   },
   "source": [
    "<h2>Industry<h2>"
   ]
  },
  {
   "cell_type": "code",
   "execution_count": 52,
   "metadata": {
    "colab": {
     "base_uri": "https://localhost:8080/",
     "height": 295
    },
    "id": "H5mzYs-_puTJ",
    "outputId": "6bf9fca2-7ed6-4122-c31f-900068a705ee"
   },
   "outputs": [
    {
     "data": {
      "image/png": "[encoded data removed]",
      "text/plain": [
       "<Figure size 432x288 with 1 Axes>"
      ]
     },
     "metadata": {
      "needs_background": "light"
     },
     "output_type": "display_data"
    }
   ],
   "source": [
    "X = ['2014','2015','2016','2017','2018']\n",
    "  \n",
    "X_axis = np.arange(len(X))\n",
    "  \n",
    "plt.bar(X_axis - 0.2, male_part_industry_trend, 0.4, label = 'Male')\n",
    "plt.bar(X_axis + 0.2, female_part_industry_trend, 0.4, label = 'Female')\n",
    "  \n",
    "plt.xticks(X_axis, X)\n",
    "plt.xlabel(\"Years\")\n",
    "plt.ylabel(\"Total Count\")\n",
    "plt.title(\"Industry Employees\")\n",
    "plt.legend()\n",
    "plt.show()"
   ]
  },
  {
   "cell_type": "markdown",
   "metadata": {},
   "source": [
    "Both graph represent downward trend, so I can guess industry sector employees will be decreased till 2025."
   ]
  },
  {
   "cell_type": "code",
   "execution_count": 53,
   "metadata": {
    "colab": {
     "base_uri": "https://localhost:8080/",
     "height": 295
    },
    "id": "RamFE-QHpuTJ",
    "outputId": "6cf55bf2-747c-4fd4-dce9-ec7baf33cb3f"
   },
   "outputs": [
    {
     "data": {
      "image/png": "[encoded data removed]",
      "text/plain": [
       "<Figure size 432x288 with 1 Axes>"
      ]
     },
     "metadata": {
      "needs_background": "light"
     },
     "output_type": "display_data"
    }
   ],
   "source": [
    "Year =['2014','2015','2016','2017','2018']\n",
    "\n",
    "plt.plot(Year, male_part_industry_trend)\n",
    "plt.title('Male Industry Employees Trends')\n",
    "plt.xlabel('Year')\n",
    "plt.ylabel('Male Industry Employees')\n",
    "plt.show()"
   ]
  },
  {
   "cell_type": "markdown",
   "metadata": {},
   "source": [
    "Very few males are employeed in 2018(less than 150)"
   ]
  },
  {
   "cell_type": "code",
   "execution_count": 54,
   "metadata": {
    "colab": {
     "base_uri": "https://localhost:8080/",
     "height": 295
    },
    "id": "Ymc8CDQBpuTK",
    "outputId": "d0c7b042-5c10-4d1f-ca9e-c0ba54d95d93"
   },
   "outputs": [
    {
     "data": {
      "image/png": "[encoded data removed]",
      "text/plain": [
       "<Figure size 432x288 with 1 Axes>"
      ]
     },
     "metadata": {
      "needs_background": "light"
     },
     "output_type": "display_data"
    }
   ],
   "source": [
    "Year =['2014','2015','2016','2017','2018']\n",
    "\n",
    "plt.plot(Year, female_part_industry_trend)\n",
    "plt.title('Female Industry Employees Trends')\n",
    "plt.xlabel('Year')\n",
    "plt.ylabel('Female Industry Employees')\n",
    "plt.show()"
   ]
  },
  {
   "cell_type": "markdown",
   "metadata": {},
   "source": [
    " The graph represent downward trend."
   ]
  },
  {
   "cell_type": "markdown",
   "metadata": {
    "id": "BYX9FnbfqIpW"
   },
   "source": [
    "<h2>Justice<h2>"
   ]
  },
  {
   "cell_type": "code",
   "execution_count": 55,
   "metadata": {
    "colab": {
     "base_uri": "https://localhost:8080/",
     "height": 295
    },
    "id": "4anMIwG8qIpX",
    "outputId": "4d71e4c2-4de1-4530-d393-05ca714a3ba3"
   },
   "outputs": [
    {
     "data": {
      "image/png": "[encoded data removed]",
      "text/plain": [
       "<Figure size 432x288 with 1 Axes>"
      ]
     },
     "metadata": {
      "needs_background": "light"
     },
     "output_type": "display_data"
    }
   ],
   "source": [
    "X = ['2014','2015','2016','2017','2018']\n",
    "  \n",
    "X_axis = np.arange(len(X))\n",
    "  \n",
    "plt.bar(X_axis - 0.2, male_part_justice_trend, 0.4, label = 'Male')\n",
    "plt.bar(X_axis + 0.2, female_part_justice_trend, 0.4, label = 'Female')\n",
    "  \n",
    "plt.xticks(X_axis, X)\n",
    "plt.xlabel(\"Years\")\n",
    "plt.ylabel(\"Total Count\")\n",
    "plt.title(\"Justice Employees\")\n",
    "plt.legend()\n",
    "plt.show()"
   ]
  },
  {
   "cell_type": "code",
   "execution_count": 56,
   "metadata": {
    "colab": {
     "base_uri": "https://localhost:8080/",
     "height": 295
    },
    "id": "-SBdhaAAqIpY",
    "outputId": "3c090208-665c-483b-ee80-1e0c9dd5c43a"
   },
   "outputs": [
    {
     "data": {
      "image/png": "[encoded data removed]",
      "text/plain": [
       "<Figure size 432x288 with 1 Axes>"
      ]
     },
     "metadata": {
      "needs_background": "light"
     },
     "output_type": "display_data"
    }
   ],
   "source": [
    "Year =['2014','2015','2016','2017','2018']\n",
    "\n",
    "plt.plot(Year, male_part_justice_trend)\n",
    "plt.title('Male Justice Employees Trends')\n",
    "plt.xlabel('Year')\n",
    "plt.ylabel('Male Justice Employees')\n",
    "plt.show()"
   ]
  },
  {
   "cell_type": "code",
   "execution_count": 57,
   "metadata": {
    "colab": {
     "base_uri": "https://localhost:8080/",
     "height": 295
    },
    "id": "_BZNqx82qIpY",
    "outputId": "619b6c2e-85fd-4d07-fbb5-6c162a58f03a"
   },
   "outputs": [
    {
     "data": {
      "image/png": "[encoded data removed]",
      "text/plain": [
       "<Figure size 432x288 with 1 Axes>"
      ]
     },
     "metadata": {
      "needs_background": "light"
     },
     "output_type": "display_data"
    }
   ],
   "source": [
    "Year =['2014','2015','2016','2017','2018']\n",
    "\n",
    "plt.plot(Year, female_part_justice_trend)\n",
    "plt.title('Female Justice Employees Trends')\n",
    "plt.xlabel('Year')\n",
    "plt.ylabel('Female Justice Employees')\n",
    "plt.show()"
   ]
  },
  {
   "cell_type": "markdown",
   "metadata": {},
   "source": [
    "Both graphs represent a similar pattern. They had a slight fall in 2016 but recovered and showing a upward trend at the moment."
   ]
  },
  {
   "cell_type": "markdown",
   "metadata": {
    "id": "ynwOgF3erC4w"
   },
   "source": [
    "<h2>Planning<h2>"
   ]
  },
  {
   "cell_type": "code",
   "execution_count": 58,
   "metadata": {
    "colab": {
     "base_uri": "https://localhost:8080/",
     "height": 295
    },
    "id": "kRlixL7trC4x",
    "outputId": "ef7347ce-b1e7-435e-da7a-0375b5920f92"
   },
   "outputs": [
    {
     "data": {
      "image/png": "[encoded data removed]",
      "text/plain": [
       "<Figure size 432x288 with 1 Axes>"
      ]
     },
     "metadata": {
      "needs_background": "light"
     },
     "output_type": "display_data"
    }
   ],
   "source": [
    "X = ['2014','2015','2016','2017','2018']\n",
    "  \n",
    "X_axis = np.arange(len(X))\n",
    "  \n",
    "plt.bar(X_axis - 0.2, male_part_planning_trend, 0.4, label = 'Male')\n",
    "plt.bar(X_axis + 0.2, female_part_planning_trend, 0.4, label = 'Female')\n",
    "  \n",
    "plt.xticks(X_axis, X)\n",
    "plt.xlabel(\"Years\")\n",
    "plt.ylabel(\"Total Count\")\n",
    "plt.title(\"Planning Employees\")\n",
    "plt.legend()\n",
    "plt.show()"
   ]
  },
  {
   "cell_type": "code",
   "execution_count": 59,
   "metadata": {
    "colab": {
     "base_uri": "https://localhost:8080/",
     "height": 295
    },
    "id": "JKTNO9JqrC4y",
    "outputId": "cd9d6c57-d1b8-4034-a330-a05125065169"
   },
   "outputs": [
    {
     "data": {
      "image/png": "[encoded data removed]",
      "text/plain": [
       "<Figure size 432x288 with 1 Axes>"
      ]
     },
     "metadata": {
      "needs_background": "light"
     },
     "output_type": "display_data"
    }
   ],
   "source": [
    "Year =['2014','2015','2016','2017','2018']\n",
    "\n",
    "plt.plot(Year, male_part_planning_trend)\n",
    "plt.title('Male Planning Employees Trends')\n",
    "plt.xlabel('Year')\n",
    "plt.ylabel('Male Planning Employees')\n",
    "plt.show()"
   ]
  },
  {
   "cell_type": "code",
   "execution_count": 60,
   "metadata": {
    "colab": {
     "base_uri": "https://localhost:8080/",
     "height": 295
    },
    "id": "38UdbUn7rC4y",
    "outputId": "3bb13662-5ff7-4977-cccf-b291c98dace8"
   },
   "outputs": [
    {
     "data": {
      "image/png": "[encoded data removed]",
      "text/plain": [
       "<Figure size 432x288 with 1 Axes>"
      ]
     },
     "metadata": {
      "needs_background": "light"
     },
     "output_type": "display_data"
    }
   ],
   "source": [
    "Year =['2014','2015','2016','2017','2018']\n",
    "\n",
    "plt.plot(Year, female_part_planning_trend)\n",
    "plt.title('Female Planning Employees Trends')\n",
    "plt.xlabel('Year')\n",
    "plt.ylabel('Female Planning Employees')\n",
    "plt.show()"
   ]
  },
  {
   "cell_type": "markdown",
   "metadata": {},
   "source": [
    "Both graphs represent a similar pattern. They had an increase from 2016 to 2017 but fall down right after, so it is really hard to predict 2025."
   ]
  },
  {
   "cell_type": "markdown",
   "metadata": {
    "id": "ALMNjWsOrYSM"
   },
   "source": [
    "<h2>Premier<h2>"
   ]
  },
  {
   "cell_type": "code",
   "execution_count": 61,
   "metadata": {
    "colab": {
     "base_uri": "https://localhost:8080/",
     "height": 295
    },
    "id": "JXPAWNEyrYSO",
    "outputId": "5a14143e-43dd-4da6-da20-bc7b9d07bab8"
   },
   "outputs": [
    {
     "data": {
      "image/png": "[encoded data removed]",
      "text/plain": [
       "<Figure size 432x288 with 1 Axes>"
      ]
     },
     "metadata": {
      "needs_background": "light"
     },
     "output_type": "display_data"
    }
   ],
   "source": [
    "X = ['2014','2015','2016','2017','2018']\n",
    "  \n",
    "X_axis = np.arange(len(X))\n",
    "  \n",
    "plt.bar(X_axis - 0.2, male_part_premier_trend, 0.4, label = 'Male')\n",
    "plt.bar(X_axis + 0.2, female_part_premier_trend, 0.4, label = 'Female')\n",
    "  \n",
    "plt.xticks(X_axis, X)\n",
    "plt.xlabel(\"Years\")\n",
    "plt.ylabel(\"Total Count\")\n",
    "plt.title(\"Premier Employees\")\n",
    "plt.legend()\n",
    "plt.show()"
   ]
  },
  {
   "cell_type": "code",
   "execution_count": 62,
   "metadata": {
    "colab": {
     "base_uri": "https://localhost:8080/",
     "height": 295
    },
    "id": "NISgRAQWrYSO",
    "outputId": "cff23a1f-f39e-47c9-a127-1cbbb0ae84c7"
   },
   "outputs": [
    {
     "data": {
      "image/png": "[encoded data removed]",
      "text/plain": [
       "<Figure size 432x288 with 1 Axes>"
      ]
     },
     "metadata": {
      "needs_background": "light"
     },
     "output_type": "display_data"
    }
   ],
   "source": [
    "Year =['2014','2015','2016','2017','2018']\n",
    "\n",
    "plt.plot(Year, male_part_premier_trend)\n",
    "plt.title('Male Premier Employees Trends')\n",
    "plt.xlabel('Year')\n",
    "plt.ylabel('Male Premier Employees')\n",
    "plt.show()"
   ]
  },
  {
   "cell_type": "markdown",
   "metadata": {},
   "source": [
    "The graph is really unstable, so it is hard to guess the 2025 trend."
   ]
  },
  {
   "cell_type": "code",
   "execution_count": 63,
   "metadata": {
    "colab": {
     "base_uri": "https://localhost:8080/",
     "height": 295
    },
    "id": "7ojXypAtrYSP",
    "outputId": "5bbb5944-3b18-4dea-9cc1-b1c587947d08"
   },
   "outputs": [
    {
     "data": {
      "image/png": "[encoded data removed]",
      "text/plain": [
       "<Figure size 432x288 with 1 Axes>"
      ]
     },
     "metadata": {
      "needs_background": "light"
     },
     "output_type": "display_data"
    }
   ],
   "source": [
    "Year =['2014','2015','2016','2017','2018']\n",
    "\n",
    "plt.plot(Year, female_part_premier_trend)\n",
    "plt.title('Female Premier Employees Trends')\n",
    "plt.xlabel('Year')\n",
    "plt.ylabel('Female Premier Employees')\n",
    "plt.show()"
   ]
  },
  {
   "cell_type": "markdown",
   "metadata": {},
   "source": [
    "The female employees keep increasing since 2014, but the slope is getting lower. Therefore, I assume that the growth would be steady in 2025."
   ]
  },
  {
   "cell_type": "markdown",
   "metadata": {
    "id": "54HbWnD7rqsO"
   },
   "source": [
    "<h2>Transport<h2>"
   ]
  },
  {
   "cell_type": "code",
   "execution_count": 64,
   "metadata": {
    "colab": {
     "base_uri": "https://localhost:8080/",
     "height": 295
    },
    "id": "_aQun-gDrqsP",
    "outputId": "d51055a6-b5d5-458f-daf3-8b0f7dfa8ee8"
   },
   "outputs": [
    {
     "data": {
      "image/png": "[encoded data removed]",
      "text/plain": [
       "<Figure size 432x288 with 1 Axes>"
      ]
     },
     "metadata": {
      "needs_background": "light"
     },
     "output_type": "display_data"
    }
   ],
   "source": [
    "X = ['2014','2015','2016','2017','2018']\n",
    "  \n",
    "X_axis = np.arange(len(X))\n",
    "  \n",
    "plt.bar(X_axis - 0.2, male_part_transport_trend, 0.4, label = 'Male')\n",
    "plt.bar(X_axis + 0.2, female_part_transport_trend, 0.4, label = 'Female')\n",
    "  \n",
    "plt.xticks(X_axis, X)\n",
    "plt.xlabel(\"Years\")\n",
    "plt.ylabel(\"Total Count\")\n",
    "plt.title(\"Transport Employees\")\n",
    "plt.legend()\n",
    "plt.show()"
   ]
  },
  {
   "cell_type": "code",
   "execution_count": 65,
   "metadata": {
    "colab": {
     "base_uri": "https://localhost:8080/",
     "height": 295
    },
    "id": "iYiM11rbrqsP",
    "outputId": "bfdcb829-c7bd-4d7a-f9e4-98192d73d42c"
   },
   "outputs": [
    {
     "data": {
      "image/png": "[encoded data removed]",
      "text/plain": [
       "<Figure size 432x288 with 1 Axes>"
      ]
     },
     "metadata": {
      "needs_background": "light"
     },
     "output_type": "display_data"
    }
   ],
   "source": [
    "Year =['2014','2015','2016','2017','2018']\n",
    "\n",
    "plt.plot(Year, male_part_transport_trend)\n",
    "plt.title('Male Transport Employees Trends')\n",
    "plt.xlabel('Year')\n",
    "plt.ylabel('Male Transport Employees')\n",
    "plt.show()"
   ]
  },
  {
   "cell_type": "code",
   "execution_count": 66,
   "metadata": {
    "colab": {
     "base_uri": "https://localhost:8080/",
     "height": 295
    },
    "id": "o8vbL1hirqsP",
    "outputId": "08b1051a-64ab-49c4-91f2-a3fc9b64d839"
   },
   "outputs": [
    {
     "data": {
      "image/png": "[encoded data removed]",
      "text/plain": [
       "<Figure size 432x288 with 1 Axes>"
      ]
     },
     "metadata": {
      "needs_background": "light"
     },
     "output_type": "display_data"
    }
   ],
   "source": [
    "Year =['2014','2015','2016','2017','2018']\n",
    "\n",
    "plt.plot(Year, female_part_transport_trend)\n",
    "plt.title('Female Transport Employees Trends')\n",
    "plt.xlabel('Year')\n",
    "plt.ylabel('Female Transport Employees')\n",
    "plt.show()"
   ]
  },
  {
   "cell_type": "markdown",
   "metadata": {},
   "source": [
    "Each graph indicates the opposite trend. While the number of female employees is decreasing, the number of male employees is increasing. In 2017, for the first time, the number of male employees surpassed females.I can assume there will be more gaps in 2025."
   ]
  },
  {
   "cell_type": "markdown",
   "metadata": {
    "id": "FFpO4EqDr9yq"
   },
   "source": [
    "<h2>Treasury<h2>"
   ]
  },
  {
   "cell_type": "code",
   "execution_count": 67,
   "metadata": {
    "colab": {
     "base_uri": "https://localhost:8080/",
     "height": 295
    },
    "id": "QYRkzksRr9yr",
    "outputId": "2368132b-57d5-4498-e26b-4661135c7bc8"
   },
   "outputs": [
    {
     "data": {
      "image/png": "[encoded data removed]",
      "text/plain": [
       "<Figure size 432x288 with 1 Axes>"
      ]
     },
     "metadata": {
      "needs_background": "light"
     },
     "output_type": "display_data"
    }
   ],
   "source": [
    "X = ['2014','2015','2016','2017','2018']\n",
    "  \n",
    "X_axis = np.arange(len(X))\n",
    "  \n",
    "plt.bar(X_axis - 0.2, male_part_treasury_trend, 0.4, label = 'Male')\n",
    "plt.bar(X_axis + 0.2, female_part_treasury_trend, 0.4, label = 'Female')\n",
    "  \n",
    "plt.xticks(X_axis, X)\n",
    "plt.xlabel(\"Years\")\n",
    "plt.ylabel(\"Total Count\")\n",
    "plt.title(\"Treasury Employees\")\n",
    "plt.legend()\n",
    "plt.show()"
   ]
  },
  {
   "cell_type": "code",
   "execution_count": 68,
   "metadata": {
    "colab": {
     "base_uri": "https://localhost:8080/",
     "height": 295
    },
    "id": "j3FXf2hQr9ys",
    "outputId": "cd370120-bea3-4796-f252-9aa31f223cf6"
   },
   "outputs": [
    {
     "data": {
      "image/png": "[encoded data removed]",
      "text/plain": [
       "<Figure size 432x288 with 1 Axes>"
      ]
     },
     "metadata": {
      "needs_background": "light"
     },
     "output_type": "display_data"
    }
   ],
   "source": [
    "Year =['2014','2015','2016','2017','2018']\n",
    "\n",
    "plt.plot(Year, male_part_treasury_trend)\n",
    "plt.title('Male Treasury Employees Trends')\n",
    "plt.xlabel('Year')\n",
    "plt.ylabel('Male Treasury Employees')\n",
    "plt.show()"
   ]
  },
  {
   "cell_type": "code",
   "execution_count": 69,
   "metadata": {
    "colab": {
     "base_uri": "https://localhost:8080/",
     "height": 295
    },
    "id": "Ik8Duvmgr9ys",
    "outputId": "c8766221-10f2-4ec4-d41d-eb7f4cee4b3a"
   },
   "outputs": [
    {
     "data": {
      "image/png": "[encoded data removed]",
      "text/plain": [
       "<Figure size 432x288 with 1 Axes>"
      ]
     },
     "metadata": {
      "needs_background": "light"
     },
     "output_type": "display_data"
    }
   ],
   "source": [
    "Year =['2014','2015','2016','2017','2018']\n",
    "\n",
    "plt.plot(Year, female_part_treasury_trend)\n",
    "plt.title('Female Treasury Employees Trends')\n",
    "plt.xlabel('Year')\n",
    "plt.ylabel('Female Treasury Employees')\n",
    "plt.show()"
   ]
  },
  {
   "cell_type": "markdown",
   "metadata": {},
   "source": [
    "Both graphs represent a similar pattern. They had an increase from 2014 to 2015 but fall down right after and recover from 2017 to 2018, so it is really hard to predict 2025."
   ]
  }
 ],
 "metadata": {
  "colab": {
   "collapsed_sections": [],
   "name": "nsw_data.ipynb",
   "provenance": []
  },
  "kernelspec": {
   "display_name": "Python 3 (ipykernel)",
   "language": "python",
   "name": "python3"
  },
  "language_info": {
   "codemirror_mode": {
    "name": "ipython",
    "version": 3
   },
   "file_extension": ".py",
   "mimetype": "text/x-python",
   "name": "python",
   "nbconvert_exporter": "python",
   "pygments_lexer": "ipython3",
   "version": "3.9.10"
  }
 },
 "nbformat": 4,
 "nbformat_minor": 1
}
